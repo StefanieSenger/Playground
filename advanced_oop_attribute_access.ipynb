{
 "cells": [
  {
   "cell_type": "markdown",
   "id": "202085d3",
   "metadata": {},
   "source": [
    "# Advanced OOP\n",
    "Here, I follow the LinkedIn Learning course [Advanced Python: Object-Oriented\n",
    "Programming](https://www.linkedin.com/learning/advanced-python-object-oriented-programming/advanced-object-oriented-programming-oop?resume=false&u=72605090)\n",
    "by Miki Tebeka and try the code. Here is the [course repo](https://github.com/LinkedInLearning/advanced-python-object-oriented-programming-4510177) (it is very good). I have added quite some additional explanations from ChatGPT, that I needed to understand, and also some additional exercises.\n",
    "\n",
    "## Part 1: Attribute Access\n",
    "\n",
    "### Class attribute access"
   ]
  },
  {
   "cell_type": "code",
   "execution_count": null,
   "id": "325bd338",
   "metadata": {},
   "outputs": [
    {
     "name": "stdout",
     "output_type": "stream",
     "text": [
      "self: 1\n",
      "Player: 0\n"
     ]
    }
   ],
   "source": [
    "# what can go wrong with class attributes\n",
    "\n",
    "class Player:\n",
    "    num_players = 0  # Class attribute\n",
    "\n",
    "    def __init__(self, name):\n",
    "        self.name = name\n",
    "        self.num_players += 1 # intention: updating class attribute\n",
    "        print('self:', self.num_players)\n",
    "\n",
    "\n",
    "p1 = Player('Parzival')\n",
    "print('Player:', Player.num_players) \n",
    "# maybe surprise(not so much actually) : class attribute was not updated; that is\n",
    "# because we had updated the instance attribute, not the class attribute"
   ]
  },
  {
   "cell_type": "code",
   "execution_count": null,
   "id": "956c8453",
   "metadata": {},
   "outputs": [
    {
     "name": "stdout",
     "output_type": "stream",
     "text": [
      "found id in instance\n",
      "9e99929\n",
      "found cpu_family in class\n",
      "arm64\n",
      "found version in parent 'VM'\n",
      "1.2.3\n"
     ]
    },
    {
     "ename": "AttributeError",
     "evalue": "nic",
     "output_type": "error",
     "traceback": [
      "\u001b[31m---------------------------------------------------------------------------\u001b[39m",
      "\u001b[31mAttributeError\u001b[39m                            Traceback (most recent call last)",
      "\u001b[36mCell\u001b[39m\u001b[36m \u001b[39m\u001b[32mIn[3]\u001b[39m\u001b[32m, line 38\u001b[39m\n\u001b[32m     36\u001b[39m \u001b[38;5;28mprint\u001b[39m(find_attribute(a1, \u001b[33m'\u001b[39m\u001b[33mcpu_family\u001b[39m\u001b[33m'\u001b[39m))\n\u001b[32m     37\u001b[39m \u001b[38;5;28mprint\u001b[39m(find_attribute(a1, \u001b[33m'\u001b[39m\u001b[33mversion\u001b[39m\u001b[33m'\u001b[39m))\n\u001b[32m---> \u001b[39m\u001b[32m38\u001b[39m \u001b[38;5;28mprint\u001b[39m(\u001b[43mfind_attribute\u001b[49m\u001b[43m(\u001b[49m\u001b[43ma1\u001b[49m\u001b[43m,\u001b[49m\u001b[43m \u001b[49m\u001b[33;43m'\u001b[39;49m\u001b[33;43mnic\u001b[39;49m\u001b[33;43m'\u001b[39;49m\u001b[43m)\u001b[49m)\n",
      "\u001b[36mCell\u001b[39m\u001b[36m \u001b[39m\u001b[32mIn[3]\u001b[39m\u001b[32m, line 19\u001b[39m, in \u001b[36mfind_attribute\u001b[39m\u001b[34m(obj, attr)\u001b[39m\n\u001b[32m     15\u001b[39m     \u001b[38;5;28;01mreturn\u001b[39;00m \u001b[38;5;28mcls\u001b[39m.\u001b[34m__dict__\u001b[39m[attr]\n\u001b[32m     17\u001b[39m \u001b[38;5;66;03m# TODO: here we could manipulate __getattr__, use descriptors ... \u001b[39;00m\n\u001b[32m---> \u001b[39m\u001b[32m19\u001b[39m \u001b[38;5;28;01mraise\u001b[39;00m \u001b[38;5;167;01mAttributeError\u001b[39;00m(attr)\n",
      "\u001b[31mAttributeError\u001b[39m: nic"
     ]
    }
   ],
   "source": [
    "# internally, `__getattr__` does that:\n",
    "def find_attribute(obj, attr):\n",
    "    if attr in obj.__dict__:\n",
    "        print(f'found {attr} in instance')\n",
    "        return obj.__dict__[attr]\n",
    "\n",
    "    if attr in obj.__class__.__dict__:\n",
    "        print(f'found {attr} in class')\n",
    "        return obj.__class__.__dict__[attr]\n",
    "\n",
    "    for cls in obj.__class__.__mro__:\n",
    "        if attr not in cls.__dict__:\n",
    "            continue\n",
    "        print(f'found {attr} in parent {cls.__name__!r}')\n",
    "        return cls.__dict__[attr]\n",
    "\n",
    "    # TODO: here we could manipulate __getattr__, use descriptors ... \n",
    "\n",
    "    raise AttributeError(attr)\n",
    "\n",
    "class VM:\n",
    "    version = '1.2.3'\n",
    "\n",
    "\n",
    "class A1(VM):\n",
    "    cpu_family = 'arm64'\n",
    "\n",
    "    def __init__(self, id):\n",
    "        self.id = id\n",
    "        self.state = 'running'\n",
    "\n",
    "\n",
    "a1 = A1('9e99929')\n",
    "\n",
    "print(find_attribute(a1, 'id'))\n",
    "print(find_attribute(a1, 'cpu_family'))\n",
    "print(find_attribute(a1, 'version'))\n",
    "print(find_attribute(a1, 'nic')) # expected AttributeError"
   ]
  },
  {
   "cell_type": "markdown",
   "id": "1442cc92",
   "metadata": {},
   "source": [
    "### Using Properties"
   ]
  },
  {
   "cell_type": "code",
   "execution_count": null,
   "id": "de4600c3",
   "metadata": {},
   "outputs": [
    {
     "name": "stdout",
     "output_type": "stream",
     "text": [
      "13.4\n"
     ]
    }
   ],
   "source": [
    "class LineItem:\n",
    "    def __init__(self, sku: str, price: float, amount: int):\n",
    "        self.sku = sku # calls sku function (the one decorated with @sku.setter)\n",
    "        self.price = price\n",
    "        self.amount = amount\n",
    "\n",
    "    @property  # 1st use case: computed property\n",
    "    def value(self):\n",
    "        return self.price * self.amount\n",
    "\n",
    "    @property  # 2nd use case: getter\n",
    "    def sku(self):\n",
    "        return self._sku\n",
    "    \n",
    "    @sku.setter  # 2nd use case: setter\n",
    "    def sku(self, value):\n",
    "        value = value.strip()\n",
    "        if not value:\n",
    "            raise ValueError(f'empty sku: {value!r}')\n",
    "        self._sku = value\n",
    "\n",
    "\n",
    "li = LineItem('esp32', 1.34, 10)\n",
    "print(li.value)"
   ]
  },
  {
   "cell_type": "code",
   "execution_count": 8,
   "id": "3f684ac3",
   "metadata": {},
   "outputs": [],
   "source": [
    "li.sku = ' ' # raises ValueError while setting"
   ]
  },
  {
   "cell_type": "markdown",
   "id": "4990f72e",
   "metadata": {},
   "source": [
    "### Attribute access manipulation\n",
    "\n",
    "- `object.__getattribute__` --> defines the regular attribute access (dot-notation)\n",
    "    - to be handled with caution: if we overwrite it poorly, we could cause infinite\n",
    "      recursion\n",
    "- `object.__getattr__` --> is the fallback behaviour; its called only if the regular\n",
    "  attribute access fails to find something (`object.__getattribute__` raises an\n",
    "  `AttributeError`)\n",
    "    -  useful for implementing dynamic or computed attributes without interfering with\n",
    "       normal behavior"
   ]
  },
  {
   "cell_type": "code",
   "execution_count": 37,
   "id": "ecb51760",
   "metadata": {},
   "outputs": [
    {
     "name": "stdout",
     "output_type": "stream",
     "text": [
      "total_changes -> 0\n",
      "0\n",
      "close -> <built-in method close of sqlite3.Connection object at 0x76069126fa60>\n"
     ]
    }
   ],
   "source": [
    "# example from course, but it's quite a riddle, if you're not experienced with databases\n",
    "\n",
    "class Proxy:\n",
    "    def __init__(self, obj):\n",
    "        self._obj = obj\n",
    "\n",
    "    def __getattr__(self, attr):\n",
    "        value = getattr(self._obj, attr) # getattr is the build-in __getattr__ from the original obj\n",
    "        print(f'{attr} -> {value!r}') # value is 0, for whatever reason ...\n",
    "        return value\n",
    "\n",
    "import sqlite3\n",
    "\n",
    "conn = sqlite3.connect(':memory:')\n",
    "proxy = Proxy(conn)\n",
    "n = proxy.total_changes \n",
    "print(n)\n",
    "\n",
    "proxy.close()\n",
    "# I don't get this"
   ]
  },
  {
   "cell_type": "code",
   "execution_count": null,
   "id": "e52a19cb",
   "metadata": {},
   "outputs": [
    {
     "name": "stdout",
     "output_type": "stream",
     "text": [
      "0\n",
      "1\n",
      "0\n",
      "1\n"
     ]
    },
    {
     "ename": "AttributeError",
     "evalue": "Alert: yet_another_attribute needs to evaluate to False.",
     "output_type": "error",
     "traceback": [
      "\u001b[31m---------------------------------------------------------------------------\u001b[39m",
      "\u001b[31mAttributeError\u001b[39m                            Traceback (most recent call last)",
      "\u001b[36mCell\u001b[39m\u001b[36m \u001b[39m\u001b[32mIn[26]\u001b[39m\u001b[32m, line 33\u001b[39m\n\u001b[32m     30\u001b[39m instance.another_attribute = \u001b[32m1\u001b[39m\n\u001b[32m     31\u001b[39m \u001b[38;5;28mprint\u001b[39m(instance.another_attribute) \u001b[38;5;66;03m# should not raise, because we have just set the attribute\u001b[39;00m\n\u001b[32m---> \u001b[39m\u001b[32m33\u001b[39m \u001b[38;5;28mprint\u001b[39m(\u001b[43minstance\u001b[49m\u001b[43m.\u001b[49m\u001b[43myet_another_attribute\u001b[49m) \u001b[38;5;66;03m# should raise, because we have not created nor set the attribute\u001b[39;00m\n",
      "\u001b[36mCell\u001b[39m\u001b[36m \u001b[39m\u001b[32mIn[26]\u001b[39m\u001b[32m, line 12\u001b[39m, in \u001b[36mAdvancedPipeline.__getattr__\u001b[39m\u001b[34m(self, attr)\u001b[39m\n\u001b[32m     10\u001b[39m \u001b[38;5;28;01mdef\u001b[39;00m\u001b[38;5;250m \u001b[39m\u001b[34m__getattr__\u001b[39m(\u001b[38;5;28mself\u001b[39m, attr):\n\u001b[32m     11\u001b[39m     \u001b[38;5;28;01mif\u001b[39;00m attr:\n\u001b[32m---> \u001b[39m\u001b[32m12\u001b[39m         \u001b[38;5;28;01mraise\u001b[39;00m \u001b[38;5;167;01mAttributeError\u001b[39;00m(\u001b[33mf\u001b[39m\u001b[33m\"\u001b[39m\u001b[33mAlert: \u001b[39m\u001b[38;5;132;01m{\u001b[39;00mattr\u001b[38;5;132;01m}\u001b[39;00m\u001b[33m needs to evaluate to False.\u001b[39m\u001b[33m\"\u001b[39m)\n\u001b[32m     13\u001b[39m     \u001b[38;5;28;01mreturn\u001b[39;00m attr\n",
      "\u001b[31mAttributeError\u001b[39m: Alert: yet_another_attribute needs to evaluate to False."
     ]
    }
   ],
   "source": [
    "# let's try to come up with my own example (experimental)\n",
    "\n",
    "from sklearn.pipeline import Pipeline\n",
    "\n",
    "class AdvancedPipeline(Pipeline):\n",
    "    def __init__(self, new_param):\n",
    "        self.new_param = new_param\n",
    "        self.new_attribute = 0\n",
    "\n",
    "    def __getattr__(self, attr):\n",
    "        if attr:\n",
    "            raise AttributeError(f\"Alert: {attr} needs to evaluate to False.\")\n",
    "        return attr\n",
    "    \n",
    "    def __setattr__(self, attr, value):\n",
    "        super().__setattr__(attr, value) #  needs to be called on super instead of self.attr to avoid RecursionError\n",
    "        return self\n",
    "\n",
    "\n",
    "instance = AdvancedPipeline(new_param = \"something\")\n",
    "\n",
    "print(instance.new_attribute) # should not raise, because __getattr__ is only called if the attribute is NOT found\n",
    "\n",
    "instance.new_attribute = 1\n",
    "print(instance.new_attribute) # should not raise, because __getattr__ is only called if the attribute is NOT found\n",
    "\n",
    "instance.another_attribute = 0\n",
    "print(instance.another_attribute) # should not raise, because we have just set the attribute\n",
    "\n",
    "instance.another_attribute = 1\n",
    "print(instance.another_attribute) # should not raise, because we have just set the attribute\n",
    "\n",
    "print(instance.yet_another_attribute) # should raise, because we have not created nor set the attribute\n",
    "\n"
   ]
  },
  {
   "cell_type": "markdown",
   "id": "e9376a93",
   "metadata": {},
   "source": [
    "- learning, again:\n",
    "    - `__getattr__` is only invoked if the attribute is not found **at all** in the\n",
    "      usual places: instance dictionary, class attributes, or parent classes.\n",
    "    - if the attribute exists (set previously or defined on class), Python returns its\n",
    "    value directly and never calls `__getattr__`\n",
    "\n",
    "- it is totally useless in determining a value an attribute has\n",
    "\n",
    "- but it can serve last-resort hook to provide a value or behavior when an attribute is\n",
    "  missing"
   ]
  },
  {
   "cell_type": "code",
   "execution_count": 35,
   "id": "de24bb5f",
   "metadata": {},
   "outputs": [
    {
     "data": {
      "text/plain": [
       "'Yep, that is what you were looking for!'"
      ]
     },
     "execution_count": 35,
     "metadata": {},
     "output_type": "execute_result"
    }
   ],
   "source": [
    "# let's apply this in a new example\n",
    "\n",
    "class MyClass():\n",
    "    def __getattr__(self, attr):\n",
    "        if attr == \"that_common_attribute_\":\n",
    "            return \"Yep, that is what you were looking for!\"\n",
    "        else:\n",
    "            raise AttributeError(f\"`{attr}` does not exist. Did you mean `{self}.that_common_attribute_`?\")\n",
    "        \n",
    "instance = MyClass()\n",
    "instance.that_common_attribute_"
   ]
  },
  {
   "cell_type": "code",
   "execution_count": null,
   "id": "1e3f4e5e",
   "metadata": {},
   "outputs": [
    {
     "ename": "AttributeError",
     "evalue": "`that_other_attribute_some_people_ask_for_` does not exist. Did you mean `<__main__.MyClass object at 0x7606912579b0>.that_common_attribute_`?",
     "output_type": "error",
     "traceback": [
      "\u001b[31m---------------------------------------------------------------------------\u001b[39m",
      "\u001b[31mAttributeError\u001b[39m                            Traceback (most recent call last)",
      "\u001b[36mCell\u001b[39m\u001b[36m \u001b[39m\u001b[32mIn[36]\u001b[39m\u001b[32m, line 1\u001b[39m\n\u001b[32m----> \u001b[39m\u001b[32m1\u001b[39m \u001b[43minstance\u001b[49m\u001b[43m.\u001b[49m\u001b[43mthat_other_attribute_some_people_ask_for_\u001b[49m\n\u001b[32m      2\u001b[39m \u001b[38;5;66;03m# I would have to write a nice `__str__` and a `__repr__` for the ploting of `self`\u001b[39;00m\n",
      "\u001b[36mCell\u001b[39m\u001b[36m \u001b[39m\u001b[32mIn[35]\u001b[39m\u001b[32m, line 8\u001b[39m, in \u001b[36mMyClass.__getattr__\u001b[39m\u001b[34m(self, attr)\u001b[39m\n\u001b[32m      6\u001b[39m     \u001b[38;5;28;01mreturn\u001b[39;00m \u001b[33m\"\u001b[39m\u001b[33mYep, that is what you were looking for!\u001b[39m\u001b[33m\"\u001b[39m\n\u001b[32m      7\u001b[39m \u001b[38;5;28;01melse\u001b[39;00m:\n\u001b[32m----> \u001b[39m\u001b[32m8\u001b[39m     \u001b[38;5;28;01mraise\u001b[39;00m \u001b[38;5;167;01mAttributeError\u001b[39;00m(\u001b[33mf\u001b[39m\u001b[33m\"\u001b[39m\u001b[33m`\u001b[39m\u001b[38;5;132;01m{\u001b[39;00mattr\u001b[38;5;132;01m}\u001b[39;00m\u001b[33m` does not exist. Did you mean `\u001b[39m\u001b[38;5;132;01m{\u001b[39;00m\u001b[38;5;28mself\u001b[39m\u001b[38;5;132;01m}\u001b[39;00m\u001b[33m.that_common_attribute_`?\u001b[39m\u001b[33m\"\u001b[39m)\n",
      "\u001b[31mAttributeError\u001b[39m: `that_other_attribute_some_people_ask_for_` does not exist. Did you mean `<__main__.MyClass object at 0x7606912579b0>.that_common_attribute_`?"
     ]
    }
   ],
   "source": [
    "instance.that_other_attribute_some_people_ask_for_\n",
    "# I would have to write a nice `__str__` and a `__repr__` for the plotting of `self`"
   ]
  },
  {
   "cell_type": "markdown",
   "id": "45ba8ed4",
   "metadata": {},
   "source": [
    "### Reducing memory with `__slots__`\n",
    "\n",
    "- removes the `__dict__` attribute from (instances/classes)\n",
    "- in scikit-learn excluded to work with any child from BaseEstimator\n",
    "\n",
    "### Name mangling\n",
    "\n",
    "- attributes with two leading underscores (e.g.,` __attr`) are automatically renamed to\n",
    "  include the class name to avoid conflicts with the attribute names of the inheriting\n",
    "  classes"
   ]
  },
  {
   "cell_type": "code",
   "execution_count": 41,
   "id": "7c9f5416",
   "metadata": {},
   "outputs": [
    {
     "name": "stdout",
     "output_type": "stream",
     "text": [
      "{'__module__': '__main__', '__init__': <function Sub.__init__ at 0x760690eb1940>, '__doc__': None}\n",
      "\n",
      "{'_Base__hidden': 42, '_Sub__hidden': 99}\n"
     ]
    }
   ],
   "source": [
    "class Base:\n",
    "    def __init__(self):\n",
    "        self.__hidden = 42\n",
    "\n",
    "class Sub(Base):\n",
    "    def __init__(self):\n",
    "        super().__init__()\n",
    "        self.__hidden = 99  # creates a different attribute _Sub__hidden\n",
    "\n",
    "\n",
    "print(Sub.__dict__) # prints class attributes\n",
    "print(\"\")\n",
    "print(Sub().__dict__) # prints instance attributes"
   ]
  },
  {
   "cell_type": "markdown",
   "id": "5469a675",
   "metadata": {},
   "source": [
    "class attributes\n",
    "- `__module__`: name of the module in which the class was defined, or instance `__main__`\n",
    "- `__init__`, or any other defined function\n",
    "- `__doc__`: docstring of the class\n",
    "- possible class attributes (not applicable here)\n",
    "\n",
    "instance attributes\n",
    "- attributes defined in `__init__` are always instance specific\n",
    "- here we see '_Base__hidden'and '_Sub__hidden' because of the name mangling\n",
    "\n",
    "### Descriptors\n",
    "\n",
    "- live on class level\n",
    "- need `__get__` and `__set__` defined\n",
    "- mostly used for validation (see below for what this means)"
   ]
  },
  {
   "cell_type": "code",
   "execution_count": 45,
   "id": "d9636276",
   "metadata": {},
   "outputs": [
    {
     "name": "stdout",
     "output_type": "stream",
     "text": [
      "__set_name__: name='open'\n",
      "__set_name__: name='close'\n",
      "__set__: inst=<__main__.Trade object at 0x760691255310>, value=133.2\n",
      "__set__: inst=<__main__.Trade object at 0x760691255310>, value=147.5\n",
      "{'_validators': {'Price_open': 133.2, 'Price_close': 147.5}}\n"
     ]
    }
   ],
   "source": [
    "class Validator:\n",
    "    attr_name = '_validators'\n",
    "\n",
    "    def __set_name__(self, cls, name): # `name` is variable name of instance, `cls` is class name (Price)\n",
    "        print(f'__set_name__: {name=}')\n",
    "        validator_name = self.__class__.__name__\n",
    "        self._key = f'{validator_name}_{name}' # creating unique keys per instance\n",
    "\n",
    "    def __get__(self, inst, cls):\n",
    "        print(f'__get__: {inst=}, {cls=}')\n",
    "        if inst is None:  # access via class (??)\n",
    "            return self\n",
    "\n",
    "        values = getattr(inst, Validator.attr_name, {})\n",
    "        return values.get(self._key)\n",
    "\n",
    "    def __set__(self, inst, value):\n",
    "        print(f'__set__: {inst=}, {value=}')\n",
    "        self.validate(value)\n",
    "        values = getattr(inst, Validator.attr_name, None)\n",
    "        if values is None:\n",
    "            values = {}\n",
    "            setattr(inst, Validator.attr_name, values)\n",
    "        values[self._key] = value\n",
    "\n",
    "    def validate(self, value):\n",
    "        \"\"\"This is to be overridden by subclasses.\"\"\"\n",
    "        raise NotImplementedError()\n",
    "\n",
    "\n",
    "class Price(Validator):\n",
    "    def validate(self, value):\n",
    "        if value <= 0:\n",
    "            raise ValueError(f'negative price: {value!r}')\n",
    "\n",
    "class Trade:\n",
    "    open = Price()\n",
    "    close = Price()\n",
    "\n",
    "    def __init__(self, open, close):\n",
    "        self.open = open\n",
    "        self.close = close\n",
    "        \n",
    "\n",
    "t1 = Trade(133.2, 147.5)\n",
    "print(t1.__dict__)"
   ]
  },
  {
   "cell_type": "code",
   "execution_count": 46,
   "id": "3faa685c",
   "metadata": {},
   "outputs": [
    {
     "name": "stdout",
     "output_type": "stream",
     "text": [
      "__get__: inst=None, cls=<class '__main__.Trade'>\n",
      "<__main__.Price object at 0x7606912547a0>\n",
      "__get__: inst=<__main__.Trade object at 0x760691255310>, cls=<class '__main__.Trade'>\n",
      "133.2\n",
      "__set__: inst=<__main__.Trade object at 0x760691255310>, value=147.2\n",
      "__set__: inst=<__main__.Trade object at 0x760691255310>, value=-2\n"
     ]
    },
    {
     "ename": "ValueError",
     "evalue": "negative price: -2",
     "output_type": "error",
     "traceback": [
      "\u001b[31m---------------------------------------------------------------------------\u001b[39m",
      "\u001b[31mValueError\u001b[39m                                Traceback (most recent call last)",
      "\u001b[36mCell\u001b[39m\u001b[36m \u001b[39m\u001b[32mIn[46]\u001b[39m\u001b[32m, line 6\u001b[39m\n\u001b[32m      2\u001b[39m \u001b[38;5;28mprint\u001b[39m(t1.open)  \u001b[38;5;66;03m# Instance level.\u001b[39;00m\n\u001b[32m      4\u001b[39m t1.close = \u001b[32m147.2\u001b[39m\n\u001b[32m----> \u001b[39m\u001b[32m6\u001b[39m \u001b[43mt1\u001b[49m\u001b[43m.\u001b[49m\u001b[43mclose\u001b[49m = -\u001b[32m2\u001b[39m\n",
      "\u001b[36mCell\u001b[39m\u001b[36m \u001b[39m\u001b[32mIn[45]\u001b[39m\u001b[32m, line 19\u001b[39m, in \u001b[36mValidator.__set__\u001b[39m\u001b[34m(self, inst, value)\u001b[39m\n\u001b[32m     17\u001b[39m \u001b[38;5;28;01mdef\u001b[39;00m\u001b[38;5;250m \u001b[39m\u001b[34m__set__\u001b[39m(\u001b[38;5;28mself\u001b[39m, inst, value):\n\u001b[32m     18\u001b[39m     \u001b[38;5;28mprint\u001b[39m(\u001b[33mf\u001b[39m\u001b[33m'\u001b[39m\u001b[33m__set__: \u001b[39m\u001b[38;5;132;01m{\u001b[39;00minst\u001b[38;5;132;01m=}\u001b[39;00m\u001b[33m, \u001b[39m\u001b[38;5;132;01m{\u001b[39;00mvalue\u001b[38;5;132;01m=}\u001b[39;00m\u001b[33m'\u001b[39m)\n\u001b[32m---> \u001b[39m\u001b[32m19\u001b[39m     \u001b[38;5;28;43mself\u001b[39;49m\u001b[43m.\u001b[49m\u001b[43mvalidate\u001b[49m\u001b[43m(\u001b[49m\u001b[43mvalue\u001b[49m\u001b[43m)\u001b[49m\n\u001b[32m     20\u001b[39m     values = \u001b[38;5;28mgetattr\u001b[39m(inst, Validator.attr_name, \u001b[38;5;28;01mNone\u001b[39;00m)\n\u001b[32m     21\u001b[39m     \u001b[38;5;28;01mif\u001b[39;00m values \u001b[38;5;129;01mis\u001b[39;00m \u001b[38;5;28;01mNone\u001b[39;00m:\n",
      "\u001b[36mCell\u001b[39m\u001b[36m \u001b[39m\u001b[32mIn[45]\u001b[39m\u001b[32m, line 34\u001b[39m, in \u001b[36mPrice.validate\u001b[39m\u001b[34m(self, value)\u001b[39m\n\u001b[32m     32\u001b[39m \u001b[38;5;28;01mdef\u001b[39;00m\u001b[38;5;250m \u001b[39m\u001b[34mvalidate\u001b[39m(\u001b[38;5;28mself\u001b[39m, value):\n\u001b[32m     33\u001b[39m     \u001b[38;5;28;01mif\u001b[39;00m value <= \u001b[32m0\u001b[39m:\n\u001b[32m---> \u001b[39m\u001b[32m34\u001b[39m         \u001b[38;5;28;01mraise\u001b[39;00m \u001b[38;5;167;01mValueError\u001b[39;00m(\u001b[33mf\u001b[39m\u001b[33m'\u001b[39m\u001b[33mnegative price: \u001b[39m\u001b[38;5;132;01m{\u001b[39;00mvalue\u001b[38;5;132;01m!r}\u001b[39;00m\u001b[33m'\u001b[39m)\n",
      "\u001b[31mValueError\u001b[39m: negative price: -2"
     ]
    }
   ],
   "source": [
    "print(Trade.open)  # Class level.\n",
    "print(t1.open)  # Instance level.\n",
    "\n",
    "t1.close = 147.2\n",
    "\n",
    "t1.close = -2"
   ]
  },
  {
   "cell_type": "markdown",
   "id": "572aae25",
   "metadata": {},
   "source": [
    "--> that course example is unaccessible!\n",
    "\n",
    "- working with ChatGPT to understand this better:\n",
    "\n",
    "    - Descriptors are tools to customize attribute access\n",
    "\n",
    "    - validation here means: before accepting and storing a value, check that it meets\n",
    "      some condition\n",
    "\n",
    "    - another way I now understood it is: validation is a term used in backend\n",
    "      development; it means setting constraints on how a value can be set in a database\n",
    "\n",
    "    - if someone sets `product.price = value`, we want to make sure it is positive\n",
    "\n",
    "    - `Positive` class is a gatekeeper for setting values"
   ]
  },
  {
   "cell_type": "code",
   "execution_count": 34,
   "id": "896ecb3d",
   "metadata": {},
   "outputs": [
    {
     "name": "stdout",
     "output_type": "stream",
     "text": [
      "10\n"
     ]
    },
    {
     "ename": "ValueError",
     "evalue": "price must be > 0",
     "output_type": "error",
     "traceback": [
      "\u001b[31m---------------------------------------------------------------------------\u001b[39m",
      "\u001b[31mValueError\u001b[39m                                Traceback (most recent call last)",
      "\u001b[36mCell\u001b[39m\u001b[36m \u001b[39m\u001b[32mIn[34]\u001b[39m\u001b[32m, line 24\u001b[39m\n\u001b[32m     22\u001b[39m p = Product(\u001b[32m10\u001b[39m)\n\u001b[32m     23\u001b[39m \u001b[38;5;28mprint\u001b[39m(p.price)\n\u001b[32m---> \u001b[39m\u001b[32m24\u001b[39m \u001b[43mp\u001b[49m\u001b[43m.\u001b[49m\u001b[43mprice\u001b[49m = -\u001b[32m5\u001b[39m \u001b[38;5;66;03m# raises ValueError: price must be > 0\u001b[39;00m\n",
      "\u001b[36mCell\u001b[39m\u001b[36m \u001b[39m\u001b[32mIn[34]\u001b[39m\u001b[32m, line 11\u001b[39m, in \u001b[36mPositive.__set__\u001b[39m\u001b[34m(self, instance, value)\u001b[39m\n\u001b[32m      9\u001b[39m \u001b[38;5;28;01mdef\u001b[39;00m\u001b[38;5;250m \u001b[39m\u001b[34m__set__\u001b[39m(\u001b[38;5;28mself\u001b[39m, instance, value):\n\u001b[32m     10\u001b[39m     \u001b[38;5;28;01mif\u001b[39;00m value <= \u001b[32m0\u001b[39m:\n\u001b[32m---> \u001b[39m\u001b[32m11\u001b[39m         \u001b[38;5;28;01mraise\u001b[39;00m \u001b[38;5;167;01mValueError\u001b[39;00m(\u001b[33mf\u001b[39m\u001b[33m\"\u001b[39m\u001b[38;5;132;01m{\u001b[39;00m\u001b[38;5;28mself\u001b[39m.name\u001b[38;5;132;01m}\u001b[39;00m\u001b[33m must be > 0\u001b[39m\u001b[33m\"\u001b[39m)\n\u001b[32m     12\u001b[39m     instance.\u001b[34m__dict__\u001b[39m[\u001b[38;5;28mself\u001b[39m.name] = value\n",
      "\u001b[31mValueError\u001b[39m: price must be > 0"
     ]
    }
   ],
   "source": [
    "# more minimal example from ChatGPT:\n",
    "class Positive:\n",
    "    def __set_name__(self, owner, name):\n",
    "        self.name = name  # store attribute name (like 'price')\n",
    "\n",
    "    def __get__(self, instance, owner):\n",
    "        return instance.__dict__[self.name] # `getattr(instance, self.name)` would work as well\n",
    "\n",
    "    def __set__(self, instance, value):\n",
    "        if value <= 0:\n",
    "            raise ValueError(f\"{self.name} must be > 0\")\n",
    "        instance.__dict__[self.name] = value\n",
    "\n",
    "\n",
    "class Product:\n",
    "    price = Positive()  # descriptor used here\n",
    "\n",
    "    def __init__(self, price):\n",
    "        self.price = price\n",
    "\n",
    "\n",
    "p = Product(10)\n",
    "print(p.price)\n",
    "p.price = -5 # raises ValueError: price must be > 0"
   ]
  },
  {
   "cell_type": "markdown",
   "id": "48435877",
   "metadata": {},
   "source": [
    "- descriptors are set up when the class is created (not instantiated)\n",
    "\n",
    "step-by-step\n",
    "\n",
    "1. Class body of `Product` is executed, which creates a single instance of `Positive()`, and assigns it to the class attribute `price`\n",
    "    - `Product.__dict__['price']` is now the `Positive()` instance\n",
    "\n",
    "2. because `Positive` is a descriptor, Python automatically calls its\n",
    "        `__set_name__` method\n",
    "        - it stores the string `\"price\"` inside the descriptor so that it knows which\n",
    "        attribute name it’s managing; This is optional but helpful\n",
    "\n",
    "3. we instantiate Product: `p = Product(10)`\n",
    "    - this calls `self.price = 10` in its `__init__`\n",
    "\n",
    "4. but this doesn't call `self.__setattr__` directly; Instead, since `Product.price` is\n",
    "    a descriptor, the descriptor’s `__set__` method is triggered like this:\n",
    "    `Positive.__set__(self=Product.price, instance=p, value=10)`\n",
    "\n",
    "5. the descriptor's `__set__` does the validation (check) and sets the value via the\n",
    "   product instance's dict: `instance.__dict__[self.name] = value`, so like that:\n",
    "   `p.__dict__['price'] = 10`\n",
    "\n",
    "6. we run `print(p.price)`, which triggers the descriptor's `__get__` method like this:\n",
    "   `Positive.__get__(self=Product.price, instance=p, owner=Product)`; which returns the\n",
    "   value for price stored at the Product instance `p` (which is 10)\n",
    "\n",
    "7. when we try to set the price badly (`p.price = -5`) the descriptor's `__set__` method\n",
    "   raises on validation\n",
    "\n",
    "--> THAT step-by_step really made it for me!\n",
    "\n",
    "\n",
    "- descriptor that only have a `__get__` method (not a `__set__` method) are called non-data descriptors\n",
    "\n",
    "    - commonly used for computed properties, like methods or cached values"
   ]
  },
  {
   "cell_type": "code",
   "execution_count": null,
   "id": "b011293f",
   "metadata": {},
   "outputs": [
    {
     "name": "stdout",
     "output_type": "stream",
     "text": [
      "25.4\n"
     ]
    }
   ],
   "source": [
    "# minimal example for a non-data descriptor\n",
    "class InchesToCm:\n",
    "    def __get__(self, instance, owner):\n",
    "        return instance._inches * 2.54\n",
    "\n",
    "class Ruler:\n",
    "    cm = InchesToCm()\n",
    "\n",
    "    def __init__(self, inches):\n",
    "        self._inches = inches\n",
    "\n",
    "r = Ruler(10)\n",
    "print(r.cm)"
   ]
  },
  {
   "cell_type": "markdown",
   "id": "9f9fd5df",
   "metadata": {},
   "source": [
    "Exercise: Create a `NonEmptyString` Descriptor\n",
    "\n",
    "Create a descriptor class `NonEmptyString` that ensures an attribute always contains a non-empty string. If someone tries to set it to an empty string or non-string value, raise a `ValueError`.\n",
    "\n",
    "Then, use this descriptor in a class `User` with one attribute: `name`\n",
    "\n",
    "Example behaviour: \n",
    "\n",
    "```\n",
    "u = User(\"Alice\")\n",
    "print(u.name)     # should print \"Alice\"\n",
    "\n",
    "u.name = \"\"       # should raise ValueError: name must be a non-empty string\n",
    "u.name = None     # should raise ValueError\n",
    "```"
   ]
  },
  {
   "cell_type": "code",
   "execution_count": 15,
   "id": "deb16f34",
   "metadata": {},
   "outputs": [
    {
     "name": "stdout",
     "output_type": "stream",
     "text": [
      "Alice\n"
     ]
    },
    {
     "ename": "ValueError",
     "evalue": "`value` should be string and should not be empty, got `value=`.",
     "output_type": "error",
     "traceback": [
      "\u001b[31m---------------------------------------------------------------------------\u001b[39m",
      "\u001b[31mValueError\u001b[39m                                Traceback (most recent call last)",
      "\u001b[36mCell\u001b[39m\u001b[36m \u001b[39m\u001b[32mIn[15]\u001b[39m\u001b[32m, line 25\u001b[39m\n\u001b[32m     22\u001b[39m u = User(\u001b[33m\"\u001b[39m\u001b[33mAlice\u001b[39m\u001b[33m\"\u001b[39m)\n\u001b[32m     23\u001b[39m \u001b[38;5;28mprint\u001b[39m(u.name)\n\u001b[32m---> \u001b[39m\u001b[32m25\u001b[39m \u001b[43mu\u001b[49m\u001b[43m.\u001b[49m\u001b[43mname\u001b[49m=\u001b[33m'\u001b[39m\u001b[33m'\u001b[39m\n",
      "\u001b[36mCell\u001b[39m\u001b[36m \u001b[39m\u001b[32mIn[15]\u001b[39m\u001b[32m, line 9\u001b[39m, in \u001b[36mNonEmptyString.__set__\u001b[39m\u001b[34m(self, instance, value)\u001b[39m\n\u001b[32m      7\u001b[39m \u001b[38;5;28;01mdef\u001b[39;00m\u001b[38;5;250m \u001b[39m\u001b[34m__set__\u001b[39m(\u001b[38;5;28mself\u001b[39m, instance, value):\n\u001b[32m      8\u001b[39m     \u001b[38;5;28;01mif\u001b[39;00m value == \u001b[33m\"\u001b[39m\u001b[33m\"\u001b[39m \u001b[38;5;129;01mor\u001b[39;00m \u001b[38;5;129;01mnot\u001b[39;00m \u001b[38;5;28misinstance\u001b[39m(value, \u001b[38;5;28mstr\u001b[39m):\n\u001b[32m----> \u001b[39m\u001b[32m9\u001b[39m         \u001b[38;5;28;01mraise\u001b[39;00m \u001b[38;5;167;01mValueError\u001b[39;00m(\u001b[33mf\u001b[39m\u001b[33m\"\u001b[39m\u001b[33m`value` should be string and should not be empty, got `value=\u001b[39m\u001b[38;5;132;01m{\u001b[39;00mvalue\u001b[38;5;132;01m}\u001b[39;00m\u001b[33m`.\u001b[39m\u001b[33m\"\u001b[39m)\n\u001b[32m     10\u001b[39m     instance.\u001b[34m__dict__\u001b[39m[\u001b[38;5;28mself\u001b[39m.name] = value\n",
      "\u001b[31mValueError\u001b[39m: `value` should be string and should not be empty, got `value=`."
     ]
    }
   ],
   "source": [
    "class NonEmptyString():\n",
    "    \"\"\"Descriptor\"\"\"\n",
    "\n",
    "    def __set_name__(self, owner, name):\n",
    "        self.name = name\n",
    "    \n",
    "    def __set__(self, instance, value):\n",
    "        if value == \"\" or not isinstance(value, str):\n",
    "            raise ValueError(f\"`value` should be string and should not be empty, got `value={value}`.\")\n",
    "        instance.__dict__[self.name] = value # it's the descriptors' `self.name`\n",
    "\n",
    "    def __get__(self, instance, owner):\n",
    "        return instance.__dict__.get(self.name)\n",
    "\n",
    "\n",
    "class User():\n",
    "    name = NonEmptyString()\n",
    "\n",
    "    def __init__(self, name):\n",
    "        self.name = name # this setting calls `NonEmptyString.__set__()`\n",
    "\n",
    "u = User(\"Alice\")\n",
    "print(u.name)\n",
    "\n",
    "u.name=''"
   ]
  },
  {
   "cell_type": "markdown",
   "id": "b001327f",
   "metadata": {},
   "source": [
    "Exercise: Create a descriptor called `PositiveInteger` that ensures an attribute is\n",
    "always a positive integer. If someone tries to assign zero, a negative number, or a\n",
    "non-integer (like a float or string), raise a `ValueError`.\n",
    "\n",
    "Use it in a class `Person` that has an `age` attribute."
   ]
  },
  {
   "cell_type": "code",
   "execution_count": 22,
   "id": "bd99d0e2",
   "metadata": {},
   "outputs": [
    {
     "ename": "ValueError",
     "evalue": "`age` must be a positive integer.",
     "output_type": "error",
     "traceback": [
      "\u001b[31m---------------------------------------------------------------------------\u001b[39m",
      "\u001b[31mValueError\u001b[39m                                Traceback (most recent call last)",
      "\u001b[36mCell\u001b[39m\u001b[36m \u001b[39m\u001b[32mIn[22]\u001b[39m\u001b[32m, line 25\u001b[39m\n\u001b[32m     22\u001b[39m person = Person(age=\u001b[32m40\u001b[39m)\n\u001b[32m     23\u001b[39m person.age \u001b[38;5;66;03m# 40\u001b[39;00m\n\u001b[32m---> \u001b[39m\u001b[32m25\u001b[39m person = \u001b[43mPerson\u001b[49m\u001b[43m(\u001b[49m\u001b[43mage\u001b[49m\u001b[43m=\u001b[49m\u001b[43m-\u001b[49m\u001b[32;43m1\u001b[39;49m\u001b[43m)\u001b[49m\n",
      "\u001b[36mCell\u001b[39m\u001b[36m \u001b[39m\u001b[32mIn[22]\u001b[39m\u001b[32m, line 20\u001b[39m, in \u001b[36mPerson.__init__\u001b[39m\u001b[34m(self, age)\u001b[39m\n\u001b[32m     19\u001b[39m \u001b[38;5;28;01mdef\u001b[39;00m\u001b[38;5;250m \u001b[39m\u001b[34m__init__\u001b[39m(\u001b[38;5;28mself\u001b[39m, age):\n\u001b[32m---> \u001b[39m\u001b[32m20\u001b[39m     \u001b[38;5;28;43mself\u001b[39;49m\u001b[43m.\u001b[49m\u001b[43mage\u001b[49m = age\n",
      "\u001b[36mCell\u001b[39m\u001b[36m \u001b[39m\u001b[32mIn[22]\u001b[39m\u001b[32m, line 9\u001b[39m, in \u001b[36mPositiveInteger.__set__\u001b[39m\u001b[34m(self, instance, value)\u001b[39m\n\u001b[32m      7\u001b[39m \u001b[38;5;28;01mdef\u001b[39;00m\u001b[38;5;250m \u001b[39m\u001b[34m__set__\u001b[39m(\u001b[38;5;28mself\u001b[39m, instance, value):\n\u001b[32m      8\u001b[39m     \u001b[38;5;28;01mif\u001b[39;00m \u001b[38;5;129;01mnot\u001b[39;00m \u001b[38;5;28misinstance\u001b[39m(value, \u001b[38;5;28mint\u001b[39m) \u001b[38;5;129;01mor\u001b[39;00m value < \u001b[32m0\u001b[39m: \u001b[38;5;66;03m# I allow infants ;)\u001b[39;00m\n\u001b[32m----> \u001b[39m\u001b[32m9\u001b[39m         \u001b[38;5;28;01mraise\u001b[39;00m \u001b[38;5;167;01mValueError\u001b[39;00m(\u001b[33m\"\u001b[39m\u001b[33m`age` must be a positive integer.\u001b[39m\u001b[33m\"\u001b[39m)\n\u001b[32m     10\u001b[39m     instance.\u001b[34m__dict__\u001b[39m[\u001b[38;5;28mself\u001b[39m.name] = value\n",
      "\u001b[31mValueError\u001b[39m: `age` must be a positive integer."
     ]
    }
   ],
   "source": [
    "class PositiveInteger():\n",
    "    \"\"\"Descriptor\"\"\"\n",
    "\n",
    "    def __set_name__(self, owner, name):\n",
    "        self.name = name\n",
    "\n",
    "    def __set__(self, instance, value):\n",
    "        if not isinstance(value, int) or value < 0: # I allow infants ;)\n",
    "            raise ValueError(\"`age` must be a positive integer.\")\n",
    "        instance.__dict__[self.name] = value\n",
    "\n",
    "    def __get__(self, instance, owner):\n",
    "        return instance.__dict__.get(self.name)\n",
    "\n",
    "\n",
    "class Person():\n",
    "    age = PositiveInteger() # setting the descriptor as a class attribute\n",
    "\n",
    "    def __init__(self, age):\n",
    "        self.age = age\n",
    "\n",
    "person = Person(age=40)\n",
    "person.age # 40\n",
    "\n",
    "person = Person(age=-1)"
   ]
  },
  {
   "cell_type": "markdown",
   "id": "fe6b41d6",
   "metadata": {},
   "source": [
    "Course challenge: Code a class `Colors` that dynamically accesses color values from a\n",
    "`color_dict`.\n",
    "\n",
    "- I didn't understand what that meant (if I define the dict as a class attribute, isn't\n",
    "  it dynamic, too?)\n",
    "\n",
    "- ChatGPT explained:\n",
    "    - What makes it dynamic is that the class or instance doesn't have those attributes\n",
    "      defined explicitly.\n",
    "    - When you access an attribute that doesn't exist on the instance or class, Python\n",
    "      calls `__getattr__` and then  you look up the attribute name in a dictionary\n",
    "      (which can be changed at runtime), and return the corresponding value on the fly.\n",
    "\n",
    "- I am not 100 % sure I understand the difference between dynamic and normal, but I will\n",
    "  give this a try:"
   ]
  },
  {
   "cell_type": "code",
   "execution_count": 32,
   "id": "cb4964a6",
   "metadata": {},
   "outputs": [
    {
     "name": "stdout",
     "output_type": "stream",
     "text": [
      "green: 00FF00\n",
      "red: FF0000\n",
      "blue: 0000FF\n"
     ]
    },
    {
     "ename": "AttributeError",
     "evalue": "Colors.yellow doesn't exist.",
     "output_type": "error",
     "traceback": [
      "\u001b[31m---------------------------------------------------------------------------\u001b[39m",
      "\u001b[31mAttributeError\u001b[39m                            Traceback (most recent call last)",
      "\u001b[36mCell\u001b[39m\u001b[36m \u001b[39m\u001b[32mIn[32]\u001b[39m\u001b[32m, line 20\u001b[39m\n\u001b[32m     18\u001b[39m \u001b[38;5;28mprint\u001b[39m(\u001b[33mf\u001b[39m\u001b[33m'\u001b[39m\u001b[33mred: \u001b[39m\u001b[38;5;132;01m{\u001b[39;00mcolors.red\u001b[38;5;132;01m:\u001b[39;00m\u001b[33m06X\u001b[39m\u001b[38;5;132;01m}\u001b[39;00m\u001b[33m'\u001b[39m)\n\u001b[32m     19\u001b[39m \u001b[38;5;28mprint\u001b[39m(\u001b[33mf\u001b[39m\u001b[33m'\u001b[39m\u001b[33mblue: \u001b[39m\u001b[38;5;132;01m{\u001b[39;00mcolors.blue\u001b[38;5;132;01m:\u001b[39;00m\u001b[33m06X\u001b[39m\u001b[38;5;132;01m}\u001b[39;00m\u001b[33m'\u001b[39m)\n\u001b[32m---> \u001b[39m\u001b[32m20\u001b[39m \u001b[43mcolors\u001b[49m\u001b[43m.\u001b[49m\u001b[43myellow\u001b[49m\n",
      "\u001b[36mCell\u001b[39m\u001b[36m \u001b[39m\u001b[32mIn[32]\u001b[39m\u001b[32m, line 13\u001b[39m, in \u001b[36mColors.__getattr__\u001b[39m\u001b[34m(self, attribute)\u001b[39m\n\u001b[32m     11\u001b[39m \u001b[38;5;28;01mif\u001b[39;00m attribute \u001b[38;5;129;01min\u001b[39;00m color_dict.keys():\n\u001b[32m     12\u001b[39m     \u001b[38;5;28;01mreturn\u001b[39;00m color_dict.get(attribute)\n\u001b[32m---> \u001b[39m\u001b[32m13\u001b[39m \u001b[38;5;28;01mraise\u001b[39;00m \u001b[38;5;167;01mAttributeError\u001b[39;00m(\u001b[33mf\u001b[39m\u001b[33m\"\u001b[39m\u001b[38;5;132;01m{\u001b[39;00m\u001b[38;5;28mself\u001b[39m.\u001b[34m__class__\u001b[39m.\u001b[34m__name__\u001b[39m\u001b[38;5;132;01m}\u001b[39;00m\u001b[33m.\u001b[39m\u001b[38;5;132;01m{\u001b[39;00mattribute\u001b[38;5;132;01m}\u001b[39;00m\u001b[33m doesn\u001b[39m\u001b[33m'\u001b[39m\u001b[33mt exist.\u001b[39m\u001b[33m\"\u001b[39m)\n",
      "\u001b[31mAttributeError\u001b[39m: Colors.yellow doesn't exist."
     ]
    }
   ],
   "source": [
    "color_dict = {\n",
    "    'red': 0xFF0000,\n",
    "    'green': 0x00FF00,\n",
    "    'blue': 0x0000FF,\n",
    "}\n",
    "\n",
    "class Colors:\n",
    "    \"\"\"Dynamically get color from color_dict\"\"\"\n",
    "\n",
    "    def __getattr__(self, attribute):\n",
    "        if attribute in color_dict.keys():\n",
    "            return color_dict.get(attribute)\n",
    "        raise AttributeError(f\"{self.__class__.__name__}.{attribute} doesn't exist.\")\n",
    "\n",
    "colors = Colors()\n",
    "\n",
    "print(f'green: {colors.green:06X}')\n",
    "print(f'red: {colors.red:06X}')\n",
    "print(f'blue: {colors.blue:06X}')\n",
    "colors.yellow"
   ]
  },
  {
   "cell_type": "markdown",
   "id": "3b4edcc2",
   "metadata": {},
   "source": [
    "- goal of dynamic attribute access is that we don't store too much data on the class(m)emory efficiency), flexibility, cleaner namespaces (no polluting `__dict__` with tons of static attributes)"
   ]
  }
 ],
 "metadata": {
  "kernelspec": {
   "display_name": "playground",
   "language": "python",
   "name": "python3"
  },
  "language_info": {
   "codemirror_mode": {
    "name": "ipython",
    "version": 3
   },
   "file_extension": ".py",
   "mimetype": "text/x-python",
   "name": "python",
   "nbconvert_exporter": "python",
   "pygments_lexer": "ipython3",
   "version": "3.12.2"
  }
 },
 "nbformat": 4,
 "nbformat_minor": 5
}
