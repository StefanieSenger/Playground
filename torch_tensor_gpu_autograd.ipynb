{
 "cells": [
  {
   "cell_type": "markdown",
   "id": "98108f79",
   "metadata": {},
   "source": [
    "## Tensor Operations and GPU usage in PyTorch\n",
    "This is to try out and play with torch tensor operations, loosely following the OpenHPI\n",
    "course [\"Practical Computer Vision with\n",
    "PyTorch\"](https://open.hpi.de/courses/computervision2025), which has a [course\n",
    "repo](https://github.com/andandandand/practical-computer-vision), too. Here I am not so\n",
    "interested in Computer Vision and more in PyTorch itself."
   ]
  },
  {
   "cell_type": "code",
   "execution_count": 4,
   "id": "fa8de2d7",
   "metadata": {},
   "outputs": [],
   "source": [
    "import skimage\n",
    "import torch\n",
    "import matplotlib.pyplot as plt \n",
    "\n",
    "%matplotlib inline"
   ]
  },
  {
   "cell_type": "markdown",
   "id": "e6f507ce",
   "metadata": {},
   "source": [
    "### 1. use of gpu in PyTorch: \n",
    "#### move model and data memory to do training and predictions"
   ]
  },
  {
   "cell_type": "code",
   "execution_count": null,
   "id": "3a73a692",
   "metadata": {},
   "outputs": [
    {
     "data": {
      "image/png": "[encoded data removed]",
      "text/plain": [
       "<Figure size 640x480 with 1 Axes>"
      ]
     },
     "metadata": {},
     "output_type": "display_data"
    },
    {
     "data": {
      "text/plain": [
       "\"plt.show(scores.cpu()) # scores.to('cpu') works, too\\n\\nplt.show(scores) # fails\""
      ]
     },
     "execution_count": 3,
     "metadata": {},
     "output_type": "execute_result"
    }
   ],
   "source": [
    "# load data image\n",
    "image_url = \"https://raw.githubusercontent.com/andandandand/images-for-colab-notebooks/refs/heads/main/gujarat_indien.jpeg\"\n",
    "rgb_np_array = skimage.io.imread(image_url)\n",
    "gray_image = skimage.color.rgb2gray(rgb_np_array)\n",
    "gray_image_resized = skimage.transform.resize(gray_image, (28, 28), anti_aliasing=True)\n",
    "flat_tensor = torch.tensor(gray_image_resized, dtype=torch.float32).flatten().unsqueeze(0)\n",
    "\n",
    "# define simple model\n",
    "model = torch.nn.Linear(in_features=28*28, out_features=10)\n",
    "\n",
    "# move memory of model and data to gpu (if available)\n",
    "device = 'cuda' if torch.cuda.is_available() else 'cpu'\n",
    "model = model.to(device)\n",
    "flat_tensor = flat_tensor.to(device)\n",
    "\n",
    "# get prediction scores on gpu (if available)\n",
    "scores = model(flat_tensor)\n",
    "\n",
    "# do inspection back on cpu, where visualisation libraries such as matplotlib operate on\n",
    "probs = torch.nn.functional.softmax(scores, dim=1).cpu().detach().numpy().flatten()\n",
    "plt.bar(range(10), probs)\n",
    "plt.show()\n"
   ]
  },
  {
   "cell_type": "markdown",
   "id": "b4dc92b8",
   "metadata": {},
   "source": [
    "### 2. use of gpu in PyTorch: \n",
    "#### autograd calculations directly from tensors"
   ]
  },
  {
   "cell_type": "code",
   "execution_count": 9,
   "id": "7399252c",
   "metadata": {},
   "outputs": [
    {
     "name": "stdout",
     "output_type": "stream",
     "text": [
      "tensor([14.], grad_fn=<AbsBackward0>)\n",
      "tensor([5.])\n"
     ]
    }
   ],
   "source": [
    "# weight tensors (that we aim to learn) need to calculate gradient; X and y don't\n",
    "w1 = torch.tensor([4.0], requires_grad=True)\n",
    "x1 = torch.tensor([5.0], requires_grad=False)\n",
    "y = torch.tensor([6.0], requires_grad=False)\n",
    "\n",
    "# calculate loss (mimics forward-propagation)\n",
    "L_1_loss = torch.abs(w1 * x1 - y)\n",
    "print(L_1_loss)\n",
    "\n",
    "# calculate gradient of the loss with respect to w1 (mimics backward-propagation)\n",
    "L_1_loss.backward()\n",
    "print(w1.grad)\n"
   ]
  }
 ],
 "metadata": {
  "kernelspec": {
   "display_name": "playground",
   "language": "python",
   "name": "python3"
  },
  "language_info": {
   "codemirror_mode": {
    "name": "ipython",
    "version": 3
   },
   "file_extension": ".py",
   "mimetype": "text/x-python",
   "name": "python",
   "nbconvert_exporter": "python",
   "pygments_lexer": "ipython3",
   "version": "3.12.2"
  }
 },
 "nbformat": 4,
 "nbformat_minor": 5
}
