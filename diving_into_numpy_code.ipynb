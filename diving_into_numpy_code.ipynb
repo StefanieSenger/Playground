{
 "cells": [
  {
   "cell_type": "markdown",
   "id": "69f947d4",
   "metadata": {},
   "source": [
    "Following the first part of the workshop [\"Diving into NumPy\n",
    "Code\"](https://www.youtube.com/watch?v=G-Iep_MnSv8), held at SciPy2013. \n",
    "\n",
    "(It is this kind of tutorial that starts somewhere in the middle. I used LLM to\n",
    "understand this better and took notes here. Here are some things that I have learned or\n",
    "was reminded of:)"
   ]
  },
  {
   "cell_type": "code",
   "execution_count": null,
   "id": "886fff4c",
   "metadata": {},
   "outputs": [
    {
     "data": {
      "text/plain": [
       "dtype('>f4')"
      ]
     },
     "execution_count": 5,
     "metadata": {},
     "output_type": "execute_result"
    }
   ],
   "source": [
    "import numpy as np\n",
    "\n",
    "# creating and changing a numpy dtype\n",
    "d = np.dtype(np.float32).newbyteorder('>') # big endian\n",
    "d"
   ]
  },
  {
   "cell_type": "code",
   "execution_count": null,
   "id": "ee9f494d",
   "metadata": {},
   "outputs": [
    {
     "data": {
      "text/plain": [
       "numpy.float64"
      ]
     },
     "execution_count": 8,
     "metadata": {},
     "output_type": "execute_result"
    }
   ],
   "source": [
    "# scalar arrays are like a bridge between numpy arrays and python scalars\n",
    "\n",
    "arr = np.ones((2,2))\n",
    "arr[0,0]\n",
    "# np.float64(1.0)\n",
    "\n",
    "type(arr[0,0]) \n",
    "# I am pretty sure that is not a scalar array, but a usual numpy dtype. Has numpy\n",
    "# changed this since 2013?"
   ]
  },
  {
   "cell_type": "code",
   "execution_count": null,
   "id": "e26842a9",
   "metadata": {},
   "outputs": [
    {
     "data": {
      "text/plain": [
       "  C_CONTIGUOUS : False\n",
       "  F_CONTIGUOUS : True\n",
       "  OWNDATA : False\n",
       "  WRITEABLE : True\n",
       "  ALIGNED : True\n",
       "  WRITEBACKIFCOPY : False"
      ]
     },
     "execution_count": 15,
     "metadata": {},
     "output_type": "execute_result"
    }
   ],
   "source": [
    "# getting the transpose is basically for free, because we only need to swap the strides:\n",
    "\n",
    "arr = np.ones((2,2))\n",
    "arr.strides\n",
    "# (16, 8) \n",
    "\n",
    "# the first number is the bytes to pass in memory to get to the next row\n",
    "# the second number is the bytes to pass in memory to get to the next column\n",
    "\n",
    "# 8 bytes to the next column, because we have a np.int64 dtype and that means that we\n",
    "# use 8 bytes altogether\n",
    "\n",
    "arr.flags\n",
    "# C_CONTIGUOUS : True\n",
    "# F_CONTIGUOUS : False\n",
    "# OWNDATA : True\n",
    "# WRITEABLE : True\n",
    "# ALIGNED : True\n",
    "# WRITEBACKIFCOPY : False\n",
    "\n",
    "arr.T.strides # `arr.T` is a view, not a copy, achieved by swapping the strides\n",
    "# (8, 16)\n",
    "\n",
    "arr.T.flags\n",
    "# C_CONTIGUOUS : False\n",
    "# F_CONTIGUOUS : True\n",
    "# OWNDATA : False # since the Transpose is a view, it doesn't own the memory\n",
    "# WRITEABLE : True\n",
    "# ALIGNED : True\n",
    "# WRITEBACKIFCOPY : False"
   ]
  },
  {
   "cell_type": "code",
   "execution_count": null,
   "id": "0f28acb8",
   "metadata": {},
   "outputs": [
    {
     "data": {
      "text/plain": [
       "(3, 5, 8)"
      ]
     },
     "execution_count": 21,
     "metadata": {},
     "output_type": "execute_result"
    }
   ],
   "source": [
    "# broadcasting\n",
    "\n",
    "x = np.zeros((3,5)) # interpretation: 3 rows, 5 columns\n",
    "y = np.zeros(8)\n",
    "\n",
    "x[..., np.newaxis].shape # adding a new axis to prepare broadcasting\n",
    "# (3, 5, 1) # interpretation: 3 batches, 5 rows, 1 column\n",
    "\n",
    "(x[..., np.newaxis] + y).shape\n",
    "# (3, 5, 8) # interpretation: 3 batches, 5 rows, 8 columns"
   ]
  },
  {
   "cell_type": "code",
   "execution_count": null,
   "id": "f2245efa",
   "metadata": {},
   "outputs": [
    {
     "ename": "ValueError",
     "evalue": "operands could not be broadcast together with shapes (3,5) (8,) ",
     "output_type": "error",
     "traceback": [
      "\u001b[31m---------------------------------------------------------------------------\u001b[39m",
      "\u001b[31mValueError\u001b[39m                                Traceback (most recent call last)",
      "\u001b[36mCell\u001b[39m\u001b[36m \u001b[39m\u001b[32mIn[22]\u001b[39m\u001b[32m, line 1\u001b[39m\n\u001b[32m----> \u001b[39m\u001b[32m1\u001b[39m \u001b[43mx\u001b[49m\u001b[43m \u001b[49m\u001b[43m+\u001b[49m\u001b[43m \u001b[49m\u001b[43my\u001b[49m\n",
      "\u001b[31mValueError\u001b[39m: operands could not be broadcast together with shapes (3,5) (8,) "
     ]
    }
   ],
   "source": [
    "# without adding new axis:\n",
    "x + y"
   ]
  },
  {
   "cell_type": "markdown",
   "id": "c393cb41",
   "metadata": {},
   "source": [
    "In broadcasting, shapes are matched from right to left. Broadcasting is possible, if\n",
    "either all the dimensions are equal or are 1 or None:\n",
    "```\n",
    "   (5, 10)      (5, 10)     (5, 10, 1)\n",
    "(3, 5, 10)      (6, 10)        (10, 5)\n",
    "----------      -------     ----------\n",
    "(3, 5, 10) OK   BAD         (5, 10, 5) OK\n",
    "```"
   ]
  },
  {
   "cell_type": "code",
   "execution_count": null,
   "id": "3e4dc606",
   "metadata": {},
   "outputs": [
    {
     "data": {
      "text/plain": [
       "(40, 8, 0)"
      ]
     },
     "execution_count": 27,
     "metadata": {},
     "output_type": "execute_result"
    }
   ],
   "source": [
    "# checking strides after adding new axes\n",
    "\n",
    "x.strides\n",
    "# (40, 8)\n",
    "\n",
    "x[..., np.newaxis].strides\n",
    "# (40, 8, 0)"
   ]
  },
  {
   "cell_type": "markdown",
   "id": "b34a635e",
   "metadata": {},
   "source": [
    "Combining indexing and broadcasting"
   ]
  },
  {
   "cell_type": "code",
   "execution_count": null,
   "id": "b3a6bc72",
   "metadata": {},
   "outputs": [
    {
     "data": {
      "text/plain": [
       "array([[1, 2],\n",
       "       [3, 4]])"
      ]
     },
     "execution_count": 28,
     "metadata": {},
     "output_type": "execute_result"
    }
   ],
   "source": [
    "x = np.array([[1, 2], [3, 4]])\n",
    "x"
   ]
  },
  {
   "cell_type": "code",
   "execution_count": null,
   "id": "ad5a3fc3",
   "metadata": {},
   "outputs": [],
   "source": [
    "# creating indexing arrays\n",
    "ix0 = np.array([0, 0, 1, 1]) # shape (4,)\n",
    "# array([0, 0, 1, 1])\n",
    "\n",
    "ix1 = np.array([[1], [0]]) # shape (2, 1)\n",
    "# array([[1],\n",
    "#        [0]])"
   ]
  },
  {
   "cell_type": "code",
   "execution_count": null,
   "id": "05adbd54",
   "metadata": {},
   "outputs": [
    {
     "data": {
      "text/plain": [
       "array([[2, 2, 4, 4],\n",
       "       [1, 1, 3, 3]])"
      ]
     },
     "execution_count": 30,
     "metadata": {},
     "output_type": "execute_result"
    }
   ],
   "source": [
    "# indexing with broadcasting\n",
    "x[ix0, ix1]"
   ]
  },
  {
   "cell_type": "code",
   "execution_count": null,
   "id": "8eb27c7f",
   "metadata": {},
   "outputs": [
    {
     "data": {
      "text/plain": [
       "(array([[0, 0, 1, 1],\n",
       "        [0, 0, 1, 1]]),\n",
       " array([[1, 1, 1, 1],\n",
       "        [0, 0, 0, 0]]))"
      ]
     },
     "execution_count": 31,
     "metadata": {},
     "output_type": "execute_result"
    }
   ],
   "source": [
    "# let's discover what happens while indexing with broadcasting:\n",
    "\n",
    "# first the two indexing arrays are broadcast together\n",
    "\n",
    "# this is how we can see what that gives us:\n",
    "np.broadcast_arrays(ix0, ix1) # returns both arrays, but broadcast together\n",
    "\n",
    "# seems that broadcasting has nothing to do with any element-wise math operation that\n",
    "# goes on between two arrays, as I had previously thought; seems to be the step before"
   ]
  },
  {
   "cell_type": "code",
   "execution_count": null,
   "id": "c36dd78e",
   "metadata": {},
   "outputs": [
    {
     "data": {
      "text/plain": [
       "array([[2, 2, 4, 4],\n",
       "       [1, 1, 3, 3]])"
      ]
     },
     "execution_count": 36,
     "metadata": {},
     "output_type": "execute_result"
    }
   ],
   "source": [
    "# these are then used to index x one after the other\n",
    "# the elements of the new first row are x[0,1], then x[0,1], then x[1,1] and x[1,1]\n",
    "# for the second row these are x[0,0], x[0,0], x[1,0] and x[1,0]\n",
    "\n",
    "x\n",
    "# array([[1, 2],\n",
    "#        [3, 4]])\n",
    "\n",
    "x[ix0, ix1]"
   ]
  },
  {
   "cell_type": "code",
   "execution_count": 42,
   "id": "fdf3046e",
   "metadata": {},
   "outputs": [
    {
     "data": {
      "text/plain": [
       "array([[2, 3, 4],\n",
       "       [3, 4, 5]])"
      ]
     },
     "execution_count": 42,
     "metadata": {},
     "output_type": "execute_result"
    }
   ],
   "source": [
    "# a more intuitive example\n",
    "\n",
    "a = np.array([1,2,3])\n",
    "b = np.array([[1], [2]])\n",
    "\n",
    "np.broadcast_arrays(a, b)\n",
    "# (array([[1, 2, 3],\n",
    "#         [1, 2, 3]]),\n",
    "#  array([[1, 1, 1],\n",
    "#         [2, 2, 2]]))\n",
    "\n",
    "a+b"
   ]
  }
 ],
 "metadata": {
  "kernelspec": {
   "display_name": "playground",
   "language": "python",
   "name": "python3"
  },
  "language_info": {
   "codemirror_mode": {
    "name": "ipython",
    "version": 3
   },
   "file_extension": ".py",
   "mimetype": "text/x-python",
   "name": "python",
   "nbconvert_exporter": "python",
   "pygments_lexer": "ipython3",
   "version": "3.12.2"
  }
 },
 "nbformat": 4,
 "nbformat_minor": 5
}
