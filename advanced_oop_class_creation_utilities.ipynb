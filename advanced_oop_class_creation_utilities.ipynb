{
 "cells": [
  {
   "cell_type": "markdown",
   "id": "4a5b8dd7",
   "metadata": {},
   "source": [
    "# Advanced OOP\n",
    "Here, I follow the LinkedIn Learning course [Advanced Python: Object-Oriented\n",
    "Programming](https://www.linkedin.com/learning/advanced-python-object-oriented-programming/advanced-object-oriented-programming-oop?resume=false&u=72605090)\n",
    "by Miki Tebeka and try the code. Here is the [course\n",
    "repo](https://github.com/LinkedInLearning/advanced-python-object-oriented-programming-4510177)\n",
    "(it is very good).\n",
    "\n",
    "## Part 5: Class Creation Utilities\n",
    "\n",
    "### Class decorators"
   ]
  },
  {
   "cell_type": "code",
   "execution_count": null,
   "id": "21acb66c",
   "metadata": {},
   "outputs": [
    {
     "name": "stdout",
     "output_type": "stream",
     "text": [
      "{'application/json': <class '__main__.JSONSerializer'>}\n",
      "{\"login\": \"elliot\", \"action\": \"logout\"}\n",
      "{\"login\": \"elliot\", \"action\": \"access\", \"uri\": \"file:///etc/passwd\"}\n"
     ]
    }
   ],
   "source": [
    "serializers = {}  # media_type -> class\n",
    "\n",
    "\n",
    "class serializer:\n",
    "    def __init__(self, media_type):\n",
    "        self.media_type = media_type # 'application/json' is passed as `media_type`\n",
    "    \n",
    "    def __call__(self, cls): # takes decorated class as an argument\n",
    "        # this is the application of the decorator on the class\n",
    "        if (other := serializers.get(self.media_type)):\n",
    "            name = other.__name__\n",
    "            msg = f'{self.media_type} already registered to {name}'\n",
    "            raise ValueError(msg)\n",
    "        \n",
    "        dump = getattr(cls, 'dump', None)\n",
    "        if not callable(dump):\n",
    "            name = cls.__name__\n",
    "            raise ValueError(f'{name} does not have a \"dump\" method')\n",
    "        \n",
    "        serializers[self.media_type] = cls\n",
    "        return cls\n",
    "\n",
    "\n",
    "def serialize(out, media_type, objects):\n",
    "    cls = serializers.get(media_type)\n",
    "    if cls is None:\n",
    "        raise ValueError('unknown media type: {media_type!r}')\n",
    "    serializer = cls(out)\n",
    "    for obj in objects:\n",
    "        serializer.dump(obj)\n",
    "\n",
    "\n",
    "\n",
    "import json\n",
    "\n",
    "@serializer('application/json')\n",
    "class JSONSerializer:\n",
    "    def __init__(self, out):\n",
    "        self.out = out\n",
    "\n",
    "    def dump(self, obj):\n",
    "        json.dump(obj, self.out)\n",
    "        self.out.write('\\n')\n",
    "\n",
    "\n",
    "import sys\n",
    "\n",
    "events = [\n",
    "    {\n",
    "        'login': 'elliot',\n",
    "        'action': 'logout',\n",
    "    },\n",
    "    {\n",
    "        'login': 'elliot',\n",
    "        'action': 'access',\n",
    "        'uri': 'file:///etc/passwd',\n",
    "    },\n",
    "]\n",
    "\n",
    "print(serializers)\n",
    "# {'application/json': <class '__main__.JSONSerializer'>}\n",
    "# now that class is \"registered\", as they call it in the course\n",
    "\n",
    "serialize(sys.stdout, 'application/json', events)"
   ]
  },
  {
   "cell_type": "markdown",
   "id": "56b1eaa7",
   "metadata": {},
   "source": [
    "- more relevant usecases for me are the\n",
    "  [`_IgnoreWarning`](https://github.com/scikit-learn/scikit-learn/blob/031d2f83b7c9d1027d1477abb2bf34652621d603/sklearn/utils/_testing.py#L118)\n",
    "  class in scikit-learn that filters warnings that raise in tests, and the\n",
    "  [`deprecated`](https://scikit-learn.org/stable/modules/generated/sklearn.utils.deprecated.html)\n",
    "  class decorator, which is especially insightful because it can decorate classes,\n",
    "  functions and properties (meaning other decorators) ([link to\n",
    "  code](https://github.com/scikit-learn/scikit-learn/blob/031d2f83b7c9d1027d1477abb2bf34652621d603/sklearn/utils/deprecation.py#L11))\n",
    "\n",
    "\n",
    "### `namedtuple()`\n",
    "\n",
    "- has a different metaclass than `type` (but that is not the main point here)\n",
    "- `namedtuple()` returns a new class created dynamically!\n",
    "    - this class is still an instance of `type`, but it is created via a factory function that uses `type()` internally\n",
    "    - the returned class doesn't have a custom metaclass by default, but the way it is constructed differs from a regular class statement"
   ]
  },
  {
   "cell_type": "code",
   "execution_count": 2,
   "id": "c1081d8e",
   "metadata": {},
   "outputs": [
    {
     "name": "stdout",
     "output_type": "stream",
     "text": [
      "Room(x=1, y=2)\n",
      "len: 2\n",
      "x: 1\n",
      "[0]: 1\n"
     ]
    }
   ],
   "source": [
    "from collections import namedtuple\n",
    "\n",
    "Room = namedtuple('Room', 'x y')\n",
    "\n",
    "r1 = Room(1, 2)\n",
    "print(r1) # it has a nice __repr__\n",
    "\n",
    "print('len:', len(r1)) # __len__ implemented\n",
    "print('x:', r1.x) # does not work via __getattr__, but because it is a namedtuple, which \n",
    "# creates immutable attributes, it adds properties to the class for each field\n",
    "print('[0]:', r1[0]) # __getitem__ implemented\n"
   ]
  },
  {
   "cell_type": "code",
   "execution_count": 3,
   "id": "82823a33",
   "metadata": {},
   "outputs": [
    {
     "data": {
      "text/plain": [
       "mappingproxy({'__doc__': 'Room(x, y)',\n",
       "              '__slots__': (),\n",
       "              '_fields': ('x', 'y'),\n",
       "              '_field_defaults': {},\n",
       "              '__new__': <staticmethod(<function Room.__new__ at 0x7f7621efe700>)>,\n",
       "              '_make': <classmethod(<function Room._make at 0x7f7621efec00>)>,\n",
       "              '_replace': <function collections.Room._replace(self, /, **kwds)>,\n",
       "              '__repr__': <function collections.Room.__repr__(self)>,\n",
       "              '_asdict': <function collections.Room._asdict(self)>,\n",
       "              '__getnewargs__': <function collections.Room.__getnewargs__(self)>,\n",
       "              '__match_args__': ('x', 'y'),\n",
       "              'x': _tuplegetter(0, 'Alias for field number 0'),\n",
       "              'y': _tuplegetter(1, 'Alias for field number 1'),\n",
       "              '__module__': '__main__'})"
      ]
     },
     "execution_count": 3,
     "metadata": {},
     "output_type": "execute_result"
    }
   ],
   "source": [
    "Room.__dict__\n",
    "\n",
    "# we can see `_tuplegetter`, which indicates that namedtuple internally functions with\n",
    "# properties"
   ]
  },
  {
   "cell_type": "markdown",
   "id": "a29413a7",
   "metadata": {},
   "source": [
    "Since the attributes of a `namedtupe()` are immutable, we can use them as keys in a\n",
    "dictionary:"
   ]
  },
  {
   "cell_type": "code",
   "execution_count": 5,
   "id": "e634a2d1",
   "metadata": {},
   "outputs": [
    {
     "name": "stdout",
     "output_type": "stream",
     "text": [
      "defaultdict(<class 'list'>, {Room(x=1, y=2): ['amy']})\n",
      "Room(x=3, y=2)\n",
      "{'x': 3, 'y': 2}\n",
      "True\n"
     ]
    }
   ],
   "source": [
    "from collections import defaultdict\n",
    "\n",
    "players = defaultdict(list)\n",
    "players[r1].append('amy')\n",
    "print(players)\n",
    "# defaultdict(<class 'list'>, {Room(x=1, y=2): ['amy']})\n",
    "\n",
    "\n",
    "r2 = r1._replace(x=3) # create a new instance, because namedtuples are immutable\n",
    "print(r2)\n",
    "print(r2._asdict())\n",
    "\n",
    "# %% compare\n",
    "Range = namedtuple('Range', 'low high')\n",
    "\n",
    "rng = Range(1, 2)\n",
    "print(rng == r1)"
   ]
  },
  {
   "cell_type": "code",
   "execution_count": null,
   "id": "ed63a804",
   "metadata": {},
   "outputs": [],
   "source": []
  }
 ],
 "metadata": {
  "kernelspec": {
   "display_name": "playground",
   "language": "python",
   "name": "python3"
  },
  "language_info": {
   "codemirror_mode": {
    "name": "ipython",
    "version": 3
   },
   "file_extension": ".py",
   "mimetype": "text/x-python",
   "name": "python",
   "nbconvert_exporter": "python",
   "pygments_lexer": "ipython3",
   "version": "3.12.2"
  }
 },
 "nbformat": 4,
 "nbformat_minor": 5
}
