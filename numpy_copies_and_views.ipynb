{
 "cells": [
  {
   "cell_type": "markdown",
   "id": "297ad687",
   "metadata": {},
   "source": [
    "## NumPy fundamentals\n",
    "\n",
    "Here, I'm working through several parts of the numpy docs and make sense of it. Covered: <br>\n",
    "     - [Copies and views](https://numpy.org/doc/stable/user/basics.copies.html#view) <br>\n",
    "     - [numpy.ndarray.base](https://numpy.org/doc/2.2/reference/generated/numpy.ndarray.base.html) <br>\n",
    "     - [Internal organization of NumPy arrays](https://numpy.org/doc/stable/dev/internals.html#numpy-internals) <br>"
   ]
  },
  {
   "cell_type": "markdown",
   "id": "63ef5325",
   "metadata": {},
   "source": [
    "### Copies and Views\n",
    "\n",
    "- numpy arrays consist of metadata on the array and a data buffer\n",
    "- most operations try to avoid copying if possible and create a new metadata object (a\n",
    "  view) instead, but might create a copy is not possible to avoid\n",
    "- operations like `reshape()` create a new view that have new metadata that apply to the\n",
    "  same data buffer\n",
    "- operations like `.T` create a new view with the metadata heavily modified (which leads\n",
    "  to non-[contiguous](https://numpy.org/doc/stable/glossary.html#term-contiguous) arrays)"
   ]
  },
  {
   "cell_type": "code",
   "execution_count": 2,
   "id": "1c7b5419",
   "metadata": {},
   "outputs": [
    {
     "data": {
      "text/plain": [
       "array([0, 1, 2, 3, 4, 5, 6, 7, 8])"
      ]
     },
     "execution_count": 2,
     "metadata": {},
     "output_type": "execute_result"
    }
   ],
   "source": [
    "import numpy as np\n",
    "\n",
    "# simple indexing creates a view\n",
    "x = np.arange(9)\n",
    "z = x[1:3] # slicing on 1d array creates a view\n",
    "\n",
    "z.base \n",
    "# base attribute returns the base array this array is based on, or None (if it is a base array)"
   ]
  },
  {
   "cell_type": "code",
   "execution_count": 7,
   "id": "4a4aa8a5",
   "metadata": {},
   "outputs": [
    {
     "data": {
      "text/plain": [
       "array([ 0, 10, 11,  3,  4,  5,  6,  7,  8])"
      ]
     },
     "execution_count": 7,
     "metadata": {},
     "output_type": "execute_result"
    }
   ],
   "source": [
    "x[1:3] = [10, 11] # changing a part\n",
    "x"
   ]
  },
  {
   "cell_type": "code",
   "execution_count": 8,
   "id": "aea7a933",
   "metadata": {},
   "outputs": [
    {
     "data": {
      "text/plain": [
       "array([10, 11])"
      ]
     },
     "execution_count": 8,
     "metadata": {},
     "output_type": "execute_result"
    }
   ],
   "source": [
    "z # z get's changes as well, because it is a view"
   ]
  },
  {
   "cell_type": "code",
   "execution_count": 9,
   "id": "49030f51",
   "metadata": {},
   "outputs": [
    {
     "data": {
      "text/plain": [
       "array([[0, 1, 2],\n",
       "       [3, 4, 5],\n",
       "       [6, 7, 8]])"
      ]
     },
     "execution_count": 9,
     "metadata": {},
     "output_type": "execute_result"
    }
   ],
   "source": [
    "# advanced indexing creates a copy\n",
    "x = np.arange(9).reshape(3, 3)\n",
    "x"
   ]
  },
  {
   "cell_type": "code",
   "execution_count": 10,
   "id": "f6014bf3",
   "metadata": {},
   "outputs": [
    {
     "data": {
      "text/plain": [
       "array([[3, 4, 5],\n",
       "       [6, 7, 8]])"
      ]
     },
     "execution_count": 10,
     "metadata": {},
     "output_type": "execute_result"
    }
   ],
   "source": [
    "y = x[[1, 2]] # advanced indexing on 2d array: `[1, 2]` is a list of rows\n",
    "y"
   ]
  },
  {
   "cell_type": "code",
   "execution_count": null,
   "id": "6a1d809c",
   "metadata": {},
   "outputs": [
    {
     "data": {
      "text/plain": [
       "True"
      ]
     },
     "execution_count": 11,
     "metadata": {},
     "output_type": "execute_result"
    }
   ],
   "source": [
    "y.base is None # this proofs a copy is returned, since `y` has no base in `x`"
   ]
  },
  {
   "cell_type": "code",
   "execution_count": null,
   "id": "5551a9e1",
   "metadata": {},
   "outputs": [
    {
     "data": {
      "text/plain": [
       "array([[99,  4,  5],\n",
       "       [ 6,  7,  8]])"
      ]
     },
     "execution_count": 17,
     "metadata": {},
     "output_type": "execute_result"
    }
   ],
   "source": [
    "y[0,0] = 99 # since this is a copy this change in y ...\n",
    "y"
   ]
  },
  {
   "cell_type": "code",
   "execution_count": null,
   "id": "05166adf",
   "metadata": {},
   "outputs": [
    {
     "data": {
      "text/plain": [
       "array([[0, 1, 2],\n",
       "       [3, 4, 5],\n",
       "       [6, 7, 8]])"
      ]
     },
     "execution_count": 18,
     "metadata": {},
     "output_type": "execute_result"
    }
   ],
   "source": [
    "x # ... doesn't affect x at all"
   ]
  },
  {
   "cell_type": "code",
   "execution_count": null,
   "id": "4bd50788",
   "metadata": {},
   "outputs": [
    {
     "data": {
      "text/plain": [
       "False"
      ]
     },
     "execution_count": 3,
     "metadata": {},
     "output_type": "execute_result"
    }
   ],
   "source": [
    "# The numpy.reshape function creates a view where possible or a copy otherwise. This\n",
    "# depends on whether the array is still contiguous (elements are still in order in the\n",
    "# memory) or not.\n",
    "\n",
    "x = np.arange(9).reshape(3, 3)\n",
    "x.T.flags['C_CONTIGUOUS'] #  the transpose is not contiguous (at least not for C-ordered arrays)"
   ]
  },
  {
   "cell_type": "code",
   "execution_count": null,
   "id": "f0a8f8db",
   "metadata": {},
   "outputs": [
    {
     "data": {
      "text/plain": [
       "True"
      ]
     },
     "execution_count": 4,
     "metadata": {},
     "output_type": "execute_result"
    }
   ],
   "source": [
    "x.T.flags['F_CONTIGUOUS'] # but for F-ordered arrays it is ...\n",
    "\n",
    "# I mean, sure: it's the other way around, but how can it be contiguous compared to\n",
    "# before?"
   ]
  },
  {
   "cell_type": "code",
   "execution_count": null,
   "id": "358b9a0b",
   "metadata": {},
   "outputs": [
    {
     "data": {
      "text/plain": [
       "False"
      ]
     },
     "execution_count": 11,
     "metadata": {},
     "output_type": "execute_result"
    }
   ],
   "source": [
    "# now let's check if strides are contiguous\n",
    "x = np.arange(9)\n",
    "y = x[::2]\n",
    "y # array([0, 2, 4, 6, 8])\n",
    "y.flags['C_CONTIGUOUS'] # neither?\n",
    "\n",
    "# strange, that contradicts the docs, it seems, that states \"In most cases, the strides\n",
    "# can be modified to reshape the array with a view.\"\n",
    "# (https://numpy.org/doc/stable/user/basics.copies.html#view)"
   ]
  },
  {
   "cell_type": "code",
   "execution_count": null,
   "id": "6de4ebc0",
   "metadata": {},
   "outputs": [
    {
     "data": {
      "text/plain": [
       "array([0, 1, 2, 3, 4, 5, 6, 7, 8])"
      ]
     },
     "execution_count": 13,
     "metadata": {},
     "output_type": "execute_result"
    }
   ],
   "source": [
    "y.base # yet the base is still x, and thus y is a view ...\n",
    "\n",
    "# so obviously those two concepts (view and continuity of memory addresses don't 100%\n",
    "# overlap"
   ]
  },
  {
   "cell_type": "code",
   "execution_count": null,
   "id": "971de2d3",
   "metadata": {},
   "outputs": [
    {
     "ename": "AttributeError",
     "evalue": "Incompatible shape for in-place modification. Use `.reshape()` to make a copy with the desired shape.",
     "output_type": "error",
     "traceback": [
      "\u001b[31m---------------------------------------------------------------------------\u001b[39m",
      "\u001b[31mAttributeError\u001b[39m                            Traceback (most recent call last)",
      "\u001b[36mCell\u001b[39m\u001b[36m \u001b[39m\u001b[32mIn[22]\u001b[39m\u001b[32m, line 16\u001b[39m\n\u001b[32m     12\u001b[39m y.base\n\u001b[32m     13\u001b[39m \u001b[38;5;66;03m# array([[1., 1., 1.],\u001b[39;00m\n\u001b[32m     14\u001b[39m \u001b[38;5;66;03m#        [1., 1., 1.]])\u001b[39;00m\n\u001b[32m---> \u001b[39m\u001b[32m16\u001b[39m \u001b[43my\u001b[49m\u001b[43m.\u001b[49m\u001b[43mshape\u001b[49m = \u001b[32m6\u001b[39m\n",
      "\u001b[31mAttributeError\u001b[39m: Incompatible shape for in-place modification. Use `.reshape()` to make a copy with the desired shape."
     ]
    }
   ],
   "source": [
    "x = np.ones((2, 3))\n",
    "\n",
    "#x.shape = 6 # we could do that to re-shape x into id\n",
    "\n",
    "y = x.T  # makes the array non-contiguous and creates a view with reordered strides\n",
    "\n",
    "y\n",
    "# array([[1., 1.],\n",
    "#        [1., 1.],\n",
    "#        [1., 1.]])\n",
    "\n",
    "y.base\n",
    "# array([[1., 1., 1.],\n",
    "#        [1., 1., 1.]])\n",
    "\n",
    "y.shape = 6 # raises an error, since y is no longer contiguous"
   ]
  },
  {
   "cell_type": "code",
   "execution_count": null,
   "id": "45fc61c5",
   "metadata": {},
   "outputs": [
    {
     "data": {
      "text/plain": [
       "array([[1., 1.],\n",
       "       [1., 1.],\n",
       "       [1., 1.]])"
      ]
     },
     "execution_count": 28,
     "metadata": {},
     "output_type": "execute_result"
    }
   ],
   "source": [
    "# use .reshape to return a copy\n",
    "z = y.reshape(-1)\n",
    "z # array([1., 1., 1., 1., 1., 1.])\n",
    "z.base # it still returns a view on y(!), but not on x"
   ]
  }
 ],
 "metadata": {
  "kernelspec": {
   "display_name": "playground",
   "language": "python",
   "name": "python3"
  },
  "language_info": {
   "codemirror_mode": {
    "name": "ipython",
    "version": 3
   },
   "file_extension": ".py",
   "mimetype": "text/x-python",
   "name": "python",
   "nbconvert_exporter": "python",
   "pygments_lexer": "ipython3",
   "version": "3.12.2"
  }
 },
 "nbformat": 4,
 "nbformat_minor": 5
}
