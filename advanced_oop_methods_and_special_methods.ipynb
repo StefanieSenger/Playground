{
 "cells": [
  {
   "cell_type": "markdown",
   "id": "4a5b8dd7",
   "metadata": {},
   "source": [
    "# Advanced OOP\n",
    "Here, I follow the LinkedIn Learning course [Advanced Python: Object-Oriented\n",
    "Programming](https://www.linkedin.com/learning/advanced-python-object-oriented-programming/advanced-object-oriented-programming-oop?resume=false&u=72605090)\n",
    "by Miki Tebeka and try the code. Here is the [course\n",
    "repo](https://github.com/LinkedInLearning/advanced-python-object-oriented-programming-4510177)\n",
    "(it is very good). I have added quite some additional explanations from ChatGPT, that I\n",
    "needed to understand, and also some additional exercises.\n",
    "\n",
    "## Part 2: Methods\n",
    "\n",
    "### Using class methods\n",
    "\n",
    "- mostly used to as a different way to create an instance of a class\n",
    "    - for instance see the many ways to instantiate pythons [datetime objects](https://docs.python.org/3/library/datetime.html#datetime-objects)"
   ]
  },
  {
   "cell_type": "code",
   "execution_count": null,
   "id": "58d6044a",
   "metadata": {},
   "outputs": [
    {
     "name": "stdout",
     "output_type": "stream",
     "text": [
      "carly <class '__main__.User'>\n",
      "carly <class '__main__.User'>\n",
      "elliot <class '__main__.Admin'>\n"
     ]
    }
   ],
   "source": [
    "class Auth:\n",
    "    def __init__(self, db):\n",
    "        self.db = db\n",
    "\n",
    "    def from_token(self, token):\n",
    "        return self.db.get(token)\n",
    "\n",
    "# that's our database\n",
    "auth = Auth({\n",
    "    'b92d877': 'carly',\n",
    "    '18317ac': 'elliot',\n",
    "})\n",
    "\n",
    "\n",
    "class User:\n",
    "    def __init__(self, login):\n",
    "        self.login = login\n",
    "        # TODO: More fields\n",
    "\n",
    "    @classmethod # as alternate constructor\n",
    "    def from_token(cls, token):\n",
    "        login = auth.from_token(token)\n",
    "        return cls(login)\n",
    "\n",
    "class Admin(User):\n",
    "    ...  # TODO\n",
    "    \n",
    "\n",
    "u = User('carly')\n",
    "print(u.login, type(u))\n",
    "\n",
    "u = User.from_token('b92d877')\n",
    "print(u.login, type(u))\n",
    "\n",
    "a = Admin.from_token('18317ac')\n",
    "print(a.login, type(a))"
   ]
  },
  {
   "cell_type": "markdown",
   "id": "fd2aeee1",
   "metadata": {},
   "source": [
    "### Using static methods\n",
    "\n",
    "- functions that are assigned to a class\n",
    "- only reason: discoverability"
   ]
  },
  {
   "cell_type": "code",
   "execution_count": 8,
   "id": "0e31cc8f",
   "metadata": {},
   "outputs": [
    {
     "name": "stdout",
     "output_type": "stream",
     "text": [
      "strong_bruce\n"
     ]
    }
   ],
   "source": [
    "from random import choice\n",
    "\n",
    "adjectives = ['cool', 'funny', 'strong']\n",
    "names = ['bruce', 'carol', 'natasha']\n",
    "\n",
    "\n",
    "class VM:\n",
    "    def __init__(self):\n",
    "        self.name = VM.random_name()\n",
    "\n",
    "\n",
    "    @staticmethod\n",
    "    def random_name():\n",
    "        adjective, name = choice(adjectives), choice(names)\n",
    "        return f'{adjective}_{name}'\n",
    "\n",
    "\n",
    "# %% Test\n",
    "vm = VM()\n",
    "print(vm.name)"
   ]
  },
  {
   "cell_type": "markdown",
   "id": "8678581c",
   "metadata": {},
   "source": [
    "### Mixin classes\n",
    "\n",
    "- add functionality to other classes"
   ]
  },
  {
   "cell_type": "code",
   "execution_count": 9,
   "id": "c8d56d32",
   "metadata": {},
   "outputs": [
    {
     "name": "stderr",
     "output_type": "stream",
     "text": [
      "INFO: root with id 1\n",
      "INFO: m1 with id '4922a77'\n"
     ]
    }
   ],
   "source": [
    "import logging\n",
    "\n",
    "\n",
    "logging.basicConfig(\n",
    "    level=logging.INFO,\n",
    "    format='%(levelname)s: %(message)s',\n",
    ")\n",
    "\n",
    "class LoggerMixin:\n",
    "    def log_id(self):\n",
    "        logging.info('%s with id %r', self.name, self.id)\n",
    "\n",
    "\n",
    "class User:\n",
    "    def __init__(self, name, id):\n",
    "        self.name = name\n",
    "        self.id = id\n",
    "\n",
    "\n",
    "class VM:\n",
    "    def __init__(self, name, id):\n",
    "        self.name = name\n",
    "        self.id = id\n",
    "\n",
    "class LoggedUser(LoggerMixin, User):\n",
    "    pass\n",
    "\n",
    "class LoggedVM(LoggerMixin, VM):\n",
    "    pass\n",
    "\n",
    "\n",
    "user = LoggedUser('root', 1)\n",
    "user.log_id()\n",
    "\n",
    "vm = LoggedVM('m1', '4922a77')\n",
    "vm.log_id()"
   ]
  },
  {
   "cell_type": "markdown",
   "id": "57096801",
   "metadata": {},
   "source": [
    "### Abstract base classes\n",
    "\n",
    "- this is to discover errors (here: typo in method name) as early as possible\n",
    "\n",
    "- using an abstract base class makes the error discoverable in build time rather than in\n",
    "  test time\n",
    "    - (I still think this improvement in error discovery is minimal though)\n",
    "\n",
    "- very practical with mixin classes, because it can be specified what the mixin expects\n",
    "  from the lass it enhances"
   ]
  },
  {
   "cell_type": "code",
   "execution_count": 10,
   "id": "400f3c89",
   "metadata": {},
   "outputs": [
    {
     "ename": "TypeError",
     "evalue": "Can't instantiate abstract class SecurityPlugin without an implementation for abstract method 'shutdown'",
     "output_type": "error",
     "traceback": [
      "\u001b[31m---------------------------------------------------------------------------\u001b[39m",
      "\u001b[31mTypeError\u001b[39m                                 Traceback (most recent call last)",
      "\u001b[36mCell\u001b[39m\u001b[36m \u001b[39m\u001b[32mIn[10]\u001b[39m\u001b[32m, line 47\u001b[39m\n\u001b[32m     44\u001b[39m         \u001b[38;5;28mself\u001b[39m.user = user\n\u001b[32m     45\u001b[39m         \u001b[38;5;28mself\u001b[39m.action = action\n\u001b[32m---> \u001b[39m\u001b[32m47\u001b[39m plugins = [LoggingPlugin(), \u001b[43mSecurityPlugin\u001b[49m\u001b[43m(\u001b[49m\u001b[43m)\u001b[49m]\n\u001b[32m     48\u001b[39m event = Event(\u001b[33m'\u001b[39m\u001b[33melliot\u001b[39m\u001b[33m'\u001b[39m, \u001b[33m'\u001b[39m\u001b[33mlogin\u001b[39m\u001b[33m'\u001b[39m)\n\u001b[32m     49\u001b[39m notify(plugins, event)\n",
      "\u001b[31mTypeError\u001b[39m: Can't instantiate abstract class SecurityPlugin without an implementation for abstract method 'shutdown'"
     ]
    }
   ],
   "source": [
    "from abc import ABC, abstractmethod\n",
    "\n",
    "\n",
    "class Plugin(ABC):\n",
    "    @abstractmethod\n",
    "    def notify(self, event):\n",
    "        pass\n",
    "\n",
    "    @abstractmethod\n",
    "    def shutdown(self):\n",
    "        pass\n",
    "\n",
    "\n",
    "class LoggingPlugin(Plugin):\n",
    "    def notify(self, event):\n",
    "        print(f'got {event}')\n",
    "\n",
    "    def shutdown(self):\n",
    "        print('logger shutting down')\n",
    "\n",
    "\n",
    "class SecurityPlugin(Plugin):\n",
    "    def notify(self, event):\n",
    "        if event.action == 'login' and event.user == 'elliot':\n",
    "            print(f'WARNING: {event.user} has logged in')\n",
    "\n",
    "    def shutdwon(self): ######## watch the typo\n",
    "        print('security shutting down')\n",
    "\n",
    "\n",
    "def notify(plugins, event):\n",
    "    for plugin in plugins:\n",
    "        plugin.notify(event)\n",
    "\n",
    "\n",
    "def shutdown(plugins):\n",
    "    for plugin in plugins:\n",
    "        plugin.shutdown()\n",
    "\n",
    "\n",
    "\n",
    "class Event:\n",
    "    def __init__(self, user, action):\n",
    "        self.user = user\n",
    "        self.action = action\n",
    "\n",
    "plugins = [LoggingPlugin(), SecurityPlugin()]\n",
    "event = Event('elliot', 'login')\n",
    "notify(plugins, event)\n",
    "shutdown(plugins)"
   ]
  },
  {
   "cell_type": "code",
   "execution_count": 11,
   "id": "87c7f29f",
   "metadata": {},
   "outputs": [],
   "source": [
    "# the mixin class specifies what methods are expected in the class it enhances\n",
    "\n",
    "from abc import ABC, abstractmethod\n",
    "\n",
    "class SaveMixin(ABC):\n",
    "    @abstractmethod\n",
    "    def serialize(self):\n",
    "        pass\n",
    "\n",
    "    def save(self, filepath):\n",
    "        data = self.serialize()\n",
    "        with open(filepath, 'w') as f:\n",
    "            f.write(data)\n"
   ]
  },
  {
   "cell_type": "markdown",
   "id": "90ea69f8",
   "metadata": {},
   "source": [
    "### Defining interfaces with `typing.Protocol`"
   ]
  },
  {
   "cell_type": "code",
   "execution_count": null,
   "id": "5afbec13",
   "metadata": {},
   "outputs": [
    {
     "name": "stdout",
     "output_type": "stream",
     "text": [
      "s3: write: b'{\"id\": \"007\", \"lat\": 51.4871871, \"lng\": -0.1270605}'\n"
     ]
    }
   ],
   "source": [
    "from typing import Protocol\n",
    "\n",
    "\n",
    "class Writer(Protocol):\n",
    "    # that's only for defining the signatures of the functions and the expected types\n",
    "    def write(self, data: bytes) -> None:\n",
    "        ... # code doesn't matter\n",
    "\n",
    "\n",
    "import json\n",
    "\n",
    "def store_json(w: Writer, obj: dict) -> None:\n",
    "    # expects an object adhering to the Writer protocol passed as `w`\n",
    "    data = json.dumps(obj).encode('utf-8') # sends bytes to the object passed as `w`\n",
    "    w.write(data)\n",
    "\n",
    "\n",
    "class S3File:\n",
    "    # does not inherit from Writer, but would be expected to adher to it\n",
    "    def write(self, data: str) -> None: # type mismatch! expects str, but gets bytes; would raise when running mypy\n",
    "        print(f's3: write: {data!r}')\n",
    "\n",
    "\n",
    "out = S3File()\n",
    "obj = {\n",
    "    'id': '007',\n",
    "    'lat': 51.4871871,\n",
    "    'lng': -0.1270605,\n",
    "}\n",
    "store_json(out, obj) \n",
    "# `store_json` gets passed an object not adhering to the Writer protocol, but still\n",
    "# treats it as if it was, printing the data in the write method as bytes (which shows by\n",
    "# the `b'` in front of the dict: it’s treating the bytes as a string)."
   ]
  },
  {
   "cell_type": "markdown",
   "id": "469b65b5",
   "metadata": {},
   "source": [
    "## Part 3: Special Methods\n",
    "\n",
    "### String representations\n",
    "- `__repr__`: representation for developers\n",
    "- `__str__`: for print()\n",
    "- `__format__`: formattable version of `__str__`"
   ]
  },
  {
   "cell_type": "code",
   "execution_count": null,
   "id": "fafba6ca",
   "metadata": {},
   "outputs": [
    {
     "name": "stdout",
     "output_type": "stream",
     "text": [
      "£123.45\n",
      "p=Payment(123.45, '£')\n",
      "p=Payment(123.45, '£')\n",
      "A payment of 123.45 in £\n"
     ]
    },
    {
     "data": {
      "text/plain": [
       "Payment(123.45, '£')"
      ]
     },
     "execution_count": 3,
     "metadata": {},
     "output_type": "execute_result"
    }
   ],
   "source": [
    "import re\n",
    "\n",
    "\n",
    "class Payment:\n",
    "    def __init__(self, amount, currency):\n",
    "        self.amount = amount\n",
    "        self.currency = currency\n",
    "\n",
    "    def __str__(self):\n",
    "        return f'{self.currency}{self.amount:.2f}'\n",
    "\n",
    "    def __repr__(self):\n",
    "        name = self.__class__.__name__\n",
    "        return f'{name}({self.amount!r}, {self.currency!r})' # `!r` stands for repr\n",
    "\n",
    "    def _replace(self, match):\n",
    "        ### customises the formatting codes, that can be used in f-strings or format() function\n",
    "        if match[1] == 'a':\n",
    "            return f'{self.amount:.2f}'\n",
    "        if match[1] == 'c':\n",
    "            return self.currency\n",
    "        raise ValueError(f'unknown format: {match.group()}')\n",
    "\n",
    "    def __format__(self, spec):\n",
    "        if not spec:\n",
    "            return str(self)\n",
    "        return re.sub(r'(?<!%)%([ac])', self._replace, spec)\n",
    "\n",
    "\n",
    "\n",
    "p = Payment(123.45, '£')\n",
    "\n",
    "# %% str\n",
    "print(p)\n",
    "\n",
    "# %% repr\n",
    "print(f'p={p!r}')\n",
    "print(f'{p=}')\n",
    "p # Payment(123.45, '£') --> also returns the repr\n",
    "\n",
    "# %% format\n",
    "print(f'A payment of {p:%a} in {p:%c}')\n",
    "# `%a` is a custom placeholder for amount and `%c` is a custom placeholder for currency"
   ]
  },
  {
   "cell_type": "markdown",
   "id": "a5eedb87",
   "metadata": {},
   "source": [
    "### Sequences\n",
    "- [Collections.abc doc page](https://docs.python.org/3/library/collections.abc.html) shows that every type that wants to emulate a python Sequence class, needs to implement `__getitem__` and `__len__` as abstract methods, but also `__contains__`, `__iter__`, `__reversed__`, `index`, and `count` as mixin methods\n",
    "    - where the abstract methods are the minimum methods we must implement in our class for it to be considered a valid subclass of `Sequence`\n",
    "    - mixin methods are provided automatically by the ABC if the required abstract methods are implemented\n",
    "- using `collections.abc.Sequence` helps us to emulate a sequence-type class; without it we would have to code the mixin methods and also register our class as a virtual subclass of the python Sequence class"
   ]
  },
  {
   "cell_type": "code",
   "execution_count": null,
   "id": "5e8bb714",
   "metadata": {},
   "outputs": [
    {
     "name": "stdout",
     "output_type": "stream",
     "text": [
      "len: 6\n",
      "s[2]: h\n",
      "True\n"
     ]
    }
   ],
   "source": [
    "from collections.abc import Sequence\n",
    "\n",
    "class Node:\n",
    "    def __init__(self, value, next):\n",
    "        self.value = value\n",
    "        self.next = next\n",
    "\n",
    "\n",
    "class Stack(Sequence):\n",
    "    def __init__(self):\n",
    "        self._head = None\n",
    "\n",
    "    def push(self, value):\n",
    "        self._head = Node(value, self._head)\n",
    "\n",
    "    def pop(self):\n",
    "        if self._head is None:\n",
    "            raise ValueError('pop from empty stack')\n",
    "\n",
    "        value = self._head.value\n",
    "        self._head = self._head.next\n",
    "        return value\n",
    "\n",
    "    # until here, it was a regular Stack\n",
    "    # now we make it a Sequence:\n",
    "    def __len__(self):\n",
    "        # counting number of items\n",
    "        count = 0\n",
    "        node = self._head\n",
    "        while node:\n",
    "            count += 1\n",
    "            node = node.next\n",
    "        return count\n",
    "\n",
    "    def __getitem__(self, index):\n",
    "        # called when we trigger `obj[num]`\n",
    "        node = self._head\n",
    "        while index > 0 and node:\n",
    "            # iterating backwards, because this is how a stack is made\n",
    "            # it's also accessing the items backwards looking from the outside perspective\n",
    "            index -= 1\n",
    "            node = node.next\n",
    "        if not node:\n",
    "            raise IndexError(index)\n",
    "        return node.value\n",
    "\n",
    "\n",
    "s = Stack()\n",
    "for c in 'Python':\n",
    "    s.push(c)\n",
    "print('len:', len(s))\n",
    "print('s[2]:', s[2]) # like accessing list_type[-2]\n",
    "print('t' in s) # __contains__ is provided as a mixin method automatically"
   ]
  },
  {
   "cell_type": "code",
   "execution_count": null,
   "id": "a9591865",
   "metadata": {},
   "outputs": [
    {
     "name": "stdout",
     "output_type": "stream",
     "text": [
      "None\n",
      "<__main__.Node object at 0x721db2f769c0> with {'value': 1, 'next': None}\n",
      "<__main__.Node object at 0x721db2f770e0> with {'value': 2, 'next': <__main__.Node object at 0x721db2f769c0>}\n",
      "2\n",
      "<__main__.Node object at 0x721db2f769c0> with {'value': 1, 'next': None}\n",
      "1\n"
     ]
    }
   ],
   "source": [
    "# experimenting with regular Stack\n",
    "\n",
    "class Node:\n",
    "    def __init__(self, value, next):\n",
    "        self.value = value\n",
    "        self.next = next\n",
    "\n",
    "\n",
    "class Stack():\n",
    "    def __init__(self):\n",
    "        self._head = None\n",
    "\n",
    "    def push(self, value):\n",
    "        # set one node value\n",
    "        self._head = Node(value, self._head)\n",
    "\n",
    "    def pop(self):\n",
    "        # re-winds the latest call to `push()`\n",
    "        if self._head is None:\n",
    "            raise ValueError('pop from empty stack')\n",
    "\n",
    "        value = self._head.value\n",
    "        self._head = self._head.next\n",
    "        return value\n",
    "    \n",
    "stack = Stack()\n",
    "print(stack._head)\n",
    "# None\n",
    "\n",
    "stack.push(1)\n",
    "print(f\"{stack._head} with {stack._head.__dict__}\")\n",
    "# <__main__.Node object at 0x721dd01bbd10> with {'value': 1, 'next': None}\n",
    "\n",
    "stack.push(2) # the former node becomes the `next` value\n",
    "print(f\"{stack._head} with {stack._head.__dict__}\")\n",
    "# <__main__.Node object at 0x721dd01b9ac0> with {'value': 2, 'next': <__main__.Node object at 0x721dd01bbd10>}\n",
    "\n",
    "popped_value = stack.pop() # pops most recently added value\n",
    "print(popped_value) # to print returned value\n",
    "# 2\n",
    "\n",
    "print(f\"{stack._head} with {stack._head.__dict__}\")\n",
    "# <__main__.Node object at 0x721db2f769c0> with {'value': 1, 'next': None} \n",
    "\n",
    "popped_value = stack.pop() # pops most recently added value\n",
    "print(popped_value) # to print returned value\n",
    "# 1"
   ]
  },
  {
   "cell_type": "markdown",
   "id": "91241154",
   "metadata": {},
   "source": [
    "### Mappings\n",
    "- [Collections.abc doc page](https://docs.python.org/3/library/collections.abc.html)\n",
    "  shows that every type that wants to emulate a python Mapping class (similar to a\n",
    "  `dict`, but MutableMapping is even more like a `dict`), needs to implement\n",
    "  `__getitem__` `__iter__` and `__len__` as abstract methods, and other methods are\n",
    "  provided as mixin methods"
   ]
  },
  {
   "cell_type": "code",
   "execution_count": null,
   "id": "92b3215d",
   "metadata": {},
   "outputs": [
    {
     "name": "stdout",
     "output_type": "stream",
     "text": [
      "3 headers\n",
      "Content Type: application/json; charset=utf-8\n",
      "key: content-type\n",
      "key: content-length\n",
      "key: accept-ranges\n",
      "content-type -> application/json; charset=utf-8\n",
      "content-length -> 1366\n",
      "accept-ranges -> bytes\n"
     ]
    }
   ],
   "source": [
    "from collections.abc import Mapping\n",
    "\n",
    "class Headers(Mapping):\n",
    "    def __init__(self, headers: dict):\n",
    "        self._headers = {\n",
    "            key.lower(): value\n",
    "            for key, value in headers.items()\n",
    "        }\n",
    "\n",
    "    def __len__(self):\n",
    "        return len(self._headers)\n",
    "\n",
    "    def __getitem__(self, key):\n",
    "        key = key.lower()\n",
    "        return self._headers[key]\n",
    "\n",
    "    def __iter__(self):\n",
    "        return iter(self._headers)\n",
    "\n",
    "\n",
    "headers = Headers({\n",
    "    'Content-Type': 'application/json; charset=utf-8',\n",
    "    'Content-Length': '1366',\n",
    "    'Accept-Ranges': 'bytes',\n",
    "})\n",
    "print(len(headers), 'headers') # calls out `__len__`\n",
    "print('Content Type:', headers['content-type']) # calls our `__getitem__`\n",
    "\n",
    "# both call our `__iter__`\n",
    "for key in headers:\n",
    "    print('key:', key)\n",
    "for key, value in headers.items():\n",
    "    print(key, '->', value)"
   ]
  },
  {
   "cell_type": "markdown",
   "id": "65044aee",
   "metadata": {},
   "source": [
    "- for Mapping types, there is also `__missing__` that get's called when a key cannot be\n",
    "  found:"
   ]
  },
  {
   "cell_type": "code",
   "execution_count": 20,
   "id": "6717055e",
   "metadata": {},
   "outputs": [
    {
     "name": "stdout",
     "output_type": "stream",
     "text": [
      "calls ID: 1\n",
      "calls ID: 1\n",
      "errors ID: 2\n",
      "calls ID: 1\n",
      "calls ID: 1\n",
      "errors ID: 2\n"
     ]
    }
   ],
   "source": [
    "class TraceIDs(dict):\n",
    "    # inheriting from dict, because it's more straightforward for this example than to\n",
    "    # use `Collections.abc.MutableMapping`\n",
    "    def __init__(self, *args, **kw):\n",
    "        super().__init__(*args, **kw)\n",
    "        self._counter = 1\n",
    "\n",
    "    def __missing__(self, key):\n",
    "        val = self._counter\n",
    "        self._counter += 1\n",
    "        self[key] = val # set the counter value to that missing key\n",
    "        return val\n",
    "\n",
    "\n",
    "trace_ids = TraceIDs()\n",
    "print('calls ID:', trace_ids['http.calls'])\n",
    "print('calls ID:', trace_ids['http.calls'])\n",
    "print('errors ID:', trace_ids['http.errors'])\n",
    "\n",
    "\n",
    "# same:\n",
    "from collections import defaultdict\n",
    "from itertools import count\n",
    "\n",
    "trace_ids = defaultdict(count(1).__next__)\n",
    "print('calls ID:', trace_ids['http.calls'])\n",
    "print('calls ID:', trace_ids['http.calls'])\n",
    "print('errors ID:', trace_ids['http.errors'])"
   ]
  },
  {
   "cell_type": "markdown",
   "id": "1eff0d2b",
   "metadata": {},
   "source": [
    "I understand the usecase of this is to store miss-aligned http requests with an\n",
    "corresponding ID that increments with every not found key. Maybe for better analysing\n",
    "error afterwards, I imagine.\n",
    "\n",
    "### Numbers\n",
    "- see [Emulating numeric\n",
    "  types](https://docs.python.org/3/reference/datamodel.html#emulating-numeric-types) for\n",
    "  all the methods that need to be implemented to emulate a number, for instance `__add__`, `__truediv__`, or `__pow__`, but also in revised order such as `__radd__`, and so on"
   ]
  },
  {
   "cell_type": "code",
   "execution_count": 21,
   "id": "08e911dc",
   "metadata": {},
   "outputs": [
    {
     "name": "stdout",
     "output_type": "stream",
     "text": [
      "3017.0us\n"
     ]
    }
   ],
   "source": [
    "class Duration:\n",
    "    unit_values = {\n",
    "        'ns': 1,\n",
    "        'us': 1000,\n",
    "        'ms': 1_000_000,\n",
    "    }\n",
    "\n",
    "    def __init__(self, value: float, unit: str):\n",
    "        if value < 0 or unit not in Duration.unit_values:\n",
    "            raise ValueError(f'invalid duration: {value=}, {unit=}')\n",
    "\n",
    "        self.value = value\n",
    "        self.unit = unit\n",
    "\n",
    "    def __repr__(self):\n",
    "        return f'{self.value}{self.unit}'\n",
    "\n",
    "    def __add__(self, other):\n",
    "        v1 = self.value * Duration.unit_values[self.unit]\n",
    "        v2 = other.value * Duration.unit_values[other.unit]\n",
    "        value = (v1 + v2) / Duration.unit_values[self.unit]\n",
    "        return Duration(value, self.unit)\n",
    "\n",
    "\n",
    "u1 = Duration(317, 'us')\n",
    "u2 = Duration(2.7, 'ms')\n",
    "print(u1 + u2)"
   ]
  },
  {
   "cell_type": "markdown",
   "id": "8972d596",
   "metadata": {},
   "source": [
    "### Callable\n"
   ]
  },
  {
   "cell_type": "code",
   "execution_count": null,
   "id": "0a66458c",
   "metadata": {},
   "outputs": [],
   "source": []
  }
 ],
 "metadata": {
  "kernelspec": {
   "display_name": "playground",
   "language": "python",
   "name": "python3"
  },
  "language_info": {
   "codemirror_mode": {
    "name": "ipython",
    "version": 3
   },
   "file_extension": ".py",
   "mimetype": "text/x-python",
   "name": "python",
   "nbconvert_exporter": "python",
   "pygments_lexer": "ipython3",
   "version": "3.12.2"
  }
 },
 "nbformat": 4,
 "nbformat_minor": 5
}
