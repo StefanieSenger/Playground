{
 "cells": [
  {
   "cell_type": "markdown",
   "id": "4a5b8dd7",
   "metadata": {},
   "source": [
    "# Advanced OOP\n",
    "Here, I follow the LinkedIn Learning course [Advanced Python: Object-Oriented\n",
    "Programming](https://www.linkedin.com/learning/advanced-python-object-oriented-programming/advanced-object-oriented-programming-oop?resume=false&u=72605090)\n",
    "by Miki Tebeka and try the code. Here is the [course\n",
    "repo](https://github.com/LinkedInLearning/advanced-python-object-oriented-programming-4510177)\n",
    "(it is very good). I have added quite some additional explanations from ChatGPT, that I\n",
    "needed to understand, and also some additional exercises.\n",
    "\n",
    "## Part 2: Methods\n",
    "\n",
    "### Using class methods\n",
    "\n",
    "- mostly used to as a different way to create an instance of a class\n",
    "    - for instance see the many ways to instantiate pythons [datetime objects](https://docs.python.org/3/library/datetime.html#datetime-objects)"
   ]
  },
  {
   "cell_type": "code",
   "execution_count": null,
   "id": "58d6044a",
   "metadata": {},
   "outputs": [
    {
     "name": "stdout",
     "output_type": "stream",
     "text": [
      "carly <class '__main__.User'>\n",
      "carly <class '__main__.User'>\n",
      "elliot <class '__main__.Admin'>\n"
     ]
    }
   ],
   "source": [
    "class Auth:\n",
    "    def __init__(self, db):\n",
    "        self.db = db\n",
    "\n",
    "    def from_token(self, token):\n",
    "        return self.db.get(token)\n",
    "\n",
    "# that's our database\n",
    "auth = Auth({\n",
    "    'b92d877': 'carly',\n",
    "    '18317ac': 'elliot',\n",
    "})\n",
    "\n",
    "\n",
    "class User:\n",
    "    def __init__(self, login):\n",
    "        self.login = login\n",
    "        # TODO: More fields\n",
    "\n",
    "    @classmethod # as alternate constructor\n",
    "    def from_token(cls, token):\n",
    "        login = auth.from_token(token)\n",
    "        return cls(login)\n",
    "\n",
    "class Admin(User):\n",
    "    ...  # TODO\n",
    "    \n",
    "\n",
    "u = User('carly')\n",
    "print(u.login, type(u))\n",
    "\n",
    "u = User.from_token('b92d877')\n",
    "print(u.login, type(u))\n",
    "\n",
    "a = Admin.from_token('18317ac')\n",
    "print(a.login, type(a))"
   ]
  },
  {
   "cell_type": "markdown",
   "id": "fd2aeee1",
   "metadata": {},
   "source": [
    "### Using static methods\n",
    "\n",
    "- functions that are assigned to a class\n",
    "- only reason: discoverability"
   ]
  },
  {
   "cell_type": "code",
   "execution_count": 8,
   "id": "0e31cc8f",
   "metadata": {},
   "outputs": [
    {
     "name": "stdout",
     "output_type": "stream",
     "text": [
      "strong_bruce\n"
     ]
    }
   ],
   "source": [
    "from random import choice\n",
    "\n",
    "adjectives = ['cool', 'funny', 'strong']\n",
    "names = ['bruce', 'carol', 'natasha']\n",
    "\n",
    "\n",
    "class VM:\n",
    "    def __init__(self):\n",
    "        self.name = VM.random_name()\n",
    "\n",
    "\n",
    "    @staticmethod\n",
    "    def random_name():\n",
    "        adjective, name = choice(adjectives), choice(names)\n",
    "        return f'{adjective}_{name}'\n",
    "\n",
    "\n",
    "# %% Test\n",
    "vm = VM()\n",
    "print(vm.name)"
   ]
  },
  {
   "cell_type": "markdown",
   "id": "8678581c",
   "metadata": {},
   "source": [
    "### Mixin classes\n",
    "\n",
    "- add functionality to other classes"
   ]
  },
  {
   "cell_type": "code",
   "execution_count": 9,
   "id": "c8d56d32",
   "metadata": {},
   "outputs": [
    {
     "name": "stderr",
     "output_type": "stream",
     "text": [
      "INFO: root with id 1\n",
      "INFO: m1 with id '4922a77'\n"
     ]
    }
   ],
   "source": [
    "import logging\n",
    "\n",
    "\n",
    "logging.basicConfig(\n",
    "    level=logging.INFO,\n",
    "    format='%(levelname)s: %(message)s',\n",
    ")\n",
    "\n",
    "class LoggerMixin:\n",
    "    def log_id(self):\n",
    "        logging.info('%s with id %r', self.name, self.id)\n",
    "\n",
    "\n",
    "class User:\n",
    "    def __init__(self, name, id):\n",
    "        self.name = name\n",
    "        self.id = id\n",
    "\n",
    "\n",
    "class VM:\n",
    "    def __init__(self, name, id):\n",
    "        self.name = name\n",
    "        self.id = id\n",
    "\n",
    "class LoggedUser(LoggerMixin, User):\n",
    "    pass\n",
    "\n",
    "class LoggedVM(LoggerMixin, VM):\n",
    "    pass\n",
    "\n",
    "\n",
    "user = LoggedUser('root', 1)\n",
    "user.log_id()\n",
    "\n",
    "vm = LoggedVM('m1', '4922a77')\n",
    "vm.log_id()"
   ]
  },
  {
   "cell_type": "markdown",
   "id": "57096801",
   "metadata": {},
   "source": [
    "### Abstract base classes\n",
    "\n",
    "- this is to discover errors (here: typo in method name) as early as possible\n",
    "\n",
    "- using an abstract base class makes the error discoverable in build time rather than in\n",
    "  test time\n",
    "    - (I still think this improvement in error discovery is minimal though)\n",
    "\n",
    "- very practical with mixin classes, because it can be specified what the mixin expects\n",
    "  from the lass it enhances"
   ]
  },
  {
   "cell_type": "code",
   "execution_count": 10,
   "id": "400f3c89",
   "metadata": {},
   "outputs": [
    {
     "ename": "TypeError",
     "evalue": "Can't instantiate abstract class SecurityPlugin without an implementation for abstract method 'shutdown'",
     "output_type": "error",
     "traceback": [
      "\u001b[31m---------------------------------------------------------------------------\u001b[39m",
      "\u001b[31mTypeError\u001b[39m                                 Traceback (most recent call last)",
      "\u001b[36mCell\u001b[39m\u001b[36m \u001b[39m\u001b[32mIn[10]\u001b[39m\u001b[32m, line 47\u001b[39m\n\u001b[32m     44\u001b[39m         \u001b[38;5;28mself\u001b[39m.user = user\n\u001b[32m     45\u001b[39m         \u001b[38;5;28mself\u001b[39m.action = action\n\u001b[32m---> \u001b[39m\u001b[32m47\u001b[39m plugins = [LoggingPlugin(), \u001b[43mSecurityPlugin\u001b[49m\u001b[43m(\u001b[49m\u001b[43m)\u001b[49m]\n\u001b[32m     48\u001b[39m event = Event(\u001b[33m'\u001b[39m\u001b[33melliot\u001b[39m\u001b[33m'\u001b[39m, \u001b[33m'\u001b[39m\u001b[33mlogin\u001b[39m\u001b[33m'\u001b[39m)\n\u001b[32m     49\u001b[39m notify(plugins, event)\n",
      "\u001b[31mTypeError\u001b[39m: Can't instantiate abstract class SecurityPlugin without an implementation for abstract method 'shutdown'"
     ]
    }
   ],
   "source": [
    "from abc import ABC, abstractmethod\n",
    "\n",
    "\n",
    "class Plugin(ABC):\n",
    "    @abstractmethod\n",
    "    def notify(self, event):\n",
    "        pass\n",
    "\n",
    "    @abstractmethod\n",
    "    def shutdown(self):\n",
    "        pass\n",
    "\n",
    "\n",
    "class LoggingPlugin(Plugin):\n",
    "    def notify(self, event):\n",
    "        print(f'got {event}')\n",
    "\n",
    "    def shutdown(self):\n",
    "        print('logger shutting down')\n",
    "\n",
    "\n",
    "class SecurityPlugin(Plugin):\n",
    "    def notify(self, event):\n",
    "        if event.action == 'login' and event.user == 'elliot':\n",
    "            print(f'WARNING: {event.user} has logged in')\n",
    "\n",
    "    def shutdwon(self): ######## watch the typo\n",
    "        print('security shutting down')\n",
    "\n",
    "\n",
    "def notify(plugins, event):\n",
    "    for plugin in plugins:\n",
    "        plugin.notify(event)\n",
    "\n",
    "\n",
    "def shutdown(plugins):\n",
    "    for plugin in plugins:\n",
    "        plugin.shutdown()\n",
    "\n",
    "\n",
    "\n",
    "class Event:\n",
    "    def __init__(self, user, action):\n",
    "        self.user = user\n",
    "        self.action = action\n",
    "\n",
    "plugins = [LoggingPlugin(), SecurityPlugin()]\n",
    "event = Event('elliot', 'login')\n",
    "notify(plugins, event)\n",
    "shutdown(plugins)"
   ]
  },
  {
   "cell_type": "code",
   "execution_count": 11,
   "id": "87c7f29f",
   "metadata": {},
   "outputs": [],
   "source": [
    "# the mixin class specifies what methods are expected in the class it enhances\n",
    "\n",
    "from abc import ABC, abstractmethod\n",
    "\n",
    "class SaveMixin(ABC):\n",
    "    @abstractmethod\n",
    "    def serialize(self):\n",
    "        pass\n",
    "\n",
    "    def save(self, filepath):\n",
    "        data = self.serialize()\n",
    "        with open(filepath, 'w') as f:\n",
    "            f.write(data)\n"
   ]
  },
  {
   "cell_type": "markdown",
   "id": "90ea69f8",
   "metadata": {},
   "source": [
    "### Defining interfaces with `typing.Protocol`"
   ]
  },
  {
   "cell_type": "code",
   "execution_count": null,
   "id": "5afbec13",
   "metadata": {},
   "outputs": [
    {
     "name": "stdout",
     "output_type": "stream",
     "text": [
      "s3: write: b'{\"id\": \"007\", \"lat\": 51.4871871, \"lng\": -0.1270605}'\n"
     ]
    }
   ],
   "source": [
    "from typing import Protocol\n",
    "\n",
    "\n",
    "class Writer(Protocol):\n",
    "    # that's only for defining the signatures of the functions and the expected types\n",
    "    def write(self, data: bytes) -> None:\n",
    "        ... # code doesn't matter\n",
    "\n",
    "\n",
    "import json\n",
    "\n",
    "def store_json(w: Writer, obj: dict) -> None:\n",
    "    # expects an object adhering to the Writer protocol passed as `w`\n",
    "    data = json.dumps(obj).encode('utf-8') # sends bytes to the object passed as `w`\n",
    "    w.write(data)\n",
    "\n",
    "\n",
    "class S3File:\n",
    "    # does not inherit from Writer, but would be expected to adher to it\n",
    "    def write(self, data: str) -> None: # type mismatch! expects str, but gets bytes; would raise when running mypy\n",
    "        print(f's3: write: {data!r}')\n",
    "\n",
    "\n",
    "out = S3File()\n",
    "obj = {\n",
    "    'id': '007',\n",
    "    'lat': 51.4871871,\n",
    "    'lng': -0.1270605,\n",
    "}\n",
    "store_json(out, obj) \n",
    "# `store_json` gets passed an object not adhering to the Writer protocol, but still\n",
    "# treats it as if it was, printing the data in the write method as bytes (which shows by\n",
    "# the `b'` in front of the dict: it’s treating the bytes as a string)."
   ]
  },
  {
   "cell_type": "markdown",
   "id": "469b65b5",
   "metadata": {},
   "source": [
    "## Part 3: Special Methods\n",
    "tbc"
   ]
  },
  {
   "cell_type": "code",
   "execution_count": null,
   "id": "fafba6ca",
   "metadata": {},
   "outputs": [],
   "source": []
  }
 ],
 "metadata": {
  "kernelspec": {
   "display_name": "playground",
   "language": "python",
   "name": "python3"
  },
  "language_info": {
   "codemirror_mode": {
    "name": "ipython",
    "version": 3
   },
   "file_extension": ".py",
   "mimetype": "text/x-python",
   "name": "python",
   "nbconvert_exporter": "python",
   "pygments_lexer": "ipython3",
   "version": "3.12.2"
  }
 },
 "nbformat": 4,
 "nbformat_minor": 5
}
