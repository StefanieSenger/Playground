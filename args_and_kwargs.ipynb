{
 "cells": [
  {
   "cell_type": "code",
   "execution_count": 27,
   "id": "4e63f816",
   "metadata": {},
   "outputs": [
    {
     "name": "stdout",
     "output_type": "stream",
     "text": [
      "a = 1\n",
      "b = 2\n"
     ]
    }
   ],
   "source": [
    "# some exercises on *args and **kwargs\n",
    "\n",
    "# 1. Write a function that accepts arbitrary keyword arguments and prints only the keys\n",
    "#    it understands.\n",
    "\n",
    "def func(**kwargs): # since it has **kwargs, it can accept any keyword-argument given as a=1, b=2 ....\n",
    "    #print(kwargs) # inside the function, kwargs will be a dictionary; prints {'a': 1, 'b': 2, 'c': 3, 'd': 4}\n",
    "    for key in kwargs.keys(): # my function should care about a and b\n",
    "        if key in [\"a\",\"b\"]:\n",
    "            print(key, \"=\", kwargs[key])\n",
    "\n",
    "func(a=1, b=2, c=3, d=4)"
   ]
  },
  {
   "cell_type": "code",
   "execution_count": 28,
   "id": "675389a4",
   "metadata": {},
   "outputs": [
    {
     "name": "stdout",
     "output_type": "stream",
     "text": [
      "a = 1 , b = 2\n"
     ]
    }
   ],
   "source": [
    "# 2. Write a function that filters a kwargs dict before calling another function.\n",
    "\n",
    "def func(**kwargs):\n",
    "    filtered_kwargs = {}\n",
    "    for key in kwargs.keys():\n",
    "        if key in [\"a\",\"b\"]:\n",
    "            filtered_kwargs[key] = kwargs[key]\n",
    "    #print(filtered_kwargs) # prints {'a': 1, 'b': 2}\n",
    "    other_func(**filtered_kwargs) # we need to unpack the dict before passing, because `other_func` expects a and b\n",
    "\n",
    "def other_func(a, b):\n",
    "    print(\"a =\", a,\", b =\", b)\n",
    "\n",
    "func(a=1, b=2, c=3, d=4)"
   ]
  },
  {
   "cell_type": "code",
   "execution_count": null,
   "id": "80138bb3",
   "metadata": {},
   "outputs": [
    {
     "name": "stdout",
     "output_type": "stream",
     "text": [
      "(1, 2, 3, 4)\n",
      "1 2 3 4\n"
     ]
    }
   ],
   "source": [
    "# 3. Write a function that accepts *args and prints what it receives.\n",
    "\n",
    "def func(*args): # *args pull all args into a tuple\n",
    "    print(args)\n",
    "    print(*args) # I guess this is what it receives\n",
    "\n",
    "func(1, 2, 3, 4)"
   ]
  },
  {
   "cell_type": "code",
   "execution_count": null,
   "id": "c3418923",
   "metadata": {},
   "outputs": [
    {
     "name": "stdout",
     "output_type": "stream",
     "text": [
      "1 2\n",
      "1 2\n",
      "1 2\n"
     ]
    }
   ],
   "source": [
    "# calling a function with a unpacked tuple\n",
    "\n",
    "def f(a, b):\n",
    "    print(a, b)\n",
    "\n",
    "val = (1, 2) # tuple\n",
    "print(*val) # is the same as print(1,2); note: print doesn't separate by comma between the inputs\n",
    "f(*val) # unpacking val into separate arguments"
   ]
  },
  {
   "cell_type": "code",
   "execution_count": 42,
   "id": "95660677",
   "metadata": {},
   "outputs": [
    {
     "name": "stdout",
     "output_type": "stream",
     "text": [
      "a = 1\n",
      "b = 2\n",
      "c = 3\n",
      "d = 4\n"
     ]
    }
   ],
   "source": [
    "# 4. Write a function that accepts **kwargs and prints each key-value pair.\n",
    "\n",
    "def func(**kwargs):\n",
    "    for key, value in kwargs.items():\n",
    "        print(key, \"=\", value)\n",
    "\n",
    "func(a=1, b=2, c=3, d=4)"
   ]
  },
  {
   "cell_type": "code",
   "execution_count": 45,
   "id": "45c88304",
   "metadata": {},
   "outputs": [
    {
     "name": "stdout",
     "output_type": "stream",
     "text": [
      "Print args:\n",
      "10 20 30\n",
      "Print kwargs:\n",
      "a = 1\n",
      "b = 2\n",
      "c = 3\n",
      "d = 4\n"
     ]
    }
   ],
   "source": [
    "# 5. Write a function that accepts both *args and **kwargs, and prints them.\n",
    "\n",
    "def func(*args, **kwargs):\n",
    "    print('Print args:')\n",
    "    print(*args)\n",
    "\n",
    "    print('Print kwargs:')\n",
    "    for key, value in kwargs.items():\n",
    "        print(key, \"=\", value)\n",
    "\n",
    "func(10, 20, 30, a=1, b=2, c=3, d=4)"
   ]
  },
  {
   "cell_type": "code",
   "execution_count": 57,
   "id": "29a0b361",
   "metadata": {},
   "outputs": [
    {
     "data": {
      "text/plain": [
       "10.641592653589793"
      ]
     },
     "execution_count": 57,
     "metadata": {},
     "output_type": "execute_result"
    }
   ],
   "source": [
    "# 6. Write a function that accepts *args and returns the sum of all numeric values (ignoring any non-numeric).\n",
    "import numpy as np\n",
    "\n",
    "def func(*args):\n",
    "    total = 0\n",
    "    for ele in args:\n",
    "        if isinstance(ele, (int, float)):\n",
    "            total += ele\n",
    "    return total\n",
    "\n",
    "\n",
    "func(1, 2.5, np.pi, 'other', {\"a\":3, \"b\":4}, 4)"
   ]
  },
  {
   "cell_type": "code",
   "execution_count": null,
   "id": "8759fb87",
   "metadata": {},
   "outputs": [
    {
     "data": {
      "text/plain": [
       "np.float64(2.6666666666666665)"
      ]
     },
     "execution_count": 65,
     "metadata": {},
     "output_type": "execute_result"
    }
   ],
   "source": [
    "# 7. Write a function flexible_calculator that:\n",
    "#\n",
    "#    Accepts any number of positional arguments (*args), which are numbers to add.\n",
    "#    Accepts keyword arguments (**kwargs) where keys can be \"multiply\", \"subtract\", and \"divide\".\n",
    "#    Each keyword argument will hold a single number.\n",
    "#    The function should:\n",
    "#        Sum all the positional arguments.\n",
    "#        If \"multiply\" is provided, multiply the sum by that number.\n",
    "#        If \"subtract\" is provided, subtract that number from the result.\n",
    "#        If \"divide\" is provided, divide the result by that number (handle division by zero with a warning or exception).#\n",
    "\n",
    "# example usage\n",
    "# print(flexible_calculator(1, 2, 3, multiply=2, subtract=4, divide=3))\n",
    "# Step 1: sum = 6\n",
    "# Step 2: 6 * 2 = 12\n",
    "# Step 3: 12 - 4 = 8\n",
    "# Step 4: 8 / 3 = 2.666...\n",
    "# Output: 2.6666666666666665\n",
    "\n",
    "def flexible_calculator(*args, **kwargs):\n",
    "    total = 0\n",
    "    total += np.sum(args)\n",
    "    if \"multiply\" in kwargs.keys():\n",
    "        total *= kwargs[\"multiply\"]\n",
    "    if \"subtract\" in kwargs.keys():\n",
    "        total -= kwargs[\"subtract\"]\n",
    "    if \"divide\" in kwargs.keys():\n",
    "        if not kwargs[\"divide\"]==0:\n",
    "            total /= kwargs[\"divide\"]\n",
    "        else:\n",
    "            raise ZeroDivisionError(\"Zero Division not defined.\")\n",
    "\n",
    "    return total\n",
    "\n",
    "    \n",
    "flexible_calculator(1, 2, 3, multiply=2, subtract=4, divide=3)"
   ]
  },
  {
   "cell_type": "code",
   "execution_count": null,
   "id": "4ccf2819",
   "metadata": {},
   "outputs": [],
   "source": []
  }
 ],
 "metadata": {
  "kernelspec": {
   "display_name": "playground",
   "language": "python",
   "name": "python3"
  },
  "language_info": {
   "codemirror_mode": {
    "name": "ipython",
    "version": 3
   },
   "file_extension": ".py",
   "mimetype": "text/x-python",
   "name": "python",
   "nbconvert_exporter": "python",
   "pygments_lexer": "ipython3",
   "version": "3.12.2"
  }
 },
 "nbformat": 4,
 "nbformat_minor": 5
}
