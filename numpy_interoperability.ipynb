{
 "cells": [
  {
   "cell_type": "markdown",
   "id": "297ad687",
   "metadata": {},
   "source": [
    "## NumPy Interoperability\n",
    "\n",
    "Here, I'm working through the numpy docs on Interoperability and share my notes,\n",
    "learnings and experiments. <br>\n",
    "Covered docs: <br>\n",
    "- [Interoperability with\n",
    "  NumPy](https://numpy.org/doc/stable/user/basics.interoperability.html)\n",
    "- [Writing custom array containers](https://numpy.org/doc/stable/user/basics.dispatch.html#basics-dispatch)\n",
    "- [Array API standard compatibility](https://numpy.org/doc/stable/reference/array_api.html)\n",
    "\n",
    "While numpy provides an implementation of array types and operations based on \"strided\n",
    "in-RAM storage\", other libraries have re-implemented numpy for their own needs,\n",
    "including: GPU arrays (CuPy), Sparse arrays (scipy.sparse, PyData/Sparse), parallel\n",
    "arrays (Dask arrays), TensorFlow and PyTorch; also XArray and JAX build on top of the\n",
    "NumPy API.\n",
    "\n",
    "Interoperability between array libraries allows users to use the same syntax with\n",
    "minimal changes. There are three groups of features used for interoperability with NumPy:\n",
    "\n",
    "1. Methods of turning a foreign object into an ndarray;\n",
    "\n",
    "2. Methods of deferring execution from a NumPy function to another array library;\n",
    "\n",
    "3. Methods that use NumPy functions and return an instance of a foreign object.\n",
    "\n",
    "4. Array API\n",
    "\n",
    "### 1. Using arbitrary objects in NumPy\n",
    "\n",
    "- foreign objects are treated as NumPy arrays whenever possible\n",
    "- that is possible if they:\n",
    "     - provide an `__array_interface__` attribute to access the data buffer\n",
    "     - provide an `__array__()` method with the signature `__array__(self, dtype=None, copy=None)`\n",
    "     - adhere to the [DLPack Protocol](https://dmlc.github.io/dlpack/latest/python_spec.html#python-spec)\n",
    "\n",
    "`__array_interface__`"
   ]
  },
  {
   "cell_type": "code",
   "execution_count": 1,
   "id": "16dd721d",
   "metadata": {},
   "outputs": [
    {
     "data": {
      "text/plain": [
       "{'data': (96280064543792, False),\n",
       " 'strides': None,\n",
       " 'descr': [('', '<f8')],\n",
       " 'typestr': '<f8',\n",
       " 'shape': (4,),\n",
       " 'version': 3}"
      ]
     },
     "execution_count": 1,
     "metadata": {},
     "output_type": "execute_result"
    }
   ],
   "source": [
    "import numpy as np\n",
    "\n",
    "x = np.array([1, 2, 5.0, 8])\n",
    "x.__array_interface__"
   ]
  },
  {
   "cell_type": "code",
   "execution_count": 3,
   "id": "81c011f0",
   "metadata": {},
   "outputs": [
    {
     "data": {
      "text/plain": [
       "array([[1, 2],\n",
       "       [3, 4]])"
      ]
     },
     "execution_count": 3,
     "metadata": {},
     "output_type": "execute_result"
    }
   ],
   "source": [
    "# __array_interface__ can be used to modify the object in place:\n",
    "\n",
    "class wrapper():\n",
    "    pass\n",
    "\n",
    "arr = np.array([1, 2, 3, 4])\n",
    "buf = arr.__array_interface__\n",
    "buf\n",
    "# {'data': (96280064143728, False),\n",
    "#  'strides': None,\n",
    "#  'descr': [('', '<i8')],\n",
    "#  'typestr': '<i8',\n",
    "#  'shape': (4,),\n",
    "#  'version': 3}\n",
    "\n",
    "buf['shape'] = (2, 2)\n",
    "w = wrapper()\n",
    "w.__array_interface__ = buf\n",
    "new_arr = np.array(w, copy=False)\n",
    "new_arr"
   ]
  },
  {
   "cell_type": "code",
   "execution_count": 8,
   "id": "3e5278dd",
   "metadata": {},
   "outputs": [
    {
     "data": {
      "text/plain": [
       "array([1000,    2,    3,    4])"
      ]
     },
     "execution_count": 8,
     "metadata": {},
     "output_type": "execute_result"
    }
   ],
   "source": [
    "# `arr` and `new_arr` share the same data buffer:\n",
    "\n",
    "new_arr[0, 0] = 1000\n",
    "new_arr\n",
    "# array([[1000,    2],\n",
    "#        [   3,    4]])\n",
    "\n",
    "arr"
   ]
  },
  {
   "cell_type": "markdown",
   "id": "7b1eeda3",
   "metadata": {},
   "source": [
    "`__array__()`"
   ]
  },
  {
   "cell_type": "code",
   "execution_count": 11,
   "id": "9fe8d2f7",
   "metadata": {},
   "outputs": [
    {
     "data": {
      "text/plain": [
       "DiagonalArray(N=5, value=1)"
      ]
     },
     "execution_count": 11,
     "metadata": {},
     "output_type": "execute_result"
    }
   ],
   "source": [
    "# writing a custom numpy container and providing the __array__() method:\n",
    "\n",
    "class DiagonalArray:\n",
    "\n",
    "    def __init__(self, N, value):\n",
    "        self._N = N\n",
    "        self._i = value\n",
    "\n",
    "    def __repr__(self):\n",
    "        return f\"{self.__class__.__name__}(N={self._N}, value={self._i})\"\n",
    "    \n",
    "    def __array__(self, dtype=None, copy=None):\n",
    "        if copy is False:\n",
    "            raise ValueError(\n",
    "                \"`copy=False` isn't supported. A copy is always created.\"\n",
    "            )\n",
    "        return self._i * np.eye(self._N, dtype=dtype)\n",
    "\n",
    "arr = DiagonalArray(5, 1)\n",
    "\n",
    "type(arr)\n",
    "# __main__.DiagonalArray\n",
    "\n",
    "arr"
   ]
  },
  {
   "cell_type": "code",
   "execution_count": 12,
   "id": "677e04c2",
   "metadata": {},
   "outputs": [
    {
     "data": {
      "text/plain": [
       "array([[1., 0., 0., 0., 0.],\n",
       "       [0., 1., 0., 0., 0.],\n",
       "       [0., 0., 1., 0., 0.],\n",
       "       [0., 0., 0., 1., 0.],\n",
       "       [0., 0., 0., 0., 1.]])"
      ]
     },
     "execution_count": 12,
     "metadata": {},
     "output_type": "execute_result"
    }
   ],
   "source": [
    "# using np.array or np.asarray calls its __array__ method:\n",
    "\n",
    "np.asarray(arr)"
   ]
  },
  {
   "cell_type": "markdown",
   "id": "5f6a81dc",
   "metadata": {},
   "source": [
    "DLPack protocol\n",
    "- `np.from_dlpack()` accepts (array) objects with a `__dlpack__` method and uses that\n",
    "  method to construct a new array containing the same data"
   ]
  },
  {
   "cell_type": "code",
   "execution_count": null,
   "id": "d2410b03",
   "metadata": {},
   "outputs": [
    {
     "data": {
      "text/plain": [
       "array([  0, 100,   2,   3,   4])"
      ]
     },
     "execution_count": 28,
     "metadata": {},
     "output_type": "execute_result"
    }
   ],
   "source": [
    "import torch\n",
    "x_torch = torch.arange(5)\n",
    "x_torch\n",
    "# tensor([0, 1, 2, 3, 4])\n",
    "\n",
    "x_np = np.from_dlpack(x_torch)\n",
    "x_np\n",
    "# array([0, 1, 2, 3, 4])\n",
    "\n",
    "# x_np is a view of x_torch:\n",
    "x_torch[1] = 100\n",
    "x_torch\n",
    "# tensor([  0, 100,   2,   3,   4])\n",
    "\n",
    "x_np"
   ]
  },
  {
   "cell_type": "markdown",
   "id": "bc849d31",
   "metadata": {},
   "source": [
    "\n",
    "### 2. Operating on foreign objects without converting\n",
    "- allows execution of a NumPy function on objects from another array library"
   ]
  },
  {
   "cell_type": "code",
   "execution_count": 13,
   "id": "0b7a89b3",
   "metadata": {},
   "outputs": [
    {
     "data": {
      "text/plain": [
       "np.float64(21.1977562209304)"
      ]
     },
     "execution_count": 13,
     "metadata": {},
     "output_type": "execute_result"
    }
   ],
   "source": [
    "def f(x):\n",
    "    # `np.exp` is a ufunc, meaning it operates on ndarrays in an element-by-element fashion\n",
    "    # `np.mean` operates along one of the array’s axes\n",
    "    return np.mean(np.exp(x))\n",
    "\n",
    "# applying `f` to a numpy object:\n",
    "x = np.array([1, 2, 3, 4])\n",
    "f(x)"
   ]
  },
  {
   "cell_type": "markdown",
   "id": "44e04326",
   "metadata": {},
   "source": [
    "NumPy-like array object that implement either `__array_ufunc__` or `__array_function__`\n",
    "can handle computations in a custom-defined way without the need for explicit\n",
    "conversion."
   ]
  },
  {
   "cell_type": "code",
   "execution_count": 16,
   "id": "e6968590",
   "metadata": {},
   "outputs": [
    {
     "data": {
      "text/plain": [
       "0     2.718282\n",
       "1     7.389056\n",
       "2    20.085537\n",
       "3    54.598150\n",
       "dtype: float64"
      ]
     },
     "execution_count": 16,
     "metadata": {},
     "output_type": "execute_result"
    }
   ],
   "source": [
    "import pandas as pd\n",
    "ser = pd.Series([1, 2, 3, 4])\n",
    "type(ser)\n",
    "# pandas.core.series.Series\n",
    "\n",
    "# since pandas Series implement `__array_ufunc__`, we can use numpy ufuncs on them:\n",
    "np.exp(ser)"
   ]
  },
  {
   "cell_type": "code",
   "execution_count": 21,
   "id": "da9c637c",
   "metadata": {},
   "outputs": [
    {
     "data": {
      "text/plain": [
       "numpy.ndarray"
      ]
     },
     "execution_count": 21,
     "metadata": {},
     "output_type": "execute_result"
    }
   ],
   "source": [
    "# and we can mix types:\n",
    "np.add(ser, np.array([5, 6, 7, 8]))\n",
    "# 0     6\n",
    "# 1     8\n",
    "# 2    10\n",
    "# 3    12\n",
    "# dtype: int64\n",
    "\n",
    "f(ser)\n",
    "# np.float64(21.1977562209304)\n",
    "\n",
    "result = ser.__array__()\n",
    "result\n",
    "# array([1, 2, 3, 4])\n",
    "\n",
    "type(result)"
   ]
  },
  {
   "cell_type": "markdown",
   "id": "bf88f578",
   "metadata": {},
   "source": [
    "### 3. Returning foreign objects\n",
    "\n",
    "- idea is to use the NumPy function implementation and then convert the return value\n",
    "  back into an instance of the foreign object\n",
    "\n",
    "- `__array_finalize__` and `__array_wrap__` methods on numpy objects ensure that the\n",
    "return type of a NumPy function can be specified as needed"
   ]
  },
  {
   "cell_type": "code",
   "execution_count": 24,
   "id": "0c43813e",
   "metadata": {},
   "outputs": [
    {
     "name": "stderr",
     "output_type": "stream",
     "text": [
      "/tmp/ipykernel_871561/2621817663.py:8: DeprecationWarning: __array_wrap__ must accept context and return_scalar arguments (positionally) in the future. (Deprecated NumPy 2.0)\n",
      "  np.exp(x_tensor)\n"
     ]
    },
    {
     "data": {
      "text/plain": [
       "tensor([[ 2.7183,  7.3891],\n",
       "        [20.0855, 54.5982]], dtype=torch.float64)"
      ]
     },
     "execution_count": 24,
     "metadata": {},
     "output_type": "execute_result"
    }
   ],
   "source": [
    "# return type of this function is compatible with the initial data type\n",
    "\n",
    "import torch\n",
    "data = [[1, 2],[3, 4]]\n",
    "x_np = np.array(data)\n",
    "x_tensor = torch.tensor(data)\n",
    "\n",
    "np.exp(x_tensor)\n",
    "\n",
    "# as the warning message indicates, __array_wrap__ is used internally :)"
   ]
  },
  {
   "cell_type": "markdown",
   "id": "ae6be1f2",
   "metadata": {},
   "source": [
    "### 4. Array API standard \n",
    "The docs refer to scipy's [Support for the array API standard](https://docs.scipy.org/doc/scipy/dev/api-dev/array_api.html) and scikit-learn's [Array API support (experimental)](https://scikit-learn.org/stable/modules/array_api.html)."
   ]
  }
 ],
 "metadata": {
  "kernelspec": {
   "display_name": "playground",
   "language": "python",
   "name": "python3"
  },
  "language_info": {
   "codemirror_mode": {
    "name": "ipython",
    "version": 3
   },
   "file_extension": ".py",
   "mimetype": "text/x-python",
   "name": "python",
   "nbconvert_exporter": "python",
   "pygments_lexer": "ipython3",
   "version": "3.12.2"
  }
 },
 "nbformat": 4,
 "nbformat_minor": 5
}
