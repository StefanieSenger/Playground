{
 "cells": [
  {
   "cell_type": "markdown",
   "id": "4a5b8dd7",
   "metadata": {},
   "source": [
    "# Advanced OOP\n",
    "Here, I follow the LinkedIn Learning course [Advanced Python: Object-Oriented\n",
    "Programming](https://www.linkedin.com/learning/advanced-python-object-oriented-programming/advanced-object-oriented-programming-oop?resume=false&u=72605090)\n",
    "by Miki Tebeka and try the code. Here is the [course\n",
    "repo](https://github.com/LinkedInLearning/advanced-python-object-oriented-programming-4510177)\n",
    "(it is very good). I have extensively added additional explanations that I came across\n",
    "during researching.\n",
    "\n",
    "## Part 4: Metaclasses\n",
    "\n",
    "### What are metaclasses\n",
    "\n",
    "- course describes them as \"class of classes\"\n",
    "    - I do remember it was a way to re-define a classes' base class, though (?)\n",
    "\n",
    "- `ABCMeta` from the abc module is used for defining ABCs and a helper class ABC to alternatively define ABCs through inheritance\n",
    "\n",
    "- `type` is the metaclass for most classes\n",
    "    - which is why we can check if something is a class by doing `if type(obs) is type`"
   ]
  },
  {
   "cell_type": "code",
   "execution_count": 8,
   "id": "74a429a3",
   "metadata": {},
   "outputs": [
    {
     "name": "stdout",
     "output_type": "stream",
     "text": [
      "<__main__.Robot object at 0x73d9a9c7ea20> moving to 100/200\n",
      "<class 'type'>\n",
      "(<class 'object'>,)\n"
     ]
    }
   ],
   "source": [
    "# first demonstration\n",
    "\n",
    "class Robot:\n",
    "    manufacture = 'BnL'\n",
    "\n",
    "    def move(self, x, y):\n",
    "        print(f'{self} moving to {x}/{y}')\n",
    "\n",
    "\n",
    "walle = Robot()\n",
    "walle.move(100, 200)\n",
    "\n",
    "print(type(Robot))\n",
    "print(Robot.__bases__)\n"
   ]
  },
  {
   "cell_type": "markdown",
   "id": "df858c67",
   "metadata": {},
   "source": [
    "--> `type(Robot)` returns `type`, because all classes are instances of type\n",
    "\n",
    "--> `Robot.__bases__` returns `object`, because all new-style classes inherit from `object` \n",
    "\n",
    "In Python, everything is an object, and every class itself is an instance of a metaclass\n",
    "`type`.\n",
    "\n",
    "If I create a new class, the `type()` build-in function is called. <br>\n",
    "This function, [called with three arguments, returns a new type object](https://docs.python.org/3/library/functions.html#type).\n",
    "\n",
    "These are practice examples from scikit-learn to use `type()` to create a new class:\n",
    "- [`type(\"SubEstimator\", (), {\"attribute_present\": True})`](https://github.com/scikit-learn/scikit-learn/blob/031d2f83b7c9d1027d1477abb2bf34652621d603/sklearn/utils/tests/test_validation.py#L1205)\n",
    "- [`estimator = type(self.estimator)(criterion=self.criterion)`](https://github.com/scikit-learn/scikit-learn/blob/031d2f83b7c9d1027d1477abb2bf34652621d603/sklearn/ensemble/_forest.py#L372)\n",
    "    - similar: [`return type(self)(self._x, idx)`](https://github.com/data-apis/array-api-extra/blob/dbcd7097f13afff0e5e00077b6050c387cc4c30a/src/array_api_extra/_lib/_at.py#L222) (in array_api_extra)\n",
    "    - also similar: [`return type(meta_estimator)(estimator, param_grid, **extra_params)`](https://github.com/scikit-learn/scikit-learn/blob/031d2f83b7c9d1027d1477abb2bf34652621d603/sklearn/tests/test_metaestimators.py#L218C13-L218C79) (in scikit-learn)"
   ]
  },
  {
   "cell_type": "code",
   "execution_count": null,
   "id": "fdff596b",
   "metadata": {},
   "outputs": [
    {
     "name": "stdout",
     "output_type": "stream",
     "text": [
      "{'manufacture': 'BnL', 'move': <function move at 0x73d9a9c9dc60>}\n",
      "('self', 'x', 'y')\n",
      "<__main__.Robot object at 0x73d9a9c7ea20> moving to 10/20\n"
     ]
    }
   ],
   "source": [
    "# What `class` keyword does\n",
    "from textwrap import dedent # dedent removes one level of identation\n",
    "\n",
    "class_body = '''\n",
    "    manufacture = 'BnL'\n",
    "\n",
    "    def move(self, x, y):\n",
    "        print(f'{self} moving to {x}/{y}')\n",
    "'''\n",
    "\n",
    "cls_dict = {}\n",
    "exec(dedent(class_body), None, cls_dict) # creating a dict from a string\n",
    "print(cls_dict) # holds both attributes: the class attribute `manufacture` and the method `move`\n",
    "# {'manufacture': 'BnL', 'move': <function move at 0x73d9a9c9dc60>}\n",
    "\n",
    "move = cls_dict['move']\n",
    "print(move.__code__.co_varnames)\n",
    "# ('self', 'x', 'y')\n",
    "\n",
    "move(walle, 10, 20) # as before\n",
    "# <__main__.Robot object at 0x73d9a9c7ea20> moving to 10/20"
   ]
  },
  {
   "cell_type": "code",
   "execution_count": null,
   "id": "5d801ac3",
   "metadata": {},
   "outputs": [
    {
     "name": "stdout",
     "output_type": "stream",
     "text": [
      "<__main__.Robot object at 0x73d9a9c94e30> moving to 100/200\n"
     ]
    }
   ],
   "source": [
    "# Using `type(`) to create a new class\n",
    "Robot = type(\n",
    "    'Robot',\n",
    "    (object,),\n",
    "    cls_dict, # we could also just pass a dict rather than creating one from a string\n",
    ")\n",
    "walle = Robot()\n",
    "walle.move(100, 200)"
   ]
  },
  {
   "cell_type": "markdown",
   "id": "fcdd8e9b",
   "metadata": {},
   "source": [
    "[Python's classobject.c file](https://github.com/python/cpython/blob/main/Objects/classobject.c) holds the code use to create classes.\n",
    "    \n",
    "- (I cannot read that file yet, but it looks remarkable readable if you know some `C`:\n",
    "  short and simple.)\n",
    "\n",
    "### Using metaclasses to intercept class creation\n",
    "\n",
    "- `__new__` in a metaclass is called before the class is created; it's responsible for\n",
    "  returning the new class object\n",
    "\n",
    "- `__init__` in a metaclass is called after the class is created; it's used to customize\n",
    "  or initialize the class object (not the instance of the class object!!!)\n",
    "\n",
    "- if we overwrite both, we can create a new metaclass (that differs from `type`)\n",
    "\n",
    "Following example shows how to intercept class creation by injecting a new attribute\n",
    "`created` into the class:"
   ]
  },
  {
   "cell_type": "code",
   "execution_count": null,
   "id": "e40fa7ad",
   "metadata": {},
   "outputs": [
    {
     "name": "stdout",
     "output_type": "stream",
     "text": [
      "[checker] Creating class Checker with ()\n",
      "[checker] Checker with 0 methods\n",
      "<class '__main__.CheckerMeta'>\n",
      "\n",
      "[checker] Creating class Robot with (<class '__main__.Checker'>,)\n",
      "[checker] Robot with 1 methods\n",
      "<__main__.Robot object at 0x73d9a9c97ec0> moving to 100/200\n",
      "<class '__main__.CheckerMeta'>\n",
      "2025-06-17 11:13:07.828079\n"
     ]
    }
   ],
   "source": [
    "from datetime import datetime\n",
    "\n",
    "class CheckerMeta(type):\n",
    "    \"\"\"\n",
    "    If you have a procedure with 10 parameters, you probably missed some.\n",
    "        - Alan J. Perlis\n",
    "    \"\"\"\n",
    "    def __new__(mclass, name, bases, mapping):\n",
    "        # `name` is the name of the class being created as a str\n",
    "        # `bases` is a tuple of base classes our new class should inherit from\n",
    "        # `mapping` is a dict on the class body\n",
    "        # these are exactly the same as in the `type()` function\n",
    "        print(f'[checker] Creating class {name} with {bases}')\n",
    "        mapping['created'] = datetime.now() # adds a timestamp attribute to every class created \n",
    "        return type.__new__(mclass, name, bases, mapping)\n",
    "\n",
    "    def __init__(cls, name, bases, mapping):\n",
    "        count = sum(1 for v in mapping.values() if callable(v))\n",
    "        if count > 10:\n",
    "            raise ValueError(f'{name} has too many methods ({count})')\n",
    "        print(f'[checker] {name} with {count} methods')\n",
    "        return type.__init__(cls, name, bases, mapping)\n",
    "\n",
    "\n",
    "class Checker(metaclass=CheckerMeta):\n",
    "    pass\n",
    "\n",
    "print(type(Checker)) # it is `CheckerMeta`, not `type`\n",
    "print('')\n",
    "\n",
    "class Robot(Checker):\n",
    "    manufacture = 'BnL'\n",
    "\n",
    "    def move(self, x, y):\n",
    "        print(f'{self} moving to {x}/{y}')\n",
    "\n",
    "\n",
    "walle = Robot()\n",
    "walle.move(100, 200)\n",
    "\n",
    "print(type(Robot))\n",
    "print(Robot.created) "
   ]
  },
  {
   "cell_type": "markdown",
   "id": "7c940b15",
   "metadata": {},
   "source": [
    "### Using metaclasses to intercept instance creation\n",
    "\n",
    "- `__new__` and `__init__` control the behavior of class creation of subclasses, not the\n",
    "  instance creation, which we override `__call__` for:"
   ]
  },
  {
   "cell_type": "code",
   "execution_count": null,
   "id": "b54c0816",
   "metadata": {},
   "outputs": [
    {
     "name": "stdout",
     "output_type": "stream",
     "text": [
      "[checker] Creating class Checker with ()\n",
      "[checker] Checker with 0 methods\n",
      "\n",
      "[checker] Creating class Robot with (<class '__main__.Checker'>,)\n",
      "[checker] Robot with 1 methods\n",
      "[checker] instance of Robot created\n",
      "<__main__.Robot object at 0x73d9a9cdd550> moving to 100/200\n"
     ]
    }
   ],
   "source": [
    "class CheckerMeta(type):\n",
    "    \"\"\"\n",
    "    If you have a procedure with 10 parameters, you probably missed some.\n",
    "        - Alan J. Perlis\n",
    "    \"\"\"\n",
    "    def __new__(mclass, name, bases, mapping):\n",
    "        print(f'[checker] Creating class {name} with {bases}')\n",
    "        mapping['created'] = datetime.now()\n",
    "        return type.__new__(mclass, name, bases, mapping)\n",
    "\n",
    "    def __init__(cls, name, bases, mapping):\n",
    "        count = sum(1 for v in mapping.values() if callable(v))\n",
    "        if count > 10:\n",
    "            raise ValueError(f'{name} has too many methods ({count})')\n",
    "        print(f'[checker] {name} with {count} methods')\n",
    "        return type.__init__(cls, name, bases, mapping)\n",
    "\n",
    "    def __call__(cls, *args, **kw):\n",
    "        # we are overriding __call__, which is used to instantiate the instances\n",
    "        print(f'[checker] instance of {cls.__name__} created')\n",
    "        if (count := len(args) + len(kw) > 10):\n",
    "            name = cls.__name__\n",
    "            raise ValueError(f'{name} instance with too many arguments ({count})')\n",
    "        return type.__call__(cls, *args, **kw) # create the instance with build-in `type()` function\n",
    "\n",
    "\n",
    "class Checker(metaclass=CheckerMeta):\n",
    "    pass\n",
    "\n",
    "\n",
    "print('')\n",
    "\n",
    "class Robot(Checker):\n",
    "    manufacture = 'BnL'\n",
    "\n",
    "    def move(self, x, y):\n",
    "        print(f'{self} moving to {x}/{y}')\n",
    "\n",
    "\n",
    "walle = Robot() # `__call__` is now used to create the instance\n",
    "walle.move(100, 200)"
   ]
  },
  {
   "cell_type": "markdown",
   "id": "a747df39",
   "metadata": {},
   "source": [
    "### Using metaclasses for attribute lookup"
   ]
  },
  {
   "cell_type": "code",
   "execution_count": 18,
   "id": "08cf2222",
   "metadata": {},
   "outputs": [
    {
     "name": "stdout",
     "output_type": "stream",
     "text": [
      "[checker] Creating class Checker with ()\n",
      "[checker] Checker with 0 methods\n",
      "[checker] Creating class Robot with (<class '__main__.Checker'>,)\n",
      "[checker] Robot with 1 methods\n",
      "[checker] instance of Robot created\n",
      "<__main__.Robot object at 0x73d9a8ba2d80> moving to 100/200\n",
      "[checker] Robot:manufacture 'BnL' -> 'Boston Dynamics'\n"
     ]
    }
   ],
   "source": [
    "class CheckerMeta(type):\n",
    "    \"\"\"\n",
    "    If you have a procedure with 10 parameters, you probably missed some.\n",
    "        - Alan J. Perlis\n",
    "    \"\"\"\n",
    "    def __new__(mclass, name, bases, mapping):\n",
    "        print(f'[checker] Creating class {name} with {bases}')\n",
    "        mapping['created'] = datetime.now()\n",
    "        return type.__new__(mclass, name, bases, mapping)\n",
    "\n",
    "    def __init__(cls, name, bases, mapping):\n",
    "        count = sum(1 for v in mapping.values() if callable(v))\n",
    "        if count > 10:\n",
    "            raise ValueError(f'{name} has too many methods ({count})')\n",
    "        print(f'[checker] {name} with {count} methods')\n",
    "        return type.__init__(cls, name, bases, mapping)\n",
    "\n",
    "    def __call__(cls, *args, **kw):\n",
    "        print(f'[checker] instance of {cls.__name__} created')\n",
    "        if (count := len(args) + len(kw) > 10):\n",
    "            name = cls.__name__\n",
    "            raise ValueError(f'{name} instance with too many arguments ({count})')\n",
    "        return type.__call__(cls, *args, **kw)\n",
    "\n",
    "    def __setattr__(cls, attr, value):\n",
    "        old = getattr(cls, attr, None)\n",
    "        name = cls.__name__\n",
    "        print(f'[checker] {name}:{attr} {old!r} -> {value!r}')\n",
    "        if value is None:\n",
    "            raise ValueError(f'{name} sets {attr} to None')\n",
    "        type.__setattr__(cls, attr, value)\n",
    "\n",
    "\n",
    "class Checker(metaclass=CheckerMeta):\n",
    "    pass\n",
    "\n",
    "\n",
    "class Robot(Checker):\n",
    "    manufacture = 'BnL'\n",
    "\n",
    "    def move(self, x, y):\n",
    "        print(f'{self} moving to {x}/{y}')\n",
    "\n",
    "\n",
    "walle = Robot()\n",
    "walle.move(100, 200)\n",
    "Robot.manufacture = 'Boston Dynamics'"
   ]
  },
  {
   "cell_type": "markdown",
   "id": "28152061",
   "metadata": {},
   "source": [
    "Exercise: Create a Singleton (class that can only be instantiated once)."
   ]
  },
  {
   "cell_type": "code",
   "execution_count": null,
   "id": "2fe34e9d",
   "metadata": {},
   "outputs": [
    {
     "name": "stdout",
     "output_type": "stream",
     "text": [
      "False\n",
      "<__main__.Driver object at 0x73d9bac28350>\n",
      "True\n",
      "<__main__.Driver object at 0x73d9bac28350>\n",
      "True\n"
     ]
    }
   ],
   "source": [
    "class Singleton(type):\n",
    "    subclass_created = False\n",
    "\n",
    "    def __new__(mclass, name, bases, mapping):\n",
    "        return type.__new__(mclass, name, bases, mapping)\n",
    "\n",
    "    def __init__(cls, name, bases, mapping):\n",
    "        return type.__init__(cls, name, bases, mapping)\n",
    "\n",
    "    def __call__(cls):\n",
    "        print(Singleton.subclass_created)\n",
    "        if not Singleton.subclass_created:\n",
    "            Singleton.subclass_created = True\n",
    "            Singleton.instance = type.__call__(cls)\n",
    "            return Singleton.instance # create new instance\n",
    "        else:\n",
    "            return Singleton.instance # return the already existing instance\n",
    "    \n",
    "\n",
    "class Driver(metaclass=Singleton):\n",
    "    pass\n",
    "\n",
    "d1 = Driver()\n",
    "print(d1)\n",
    "\n",
    "d2 = Driver()\n",
    "print(d2)\n",
    "\n",
    "print(d1 is d2)"
   ]
  },
  {
   "cell_type": "code",
   "execution_count": null,
   "id": "5ca2ee35",
   "metadata": {},
   "outputs": [
    {
     "name": "stdout",
     "output_type": "stream",
     "text": [
      "<__main__.Driver object at 0x73d9a8199730>\n",
      "<__main__.Driver object at 0x73d9a8199730>\n",
      "True\n"
     ]
    }
   ],
   "source": [
    "# chat-GPT suggested some improvements:\n",
    "\n",
    "class Singleton(type):\n",
    "\n",
    "    # note we don't need `__new__` since type class already has it and we don't need to\n",
    "    # override it here\n",
    "\n",
    "    def __init__(cls, name, bases, mapping):\n",
    "        # using `cls` avoids hardcoding the metaclass name and makes it easier to work\n",
    "        # with inheritance\n",
    "        cls._instance = None\n",
    "        super().__init__(name, bases, mapping) # more common\n",
    "\n",
    "    def __call__(cls, *args, **kwargs):\n",
    "        if cls._instance is None:\n",
    "            cls._instance = super().__call__(*args, **kwargs)\n",
    "        return cls._instance\n",
    "    \n",
    "\n",
    "class Driver(metaclass=Singleton):\n",
    "    pass\n",
    "\n",
    "d1 = Driver()\n",
    "print(d1)\n",
    "\n",
    "d2 = Driver()\n",
    "print(d2)\n",
    "\n",
    "print(d1 is d2)"
   ]
  },
  {
   "cell_type": "code",
   "execution_count": 39,
   "id": "c0c8f645",
   "metadata": {},
   "outputs": [
    {
     "name": "stdout",
     "output_type": "stream",
     "text": [
      "True\n"
     ]
    }
   ],
   "source": [
    "# solution from the course:\n",
    "class SingletonMeta(type):\n",
    "    def __call__(cls, *args, **kw):\n",
    "        inst = getattr(cls, '_instance', None)\n",
    "        if inst is None:\n",
    "            inst = cls._instance = type.__call__(cls, *args, **kw)\n",
    "        return inst\n",
    "\n",
    "\n",
    "class Singleton(metaclass=SingletonMeta):\n",
    "    pass\n",
    "\n",
    "\n",
    "class Driver(Singleton):\n",
    "    pass\n",
    "\n",
    "d1 = Driver()\n",
    "d2 = Driver()\n",
    "print(d1 is d2)"
   ]
  },
  {
   "cell_type": "code",
   "execution_count": null,
   "id": "4ba8e588",
   "metadata": {},
   "outputs": [],
   "source": []
  }
 ],
 "metadata": {
  "kernelspec": {
   "display_name": "playground",
   "language": "python",
   "name": "python3"
  },
  "language_info": {
   "codemirror_mode": {
    "name": "ipython",
    "version": 3
   },
   "file_extension": ".py",
   "mimetype": "text/x-python",
   "name": "python",
   "nbconvert_exporter": "python",
   "pygments_lexer": "ipython3",
   "version": "3.12.2"
  }
 },
 "nbformat": 4,
 "nbformat_minor": 5
}
