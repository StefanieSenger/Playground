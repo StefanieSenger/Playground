{
 "cells": [
  {
   "cell_type": "markdown",
   "metadata": {},
   "source": [
    "Some notes and things I try with numpy following Chapter 4. NumPy Basics: Arrays and Vectorized Computation, and Appendix A in: Wes McKinney: Python for Data Analysis, 2017.\n",
    "\n",
    "## Chapter 4. NumPy Basics: Arrays and Vectorized Computation\n",
    "\n",
    "### numpy is fast because of parallelization\n",
    "- and more efficient in memory usage, too"
   ]
  },
  {
   "cell_type": "code",
   "execution_count": 2,
   "metadata": {},
   "outputs": [
    {
     "name": "stdout",
     "output_type": "stream",
     "text": [
      "CPU times: user 6.25 ms, sys: 3.29 ms, total: 9.54 ms\n",
      "Wall time: 9.59 ms\n"
     ]
    }
   ],
   "source": [
    "import numpy as np \n",
    "\n",
    "my_arr = np.arange(1000000)\n",
    "my_list = list(range(1000000))\n",
    "\n",
    "%time for _ in range(10): my_arr = my_arr * 2"
   ]
  },
  {
   "cell_type": "code",
   "execution_count": 3,
   "metadata": {},
   "outputs": [
    {
     "data": {
      "text/plain": [
       "(1000000,)"
      ]
     },
     "execution_count": 3,
     "metadata": {},
     "output_type": "execute_result"
    }
   ],
   "source": [
    "my_arr.shape # shape is the same, the values are doubled ten times"
   ]
  },
  {
   "cell_type": "code",
   "execution_count": 4,
   "metadata": {},
   "outputs": [
    {
     "data": {
      "text/plain": [
       "array([   0, 1024, 2048, 3072, 4096, 5120, 6144, 7168, 8192, 9216])"
      ]
     },
     "execution_count": 4,
     "metadata": {},
     "output_type": "execute_result"
    }
   ],
   "source": [
    "my_arr[:10]"
   ]
  },
  {
   "cell_type": "markdown",
   "metadata": {},
   "source": [
    "The `%time` is a magic command in Jupyter Notebook. Outputs mean: </br>\n",
    "    - user: time the CPU spent running your code in user mode (executing the Python process directly) </br>\n",
    "    - sys: The time spent in system mode, where the operating system was performing operations on behalf of \n",
    "        your program (e.g., memory management) </br>\n",
    "    - total: sum of the above two </br>\n",
    "    - Wall time: total time, including all of the above AND waiting for other resources (can differ from total \n",
    "        time, because other processes or threads may be running concurrently)\n",
    "\n",
    "Here, the wall time (first run: 11.7 ms) is much shorter, which suggests that operations were performed in \n",
    "parallel or optimized using NumPy's underlying implementation."
   ]
  },
  {
   "cell_type": "code",
   "execution_count": 5,
   "metadata": {},
   "outputs": [
    {
     "name": "stdout",
     "output_type": "stream",
     "text": [
      "CPU times: user 214 ms, sys: 53.3 ms, total: 267 ms\n",
      "Wall time: 267 ms\n"
     ]
    }
   ],
   "source": [
    "%time for _ in range(10): my_list = [x*2 for x in my_list] # each value is doubled 10 times\n",
    "\n",
    "# comment: this code caused vscode to break, because it doubles the size of the list so it would be 2^10 times \n",
    "# as long: %time for _ in range(10): my_list = my_list * 2"
   ]
  },
  {
   "cell_type": "markdown",
   "metadata": {},
   "source": [
    "For the python list, the wall time is about the total time."
   ]
  },
  {
   "cell_type": "markdown",
   "metadata": {},
   "source": [
    "### 4.1 The NumPy `ndarray`\n",
    "- container type: multidimensional and for homogeneous data types\n",
    "- perform mathematical operations on whole blocks of data"
   ]
  },
  {
   "cell_type": "code",
   "execution_count": 6,
   "metadata": {},
   "outputs": [
    {
     "data": {
      "text/plain": [
       "array([[ 1.56360656, -1.89709327,  0.66943621],\n",
       "       [ 1.13491486,  0.09507661,  0.59080532]])"
      ]
     },
     "execution_count": 6,
     "metadata": {},
     "output_type": "execute_result"
    }
   ],
   "source": [
    "data = np.random.randn(2,3)\n",
    "data"
   ]
  },
  {
   "cell_type": "code",
   "execution_count": 7,
   "metadata": {},
   "outputs": [
    {
     "data": {
      "text/plain": [
       "array([[ 15.6360656 , -18.9709327 ,   6.69436212],\n",
       "       [ 11.34914856,   0.95076609,   5.90805325]])"
      ]
     },
     "execution_count": 7,
     "metadata": {},
     "output_type": "execute_result"
    }
   ],
   "source": [
    "data * 10"
   ]
  },
  {
   "cell_type": "code",
   "execution_count": 8,
   "metadata": {},
   "outputs": [
    {
     "data": {
      "text/plain": [
       "array([[ 3.12721312, -3.79418654,  1.33887242],\n",
       "       [ 2.26982971,  0.19015322,  1.18161065]])"
      ]
     },
     "execution_count": 8,
     "metadata": {},
     "output_type": "execute_result"
    }
   ],
   "source": [
    "data + data"
   ]
  },
  {
   "cell_type": "code",
   "execution_count": 9,
   "metadata": {},
   "outputs": [
    {
     "data": {
      "text/plain": [
       "dtype('float64')"
      ]
     },
     "execution_count": 9,
     "metadata": {},
     "output_type": "execute_result"
    }
   ],
   "source": [
    "data.dtype # type of data within the array"
   ]
  },
  {
   "cell_type": "code",
   "execution_count": 10,
   "metadata": {},
   "outputs": [
    {
     "data": {
      "text/plain": [
       "array([1, 2, 3])"
      ]
     },
     "execution_count": 10,
     "metadata": {},
     "output_type": "execute_result"
    }
   ],
   "source": [
    "list_of_data = [1,2,3]\n",
    "\n",
    "np.array(list_of_data) # np.array accepts any sequence type or nested sequence types of equal length each\n",
    "# note the __str__ or __repr__ (not sure which) is showing \"array\", not \"np.array\""
   ]
  },
  {
   "cell_type": "code",
   "execution_count": 11,
   "metadata": {},
   "outputs": [
    {
     "data": {
      "text/plain": [
       "numpy.ndarray"
      ]
     },
     "execution_count": 11,
     "metadata": {},
     "output_type": "execute_result"
    }
   ],
   "source": [
    "type(np.array(list_of_data))"
   ]
  },
  {
   "cell_type": "markdown",
   "metadata": {},
   "source": [
    "np.array() copies the incomming data by default </br>\n",
    "np.asarray() does not copy if the incomming data already is an array"
   ]
  },
  {
   "cell_type": "code",
   "execution_count": 12,
   "metadata": {},
   "outputs": [
    {
     "data": {
      "text/plain": [
       "dtype('float32')"
      ]
     },
     "execution_count": 12,
     "metadata": {},
     "output_type": "execute_result"
    }
   ],
   "source": [
    "arr = np.array([1,2,3], dtype=np.float32)\n",
    "arr.dtype"
   ]
  },
  {
   "cell_type": "markdown",
   "metadata": {},
   "source": [
    "numpy detects dtype automatically from out the memory of the data (magic), but we can also pass it. </br>\n",
    "</br>\n",
    "Changing the dtype of an array so called casting:"
   ]
  },
  {
   "cell_type": "code",
   "execution_count": 13,
   "metadata": {},
   "outputs": [
    {
     "data": {
      "text/plain": [
       "dtype('int8')"
      ]
     },
     "execution_count": 13,
     "metadata": {},
     "output_type": "execute_result"
    }
   ],
   "source": [
    "int_arr = arr.astype(\"int8\")\n",
    "int_arr.dtype"
   ]
  },
  {
   "cell_type": "markdown",
   "metadata": {},
   "source": [
    "##### Vectorization\n",
    "- any operation between equal-sized arrays is applies element-wise\n",
    "- operations with scalars propagate the operation to each element in the array\n",
    "- comparisons between arrays of the same size yield boolean arrays\n",
    "- operations between differently sized arrays can broadcast under certain condition\n",
    "    - same shape in one dimension, I believe\n",
    "\n",
    "##### Slicing\n",
    "- 1-D arrays behave almost like python lists\n",
    "- but other than list, np array slices are `views` on the original array\n",
    "    - this means the data is NOT copied and any modification on a view will be reflected on the source array\n",
    "- for more-dimensional array, the elements at each index are not scalars, but arrays themselves:"
   ]
  },
  {
   "cell_type": "code",
   "execution_count": 14,
   "metadata": {},
   "outputs": [
    {
     "data": {
      "text/plain": [
       "array([[[ 1,  2,  3],\n",
       "        [ 4,  5,  6]],\n",
       "\n",
       "       [[ 7,  8,  9],\n",
       "        [10, 11, 12]]])"
      ]
     },
     "execution_count": 14,
     "metadata": {},
     "output_type": "execute_result"
    }
   ],
   "source": [
    "arr3d = np.array([[[1,2,3], [4,5,6]], [[7,8,9], [10,11,12]]])\n",
    "arr3d"
   ]
  },
  {
   "cell_type": "code",
   "execution_count": 15,
   "metadata": {},
   "outputs": [
    {
     "data": {
      "text/plain": [
       "array([[1, 2, 3],\n",
       "       [4, 5, 6]])"
      ]
     },
     "execution_count": 15,
     "metadata": {},
     "output_type": "execute_result"
    }
   ],
   "source": [
    "arr3d[0]"
   ]
  },
  {
   "cell_type": "code",
   "execution_count": 16,
   "metadata": {},
   "outputs": [
    {
     "data": {
      "text/plain": [
       "array([[[42, 42, 42],\n",
       "        [42, 42, 42]],\n",
       "\n",
       "       [[ 7,  8,  9],\n",
       "        [10, 11, 12]]])"
      ]
     },
     "execution_count": 16,
     "metadata": {},
     "output_type": "execute_result"
    }
   ],
   "source": [
    "old_values = arr3d[0].copy()\n",
    "arr3d[0] = 42\n",
    "arr3d"
   ]
  },
  {
   "cell_type": "code",
   "execution_count": 17,
   "metadata": {},
   "outputs": [
    {
     "data": {
      "text/plain": [
       "array([[[ 1,  2,  3],\n",
       "        [ 4,  5,  6]],\n",
       "\n",
       "       [[ 7,  8,  9],\n",
       "        [10, 11, 12]]])"
      ]
     },
     "execution_count": 17,
     "metadata": {},
     "output_type": "execute_result"
    }
   ],
   "source": [
    "arr3d[0] = old_values\n",
    "arr3d"
   ]
  },
  {
   "cell_type": "code",
   "execution_count": 18,
   "metadata": {},
   "outputs": [
    {
     "data": {
      "text/plain": [
       "array([7, 8, 9])"
      ]
     },
     "execution_count": 18,
     "metadata": {},
     "output_type": "execute_result"
    }
   ],
   "source": [
    "arr3d[1,0]"
   ]
  },
  {
   "cell_type": "code",
   "execution_count": 19,
   "metadata": {},
   "outputs": [
    {
     "data": {
      "text/plain": [
       "array([7, 8, 9])"
      ]
     },
     "execution_count": 19,
     "metadata": {},
     "output_type": "execute_result"
    }
   ],
   "source": [
    "# is the same as:\n",
    "index = arr3d[1]\n",
    "index[0]"
   ]
  },
  {
   "cell_type": "code",
   "execution_count": 20,
   "metadata": {},
   "outputs": [
    {
     "data": {
      "text/plain": [
       "array([[1, 2, 3],\n",
       "       [4, 5, 6],\n",
       "       [7, 8, 9]])"
      ]
     },
     "execution_count": 20,
     "metadata": {},
     "output_type": "execute_result"
    }
   ],
   "source": [
    "arr2d = np.array([[1,2,3], [4,5,6], [7,8,9]])\n",
    "arr2d"
   ]
  },
  {
   "cell_type": "code",
   "execution_count": 21,
   "metadata": {},
   "outputs": [
    {
     "data": {
      "text/plain": [
       "array([[1, 2, 3],\n",
       "       [4, 5, 6]])"
      ]
     },
     "execution_count": 21,
     "metadata": {},
     "output_type": "execute_result"
    }
   ],
   "source": [
    "# this slices along axis 0\n",
    "arr2d[:2] # read: select the first two rows of arr2d"
   ]
  },
  {
   "cell_type": "code",
   "execution_count": 22,
   "metadata": {},
   "outputs": [
    {
     "data": {
      "text/plain": [
       "array([[2, 3],\n",
       "       [5, 6]])"
      ]
     },
     "execution_count": 22,
     "metadata": {},
     "output_type": "execute_result"
    }
   ],
   "source": [
    "# passing multiple slices (one for each dimension):\n",
    "arr2d[:2, 1:] # read: select the first two rows and then from this, select every column after the first column"
   ]
  },
  {
   "cell_type": "code",
   "execution_count": 23,
   "metadata": {},
   "outputs": [
    {
     "data": {
      "text/plain": [
       "array([[1, 0, 0],\n",
       "       [4, 0, 0],\n",
       "       [7, 8, 9]])"
      ]
     },
     "execution_count": 23,
     "metadata": {},
     "output_type": "execute_result"
    }
   ],
   "source": [
    "# assigning to a slice selection assigns to the whole selection (because slices are views):\n",
    "arr2d[:2, 1:] = 0\n",
    "arr2d"
   ]
  },
  {
   "cell_type": "markdown",
   "metadata": {},
   "source": [
    "##### Boolean indexing\n",
    "- caution: it doesn't fail if the lengthes don't match (really not? I can hardly believe this)"
   ]
  },
  {
   "cell_type": "code",
   "execution_count": 24,
   "metadata": {},
   "outputs": [
    {
     "data": {
      "text/plain": [
       "array([[1, 0, 0],\n",
       "       [7, 8, 9]])"
      ]
     },
     "execution_count": 24,
     "metadata": {},
     "output_type": "execute_result"
    }
   ],
   "source": [
    "names = np.array([\"bob\", \"sandy\", \"bob\"])\n",
    "\n",
    "arr2d[names == \"bob\"]"
   ]
  },
  {
   "cell_type": "code",
   "execution_count": 25,
   "metadata": {},
   "outputs": [
    {
     "data": {
      "text/plain": [
       "array([[0, 0],\n",
       "       [8, 9]])"
      ]
     },
     "execution_count": 25,
     "metadata": {},
     "output_type": "execute_result"
    }
   ],
   "source": [
    "arr2d[names == \"bob\", 1:] # mix of boolean indexing and slicing"
   ]
  },
  {
   "cell_type": "markdown",
   "metadata": {},
   "source": [
    "- trying if the statement from above about not raising on different shapes is true:"
   ]
  },
  {
   "cell_type": "code",
   "execution_count": 26,
   "metadata": {},
   "outputs": [
    {
     "data": {
      "text/plain": [
       "array([[  1,   0,   0],\n",
       "       [  4,   0,   0],\n",
       "       [  7,   8,   9],\n",
       "       [ 98,  99, 100]])"
      ]
     },
     "execution_count": 26,
     "metadata": {},
     "output_type": "execute_result"
    }
   ],
   "source": [
    "arr2d_expanded = np.vstack([arr2d, np.array([98, 99, 100])])   \n",
    "arr2d_expanded"
   ]
  },
  {
   "cell_type": "code",
   "execution_count": 27,
   "metadata": {},
   "outputs": [
    {
     "ename": "IndexError",
     "evalue": "boolean index did not match indexed array along axis 0; size of axis is 4 but size of corresponding boolean axis is 3",
     "output_type": "error",
     "traceback": [
      "\u001b[0;31m---------------------------------------------------------------------------\u001b[0m",
      "\u001b[0;31mIndexError\u001b[0m                                Traceback (most recent call last)",
      "Cell \u001b[0;32mIn[27], line 1\u001b[0m\n\u001b[0;32m----> 1\u001b[0m \u001b[43marr2d_expanded\u001b[49m\u001b[43m[\u001b[49m\u001b[43mnames\u001b[49m\u001b[43m \u001b[49m\u001b[38;5;241;43m==\u001b[39;49m\u001b[43m \u001b[49m\u001b[38;5;124;43m\"\u001b[39;49m\u001b[38;5;124;43mbob\u001b[39;49m\u001b[38;5;124;43m\"\u001b[39;49m\u001b[43m]\u001b[49m \u001b[38;5;66;03m# so it does raise ...\u001b[39;00m\n",
      "\u001b[0;31mIndexError\u001b[0m: boolean index did not match indexed array along axis 0; size of axis is 4 but size of corresponding boolean axis is 3"
     ]
    }
   ],
   "source": [
    "arr2d_expanded[names == \"bob\"] # so it does raise ..."
   ]
  },
  {
   "cell_type": "markdown",
   "metadata": {},
   "source": [
    "##### Fancy indexing\n",
    "- indexing using integer arrays"
   ]
  },
  {
   "cell_type": "code",
   "execution_count": 28,
   "metadata": {},
   "outputs": [
    {
     "data": {
      "text/plain": [
       "array([[5.41617385e-310, 0.00000000e+000, 6.36306148e-310,\n",
       "        6.36305145e-310],\n",
       "       [6.36305695e-310, 6.36305145e-310, 6.36306342e-310,\n",
       "        6.36305145e-310],\n",
       "       [6.36306268e-310, 6.36305695e-310, 6.36305145e-310,\n",
       "        6.36305903e-310],\n",
       "       [6.36305695e-310, 6.36305695e-310, 6.36306263e-310,\n",
       "        6.36305695e-310],\n",
       "       [6.36305145e-310, 5.41656433e-310, 6.36306343e-310,\n",
       "        6.36306271e-310],\n",
       "       [6.36306342e-310, 6.36306343e-310, 6.36306343e-310,\n",
       "        6.36306277e-310],\n",
       "       [6.36306343e-310, 6.36305695e-310, 6.36306343e-310,\n",
       "        6.36306341e-310],\n",
       "       [6.36306339e-310, 6.36306340e-310, 6.36305695e-310,\n",
       "        6.36305145e-310]])"
      ]
     },
     "execution_count": 28,
     "metadata": {},
     "output_type": "execute_result"
    }
   ],
   "source": [
    "arr = np.empty((8,4)) # np.empty() creates an array with some data it happens to have in memory (not reliable)\n",
    "arr"
   ]
  },
  {
   "cell_type": "code",
   "execution_count": null,
   "metadata": {},
   "outputs": [],
   "source": [
    "for i in range(8): # this is part of initing the array; it's not fancy indexing yet\n",
    "    arr[i] = i"
   ]
  },
  {
   "cell_type": "code",
   "execution_count": 30,
   "metadata": {},
   "outputs": [
    {
     "data": {
      "text/plain": [
       "array([[0., 0., 0., 0.],\n",
       "       [1., 1., 1., 1.],\n",
       "       [2., 2., 2., 2.],\n",
       "       [3., 3., 3., 3.],\n",
       "       [4., 4., 4., 4.],\n",
       "       [5., 5., 5., 5.],\n",
       "       [6., 6., 6., 6.],\n",
       "       [7., 7., 7., 7.]])"
      ]
     },
     "execution_count": 30,
     "metadata": {},
     "output_type": "execute_result"
    }
   ],
   "source": [
    "arr"
   ]
  },
  {
   "cell_type": "code",
   "execution_count": null,
   "metadata": {},
   "outputs": [
    {
     "data": {
      "text/plain": [
       "array([[4., 4., 4., 4.],\n",
       "       [3., 3., 3., 3.],\n",
       "       [0., 0., 0., 0.],\n",
       "       [6., 6., 6., 6.]])"
      ]
     },
     "execution_count": 31,
     "metadata": {},
     "output_type": "execute_result"
    }
   ],
   "source": [
    "arr[[4,3,0,6]] # passing a list or ndarray of integers to specify the desired order: this is fancy indexing"
   ]
  },
  {
   "cell_type": "code",
   "execution_count": 32,
   "metadata": {},
   "outputs": [
    {
     "data": {
      "text/plain": [
       "array([[ 0,  1,  2,  3],\n",
       "       [ 4,  5,  6,  7],\n",
       "       [ 8,  9, 10, 11],\n",
       "       [12, 13, 14, 15],\n",
       "       [16, 17, 18, 19],\n",
       "       [20, 21, 22, 23],\n",
       "       [24, 25, 26, 27],\n",
       "       [28, 29, 30, 31]])"
      ]
     },
     "execution_count": 32,
     "metadata": {},
     "output_type": "execute_result"
    }
   ],
   "source": [
    "# passing a multiple-index array does something different: it selects a one-dimensional array corresponding to each tuple of indexes:\n",
    "arr = np.arange(32).reshape((8,4))\n",
    "arr"
   ]
  },
  {
   "cell_type": "code",
   "execution_count": 33,
   "metadata": {},
   "outputs": [
    {
     "data": {
      "text/plain": [
       "array([ 4, 23, 29, 10])"
      ]
     },
     "execution_count": 33,
     "metadata": {},
     "output_type": "execute_result"
    }
   ],
   "source": [
    "arr[[1,5,7,2],[0,3,1,2]] # this is the fancy indexing"
   ]
  },
  {
   "cell_type": "markdown",
   "metadata": {},
   "source": [
    "Fancy indexing is a way to select multiple elements (other than just indexing) at the same time, that are not contiguous (other than slicing).\n",
    "\n",
    "- it can be used to select or set specific elements (multi dimensional)\n",
    "- it can be used to re-order the data in an array (not in place; for inplace ordering we would use `np.argsort()`)\n",
    "- boolean indexing is a type of fancy indexing\n",
    "\n",
    "##### Transposing arrays and swapping axes\n",
    "- transposing is a special way of reshaping and returns a view without creating a copy\n",
    "- ndarrays have a `transpose()` method and a `.T` attribute\n",
    "    - we use this for calculating inner products ($x^Tx$), for instance\n",
    "\n",
    "### 4.2 Universal Functions: Fast element-wise array functions\n",
    "- a `ufunc` is a vectorizing wrapper around a normal function, returning element-wise transformations\n",
    "- examples: `np.sqrt()`, `np.exp()`, `np.add()`, `np.maximum()`\n",
    "- the can take one or two arrays as input and mostly return one array (sometimes also multiple arrays, although not common; example: `np.modf()`)\n",
    "\n",
    "### 4.3 Array-oriented programming\n",
    "##### Conditional logic\n",
    "- `np.where()` is a vectorized version of the ternary expression `x if condition else y`"
   ]
  },
  {
   "cell_type": "code",
   "execution_count": 37,
   "metadata": {},
   "outputs": [
    {
     "name": "stdout",
     "output_type": "stream",
     "text": [
      "20\n",
      "<class 'int'>\n"
     ]
    }
   ],
   "source": [
    "# trying a ternary expression\n",
    "x = 10\n",
    "y = 20\n",
    "result = x if x > y else y  # Picks the larger value\n",
    "print(result)\n",
    "print(type(result))\n"
   ]
  },
  {
   "cell_type": "code",
   "execution_count": 38,
   "metadata": {},
   "outputs": [
    {
     "data": {
      "text/plain": [
       "array([1.1, 2.2, 1.3, 1.4])"
      ]
     },
     "execution_count": 38,
     "metadata": {},
     "output_type": "execute_result"
    }
   ],
   "source": [
    "# trying np.where()\n",
    "xarr = np.array([1.1, 1.2, 1.3, 1.4])\n",
    "yarr = np.array([2.1, 2.2, 2.3, 2.4])\n",
    "cond = np.array([True, False, True, True])\n",
    "\n",
    "# we want to take a value from `xarr`, where the condition from `cond` is True, and from `yarr` otherwise\n",
    "\n",
    "result = np.where(cond, xarr, yarr)\n",
    "result"
   ]
  },
  {
   "cell_type": "code",
   "execution_count": 39,
   "metadata": {},
   "outputs": [
    {
     "data": {
      "text/plain": [
       "array([[ 0.12110708, -1.        ,  1.96610356, -1.        ],\n",
       "       [ 0.1118205 ,  1.02967095, -1.        , -1.        ],\n",
       "       [ 1.40108331, -1.        , -1.        ,  0.61962777],\n",
       "       [ 1.33009324, -1.        ,  0.64076656,  2.05993252]])"
      ]
     },
     "execution_count": 39,
     "metadata": {},
     "output_type": "execute_result"
    }
   ],
   "source": [
    "# other example\n",
    "arr = np.random.randn(4, 4)\n",
    "\n",
    "arr = np.where(arr<0, -1, arr)\n",
    "arr"
   ]
  },
  {
   "cell_type": "markdown",
   "metadata": {},
   "source": [
    "##### Mathematical and statistical methods"
   ]
  },
  {
   "cell_type": "code",
   "execution_count": 53,
   "metadata": {},
   "outputs": [
    {
     "data": {
      "text/plain": [
       "array([[ 1.2980223 , -0.31134484,  1.13939312,  1.230545  ],\n",
       "       [-1.07852185,  0.20719577,  0.66337511,  0.34010541],\n",
       "       [ 0.02902769, -1.52797291,  0.15086521, -1.26519605],\n",
       "       [ 0.57630202,  1.52964349, -0.88973635, -0.23148914],\n",
       "       [ 0.99065693, -0.12356336, -0.69366481, -0.14388266]])"
      ]
     },
     "execution_count": 53,
     "metadata": {},
     "output_type": "execute_result"
    }
   ],
   "source": [
    "arr = np.random.randn(5, 4) # generate normally distributed data\n",
    "arr"
   ]
  },
  {
   "cell_type": "code",
   "execution_count": null,
   "metadata": {},
   "outputs": [
    {
     "name": "stdout",
     "output_type": "stream",
     "text": [
      "0.0944880032241776\n",
      "1.889760064483552\n",
      "[ 3.35661557  0.13215443 -2.61327605  0.98472002  0.02954609]\n"
     ]
    }
   ],
   "source": [
    "print(arr.mean()) # or np.mean(arr)\n",
    "print(arr.sum())\n",
    "\n",
    "# these take an optional axis param to compute the statistic over a certain axis:\n",
    "print(arr.sum(axis=1)) # or arr.mean(1)"
   ]
  },
  {
   "cell_type": "code",
   "execution_count": 56,
   "metadata": {},
   "outputs": [
    {
     "name": "stdout",
     "output_type": "stream",
     "text": [
      "[1 3 6]\n",
      "[1 2 6]\n"
     ]
    }
   ],
   "source": [
    "# these do not aggregate, but produce an array of the intermediate results:\n",
    "arr = np.array([1,2,3])\n",
    "\n",
    "print(arr.cumsum())\n",
    "print(arr.cumprod())"
   ]
  },
  {
   "cell_type": "code",
   "execution_count": null,
   "metadata": {},
   "outputs": [
    {
     "name": "stdout",
     "output_type": "stream",
     "text": [
      "[[1 2 3]\n",
      " [4 5 6]]\n",
      "\n",
      "[ 1  3  6 10 15 21]\n",
      "[[1 2 3]\n",
      " [5 7 9]]\n",
      "\n",
      "[  1   2   6  24 120 720]\n",
      "[[ 1  2  3]\n",
      " [ 4 10 18]]\n"
     ]
    }
   ],
   "source": [
    "# for multidimensional arrays:\n",
    "arr = np.array([[1,2,3], [4,5,6]])\n",
    "print(arr)\n",
    "\n",
    "print('')\n",
    "\n",
    "print(arr.cumsum()) # add everything\n",
    "print(arr.cumsum(axis=0)) # add row-wise\n",
    "\n",
    "print('')\n",
    "\n",
    "print(arr.cumprod())\n",
    "print(arr.cumprod(axis=0))"
   ]
  },
  {
   "cell_type": "markdown",
   "metadata": {},
   "source": [
    "##### Methods for boolean arrays\n",
    "- `.any()` and `.all()` are specifically useful for boolean arrays; `.sum()` is also often used\n",
    "- on non-boolean arrays the first two evaluate to True for non-zero values\n",
    "\n",
    "##### Sorting"
   ]
  },
  {
   "cell_type": "code",
   "execution_count": null,
   "metadata": {},
   "outputs": [],
   "source": [
    "arr = np.random.randn(2,2).sort() # sorts in place\n",
    "arr # which means: sort() returns nothing, only None"
   ]
  },
  {
   "cell_type": "code",
   "execution_count": null,
   "metadata": {},
   "outputs": [
    {
     "data": {
      "text/plain": [
       "NoneType"
      ]
     },
     "execution_count": 79,
     "metadata": {},
     "output_type": "execute_result"
    }
   ],
   "source": [
    "type(arr) # this is why this is a Nonetype"
   ]
  },
  {
   "cell_type": "code",
   "execution_count": null,
   "metadata": {},
   "outputs": [
    {
     "data": {
      "text/plain": [
       "array([[-1.26586607,  1.3622619 ],\n",
       "       [-0.88691094, -0.85749665]])"
      ]
     },
     "execution_count": 85,
     "metadata": {},
     "output_type": "execute_result"
    }
   ],
   "source": [
    "# this is how it works\n",
    "arr = np.random.randn(2,2)\n",
    "arr.sort()\n",
    "arr"
   ]
  },
  {
   "cell_type": "code",
   "execution_count": 86,
   "metadata": {},
   "outputs": [
    {
     "data": {
      "text/plain": [
       "np.float64(-1.6057149256592729)"
      ]
     },
     "execution_count": 86,
     "metadata": {},
     "output_type": "execute_result"
    }
   ],
   "source": [
    "# quick and dirty way to find percentiles:\n",
    "large_arr = np.random.randn(1000)\n",
    "large_arr.sort()\n",
    "large_arr[int(0.05 * len(large_arr))] # percentile at rank 5"
   ]
  },
  {
   "cell_type": "markdown",
   "metadata": {},
   "source": [
    "##### Unique and other set logic"
   ]
  },
  {
   "cell_type": "code",
   "execution_count": 87,
   "metadata": {},
   "outputs": [
    {
     "name": "stderr",
     "output_type": "stream",
     "text": [
      "/tmp/ipykernel_267914/2216186553.py:3: DeprecationWarning: `in1d` is deprecated. Use `np.isin` instead.\n",
      "  np.in1d(values, [2,3])\n"
     ]
    },
    {
     "data": {
      "text/plain": [
       "array([False,  True,  True, False,  True, False])"
      ]
     },
     "execution_count": 87,
     "metadata": {},
     "output_type": "execute_result"
    }
   ],
   "source": [
    "# test membership of the values in one array in another:\n",
    "values = np.array([0,3,2,1,2,4])\n",
    "np.in1d(values, [2,3])"
   ]
  },
  {
   "cell_type": "markdown",
   "metadata": {},
   "source": [
    "### 4.3 File Input and Output with Arrays\n",
    "- numpy can save and load data to disk in text or in binary format using `np.save()` and `np.load()`\n",
    "- they will be stored as npy files:"
   ]
  },
  {
   "cell_type": "code",
   "execution_count": null,
   "metadata": {},
   "outputs": [],
   "source": [
    "arr = np.arange(10)\n",
    "np.save('some_array', arr) # saves arrays as `some_array.npy`"
   ]
  },
  {
   "cell_type": "code",
   "execution_count": 90,
   "metadata": {},
   "outputs": [
    {
     "data": {
      "text/plain": [
       "array([0, 1, 2, 3, 4, 5, 6, 7, 8, 9])"
      ]
     },
     "execution_count": 90,
     "metadata": {},
     "output_type": "execute_result"
    }
   ],
   "source": [
    "arr_loaded = np.load('some_array.npy')\n",
    "arr_loaded"
   ]
  },
  {
   "cell_type": "code",
   "execution_count": 91,
   "metadata": {},
   "outputs": [],
   "source": [
    "# for multiple arrays\n",
    "np.savez('array_archive.npz', a=arr, b=arr) # a and b being the names of (usually) different arrays"
   ]
  },
  {
   "cell_type": "code",
   "execution_count": 92,
   "metadata": {},
   "outputs": [
    {
     "data": {
      "text/plain": [
       "array([0, 1, 2, 3, 4, 5, 6, 7, 8, 9])"
      ]
     },
     "execution_count": 92,
     "metadata": {},
     "output_type": "execute_result"
    }
   ],
   "source": [
    "arch = np.load('array_archive.npz') # will return a dict with the names of the arrays as keys\n",
    "arch['b']"
   ]
  },
  {
   "cell_type": "markdown",
   "metadata": {},
   "source": [
    "- all the above methods save the data uncompressed\n",
    "- if the data compresses well, we can also use `np.savez_compressed()`\n",
    "\n",
    "### 4.5 Linear Algebra\n",
    "- `np.dot()` for matrix multiplication\n",
    "- the `@` symbol (introduced in Python 3.5) is an infix operator also doing matrix multiplication"
   ]
  },
  {
   "cell_type": "code",
   "execution_count": 101,
   "metadata": {},
   "outputs": [
    {
     "data": {
      "text/plain": [
       "array([[  0.68863277,   2.32533218,  -1.20754068,   1.97367978,\n",
       "         -1.89007534],\n",
       "       [  2.32533218,  19.71960478, -10.63496604,  16.14356698,\n",
       "        -16.49136878],\n",
       "       [ -1.20754068, -10.63496604,   5.92782184,  -8.74737409,\n",
       "          9.06393264],\n",
       "       [  1.97367978,  16.14356698,  -8.74737409,  13.40734895,\n",
       "        -13.56452877],\n",
       "       [ -1.89007534, -16.49136878,   9.06393264, -13.56452877,\n",
       "         14.18291675]])"
      ]
     },
     "execution_count": 101,
     "metadata": {},
     "output_type": "execute_result"
    }
   ],
   "source": [
    "from numpy.linalg import inv, qr\n",
    "\n",
    "X = np.random.randn(5,5)\n",
    "\n",
    "mat = X.T.dot(X)\n",
    "inv(mat)\n"
   ]
  },
  {
   "cell_type": "code",
   "execution_count": null,
   "metadata": {},
   "outputs": [
    {
     "data": {
      "text/plain": [
       "array([[ 1.00000000e+00,  5.89976977e-16, -7.00569346e-16,\n",
       "        -2.23960879e-15, -1.23199659e-15],\n",
       "       [ 7.11534201e-17,  1.00000000e+00, -1.37409970e-15,\n",
       "         1.35910277e-15,  1.11921110e-15],\n",
       "       [ 1.19080155e-15, -7.35171767e-15,  1.00000000e+00,\n",
       "        -6.71488870e-15,  9.86315869e-15],\n",
       "       [ 1.38359770e-15, -1.79708104e-15, -5.73206221e-16,\n",
       "         1.00000000e+00, -1.05919482e-14],\n",
       "       [ 5.98515432e-16,  5.98899018e-15, -4.34049322e-15,\n",
       "         6.21085003e-15,  1.00000000e+00]])"
      ]
     },
     "execution_count": 102,
     "metadata": {},
     "output_type": "execute_result"
    }
   ],
   "source": [
    "mat.dot(inv(mat)) # almost eye matrix (rounding errors obviously, other than in the book)"
   ]
  },
  {
   "cell_type": "code",
   "execution_count": null,
   "metadata": {},
   "outputs": [
    {
     "data": {
      "text/plain": [
       "array([[-0.49470092,  0.0276895 ,  0.04151266,  0.07548343,  0.86433977],\n",
       "       [-0.25767361, -0.66784315,  0.02841727,  0.672401  , -0.18616978],\n",
       "       [ 0.17588013,  0.15794074, -0.9188557 ,  0.29466703,  0.11400197],\n",
       "       [-0.53229441, -0.36975612, -0.39023576, -0.6157343 , -0.22029614],\n",
       "       [ 0.61204914, -0.62574272, -0.02982297, -0.27608288,  0.39589233]])"
      ]
     },
     "execution_count": 99,
     "metadata": {},
     "output_type": "execute_result"
    }
   ],
   "source": [
    "q, r = qr(mat) # qr factorization of a matrix\n",
    "q"
   ]
  },
  {
   "cell_type": "code",
   "execution_count": 100,
   "metadata": {},
   "outputs": [
    {
     "data": {
      "text/plain": [
       "array([[ -8.67547834,  -4.7668058 ,   2.9413361 , -10.13989014,\n",
       "         10.56799639],\n",
       "       [  0.        ,  -4.43133203,   1.06571303,  -4.70637323,\n",
       "         -5.37570551],\n",
       "       [  0.        ,   0.        ,  -2.41544778,  -2.36445853,\n",
       "         -0.6376045 ],\n",
       "       [  0.        ,   0.        ,   0.        ,  -2.24992763,\n",
       "         -1.41350362],\n",
       "       [  0.        ,   0.        ,   0.        ,   0.        ,\n",
       "          0.23161474]])"
      ]
     },
     "execution_count": 100,
     "metadata": {},
     "output_type": "execute_result"
    }
   ],
   "source": [
    "r"
   ]
  },
  {
   "cell_type": "markdown",
   "metadata": {},
   "source": [
    "### 4.6 Pseudorandom Number Generation\n",
    "- numpy's random module supplements the python random module with efficient functions to create random number arrays from different probability distributions\n",
    "- pseudorandom, because these are deterministic algorithms based on a random seed"
   ]
  },
  {
   "cell_type": "code",
   "execution_count": null,
   "metadata": {},
   "outputs": [
    {
     "data": {
      "text/plain": [
       "array([[-0.59839524, -0.05451426, -0.39527943, -2.10952311],\n",
       "       [-1.27982573, -1.85372548,  1.42104452,  0.48263228],\n",
       "       [-1.63395085,  0.11694552, -1.62034731,  0.40186316],\n",
       "       [ 0.26425778,  0.0514621 ,  1.13957537,  0.0518309 ]])"
      ]
     },
     "execution_count": 103,
     "metadata": {},
     "output_type": "execute_result"
    }
   ],
   "source": [
    "# example: standard normal distribution\n",
    "np.random.normal(size=[4,4])"
   ]
  },
  {
   "cell_type": "code",
   "execution_count": null,
   "metadata": {},
   "outputs": [],
   "source": [
    "# change random seed\n",
    "np.random.seed(1234)"
   ]
  },
  {
   "cell_type": "markdown",
   "metadata": {},
   "source": [
    "- the random number generation depends on a random seed itself, which is called the 'global random seed'\n",
    "- we can circumvent this global random seed by creating an isolated random number generator:"
   ]
  },
  {
   "cell_type": "code",
   "execution_count": 104,
   "metadata": {},
   "outputs": [
    {
     "data": {
      "text/plain": [
       "array([ 0.49671415, -0.1382643 ,  0.64768854,  1.52302986, -0.23415337,\n",
       "       -0.23413696,  1.57921282,  0.76743473, -0.46947439,  0.54256004])"
      ]
     },
     "execution_count": 104,
     "metadata": {},
     "output_type": "execute_result"
    }
   ],
   "source": [
    "# random number generator\n",
    "rng = np.random.RandomState(42)\n",
    "rng.randn(10)"
   ]
  },
  {
   "cell_type": "markdown",
   "metadata": {},
   "source": [
    "## Appendix A: Advanced NumPy\n",
    "##### Reshaping"
   ]
  },
  {
   "cell_type": "code",
   "execution_count": null,
   "metadata": {},
   "outputs": [
    {
     "data": {
      "text/plain": [
       "array([[ 0,  1,  2],\n",
       "       [ 3,  4,  5],\n",
       "       [ 6,  7,  8],\n",
       "       [ 9, 10, 11]])"
      ]
     },
     "execution_count": 108,
     "metadata": {},
     "output_type": "execute_result"
    }
   ],
   "source": [
    "arr = np.arange(12)\n",
    "arr.reshape((4,3), order=\"C\") # inplace operation, the order=\"C\" is the default"
   ]
  },
  {
   "cell_type": "code",
   "execution_count": 109,
   "metadata": {},
   "outputs": [
    {
     "data": {
      "text/plain": [
       "array([[ 0,  4,  8],\n",
       "       [ 1,  5,  9],\n",
       "       [ 2,  6, 10],\n",
       "       [ 3,  7, 11]])"
      ]
     },
     "execution_count": 109,
     "metadata": {},
     "output_type": "execute_result"
    }
   ],
   "source": [
    "arr.reshape((4,3), order=\"F\") #  F is for Fortran, it's columns first, then rows"
   ]
  },
  {
   "cell_type": "markdown",
   "metadata": {},
   "source": [
    "- if one of the shape dimensions is `-1`, the dimension will be inferred from the data (and the other defined shapes):"
   ]
  },
  {
   "cell_type": "code",
   "execution_count": 110,
   "metadata": {},
   "outputs": [
    {
     "data": {
      "text/plain": [
       "array([[ 0,  1,  2,  3,  4],\n",
       "       [ 5,  6,  7,  8,  9],\n",
       "       [10, 11, 12, 13, 14]])"
      ]
     },
     "execution_count": 110,
     "metadata": {},
     "output_type": "execute_result"
    }
   ],
   "source": [
    "arr = np.arange(15)\n",
    "arr.reshape(3, -1)"
   ]
  },
  {
   "cell_type": "code",
   "execution_count": null,
   "metadata": {},
   "outputs": [
    {
     "data": {
      "text/plain": [
       "array([ 0,  1,  2,  3,  4,  5,  6,  7,  8,  9, 10, 11, 12, 13, 14])"
      ]
     },
     "execution_count": 111,
     "metadata": {},
     "output_type": "execute_result"
    }
   ],
   "source": [
    "# shaping back into one dimension\n",
    "arr.ravel() # does not return a copy under certain conditions"
   ]
  },
  {
   "cell_type": "code",
   "execution_count": 112,
   "metadata": {},
   "outputs": [
    {
     "data": {
      "text/plain": [
       "array([ 0,  1,  2,  3,  4,  5,  6,  7,  8,  9, 10, 11, 12, 13, 14])"
      ]
     },
     "execution_count": 112,
     "metadata": {},
     "output_type": "execute_result"
    }
   ],
   "source": [
    "flattened_arr = arr.flatten() # does return a copy\n",
    "flattened_arr"
   ]
  },
  {
   "cell_type": "code",
   "execution_count": 117,
   "metadata": {},
   "outputs": [
    {
     "data": {
      "text/plain": [
       "array([ 0,  1,  2,  3,  4,  5,  6,  7,  8,  9, 10, 11, 12, 13, 14])"
      ]
     },
     "execution_count": 117,
     "metadata": {},
     "output_type": "execute_result"
    }
   ],
   "source": [
    "# order argument can also be passed into some functions\n",
    "arr =arr.reshape(3,5)\n",
    "arr.ravel()"
   ]
  },
  {
   "cell_type": "code",
   "execution_count": 118,
   "metadata": {},
   "outputs": [
    {
     "data": {
      "text/plain": [
       "array([ 0,  5, 10,  1,  6, 11,  2,  7, 12,  3,  8, 13,  4,  9, 14])"
      ]
     },
     "execution_count": 118,
     "metadata": {},
     "output_type": "execute_result"
    }
   ],
   "source": [
    "arr.ravel('F')"
   ]
  },
  {
   "cell_type": "markdown",
   "metadata": {},
   "source": [
    "##### Repeating elements"
   ]
  },
  {
   "cell_type": "code",
   "execution_count": null,
   "metadata": {},
   "outputs": [
    {
     "data": {
      "text/plain": [
       "array([0, 0, 0, 1, 1, 1, 2, 2, 2])"
      ]
     },
     "execution_count": 122,
     "metadata": {},
     "output_type": "execute_result"
    }
   ],
   "source": [
    "arr =np.arange(3)\n",
    "arr.repeat(3) # passing an int: repeats each element the same number of times"
   ]
  },
  {
   "cell_type": "code",
   "execution_count": 123,
   "metadata": {},
   "outputs": [
    {
     "data": {
      "text/plain": [
       "array([0, 0, 2, 2, 2])"
      ]
     },
     "execution_count": 123,
     "metadata": {},
     "output_type": "execute_result"
    }
   ],
   "source": [
    "arr.repeat([2,0,3]) # passing a sequence: repeats each element a different number of times"
   ]
  },
  {
   "cell_type": "code",
   "execution_count": 127,
   "metadata": {},
   "outputs": [
    {
     "data": {
      "text/plain": [
       "array([[-0.79305184, -2.48300109],\n",
       "       [-0.79305184, -2.48300109],\n",
       "       [-0.65743278, -1.49791964],\n",
       "       [-0.65743278, -1.49791964]])"
      ]
     },
     "execution_count": 127,
     "metadata": {},
     "output_type": "execute_result"
    }
   ],
   "source": [
    "# multidimensional arrays can be repeated along a certain axis\n",
    "arr = np.random.randn(2,2)\n",
    "arr.repeat(2, axis=0)"
   ]
  },
  {
   "cell_type": "code",
   "execution_count": 129,
   "metadata": {},
   "outputs": [
    {
     "data": {
      "text/plain": [
       "array([[ 0.45429061, -0.5994875 ],\n",
       "       [ 0.45429061, -0.5994875 ],\n",
       "       [-0.30168219, -1.06731923],\n",
       "       [-0.30168219, -1.06731923],\n",
       "       [-0.30168219, -1.06731923]])"
      ]
     },
     "execution_count": 129,
     "metadata": {},
     "output_type": "execute_result"
    }
   ],
   "source": [
    "# or repeat several times along a certain axis\n",
    "arr = np.random.randn(2,2)\n",
    "arr.repeat([2,3], axis=0)"
   ]
  },
  {
   "cell_type": "code",
   "execution_count": 130,
   "metadata": {},
   "outputs": [
    {
     "data": {
      "text/plain": [
       "array([[ 0.45429061,  0.45429061, -0.5994875 , -0.5994875 , -0.5994875 ],\n",
       "       [-0.30168219, -0.30168219, -1.06731923, -1.06731923, -1.06731923]])"
      ]
     },
     "execution_count": 130,
     "metadata": {},
     "output_type": "execute_result"
    }
   ],
   "source": [
    "arr.repeat([2,3], axis=1)"
   ]
  },
  {
   "cell_type": "code",
   "execution_count": 133,
   "metadata": {},
   "outputs": [
    {
     "data": {
      "text/plain": [
       "array([[0, 1, 0, 1],\n",
       "       [2, 3, 2, 3]])"
      ]
     },
     "execution_count": 133,
     "metadata": {},
     "output_type": "execute_result"
    }
   ],
   "source": [
    "# tile is a way to reproduce an array along a certain axis\n",
    "arr = np.arange(4).reshape(2,2)\n",
    "np.tile(arr, 2)"
   ]
  },
  {
   "cell_type": "code",
   "execution_count": 135,
   "metadata": {},
   "outputs": [
    {
     "data": {
      "text/plain": [
       "array([[0, 1, 0, 1, 0, 1],\n",
       "       [2, 3, 2, 3, 2, 3],\n",
       "       [0, 1, 0, 1, 0, 1],\n",
       "       [2, 3, 2, 3, 2, 3]])"
      ]
     },
     "execution_count": 135,
     "metadata": {},
     "output_type": "execute_result"
    }
   ],
   "source": [
    "# the second argument can be a tuple indicating the tiling\n",
    "np.tile(arr, [2,3])"
   ]
  },
  {
   "cell_type": "markdown",
   "metadata": {},
   "source": [
    "##### Fancy indexing equivalents: take and put\n",
    "- useful for making a selection along a certain axis"
   ]
  },
  {
   "cell_type": "code",
   "execution_count": null,
   "metadata": {},
   "outputs": [
    {
     "data": {
      "text/plain": [
       "array([100, 400, 700])"
      ]
     },
     "execution_count": 137,
     "metadata": {},
     "output_type": "execute_result"
    }
   ],
   "source": [
    "arr = np.arange(10) * 100\n",
    "inds = [1, 4, 7]\n",
    "\n",
    "arr[inds] # fancy indexing"
   ]
  },
  {
   "cell_type": "code",
   "execution_count": 139,
   "metadata": {},
   "outputs": [
    {
     "data": {
      "text/plain": [
       "array([100, 400, 700])"
      ]
     },
     "execution_count": 139,
     "metadata": {},
     "output_type": "execute_result"
    }
   ],
   "source": [
    "arr.take(inds)"
   ]
  },
  {
   "cell_type": "code",
   "execution_count": 140,
   "metadata": {},
   "outputs": [
    {
     "data": {
      "text/plain": [
       "array([  0,  42, 200, 300,  42, 500, 600,  42, 800, 900])"
      ]
     },
     "execution_count": 140,
     "metadata": {},
     "output_type": "execute_result"
    }
   ],
   "source": [
    "arr.put(inds, 42)\n",
    "arr"
   ]
  },
  {
   "cell_type": "markdown",
   "metadata": {},
   "source": [
    "##### Broadcasting\n",
    "- arithmetic between arrays of different shapes\n",
    "- the shapes are suitable for broadcasting if either for each dimension it is the same across arrays or it is 1\n",
    "    - ofter, in order to make it work, we need to add a new axis of length 1"
   ]
  },
  {
   "cell_type": "code",
   "execution_count": 146,
   "metadata": {},
   "outputs": [
    {
     "data": {
      "text/plain": [
       "array([[ 0.10156386,  0.55768196, -1.00808752],\n",
       "       [-0.06576862, -2.89332594, -0.14339833],\n",
       "       [ 2.25114946, -0.58481767,  0.52004145],\n",
       "       [ 0.87469057, -1.02561222,  0.55715798]])"
      ]
     },
     "execution_count": 146,
     "metadata": {},
     "output_type": "execute_result"
    }
   ],
   "source": [
    "arr = np.random.randn(4,3)\n",
    "arr"
   ]
  },
  {
   "cell_type": "code",
   "execution_count": 147,
   "metadata": {},
   "outputs": [
    {
     "data": {
      "text/plain": [
       "array([ 0.79040882, -0.98651847, -0.0185716 ])"
      ]
     },
     "execution_count": 147,
     "metadata": {},
     "output_type": "execute_result"
    }
   ],
   "source": [
    "arr.mean(0) #means over axis 0"
   ]
  },
  {
   "cell_type": "code",
   "execution_count": 148,
   "metadata": {},
   "outputs": [
    {
     "data": {
      "text/plain": [
       "array([[-0.68884496,  1.54420042, -0.98951591],\n",
       "       [-0.85617744, -1.90680747, -0.12482673],\n",
       "       [ 1.46074064,  0.4017008 ,  0.53861306],\n",
       "       [ 0.08428175, -0.03909376,  0.57572959]])"
      ]
     },
     "execution_count": 148,
     "metadata": {},
     "output_type": "execute_result"
    }
   ],
   "source": [
    "demeaned = arr - arr.mean(0)\n",
    "demeaned"
   ]
  },
  {
   "cell_type": "code",
   "execution_count": null,
   "metadata": {},
   "outputs": [
    {
     "data": {
      "text/plain": [
       "array([ 0.00000000e+00, -5.55111512e-17, -2.77555756e-17])"
      ]
     },
     "execution_count": 149,
     "metadata": {},
     "output_type": "execute_result"
    }
   ],
   "source": [
    "demeaned.mean(0) # almost zero"
   ]
  },
  {
   "cell_type": "code",
   "execution_count": 150,
   "metadata": {},
   "outputs": [
    {
     "data": {
      "text/plain": [
       "array([[0., 0., 0., 0.],\n",
       "       [0., 0., 0., 0.],\n",
       "       [0., 0., 0., 0.],\n",
       "       [0., 0., 0., 0.]])"
      ]
     },
     "execution_count": 150,
     "metadata": {},
     "output_type": "execute_result"
    }
   ],
   "source": [
    "# adding a new axis easily:\n",
    "arr = np.zeros((4,4))\n",
    "arr"
   ]
  },
  {
   "cell_type": "code",
   "execution_count": 152,
   "metadata": {},
   "outputs": [
    {
     "data": {
      "text/plain": [
       "array([[[0., 0., 0., 0.]],\n",
       "\n",
       "       [[0., 0., 0., 0.]],\n",
       "\n",
       "       [[0., 0., 0., 0.]],\n",
       "\n",
       "       [[0., 0., 0., 0.]]])"
      ]
     },
     "execution_count": 152,
     "metadata": {},
     "output_type": "execute_result"
    }
   ],
   "source": [
    "arr_3d = arr[:, np.newaxis, :]\n",
    "arr_3d"
   ]
  },
  {
   "cell_type": "markdown",
   "metadata": {},
   "source": [
    "- we can also set array values via broadcasting\n",
    "\n",
    "##### ufunc instance methods\n",
    "- ufuncs have special instance methods for special vectorized operations"
   ]
  },
  {
   "cell_type": "code",
   "execution_count": null,
   "metadata": {},
   "outputs": [
    {
     "data": {
      "text/plain": [
       "np.int64(45)"
      ]
     },
     "execution_count": 154,
     "metadata": {},
     "output_type": "execute_result"
    }
   ],
   "source": [
    "# reduce takes a single array and aggregates it, optionally along an axis:\n",
    "arr = np.arange(10)\n",
    "np.add.reduce(arr) # same as arr.sum()"
   ]
  },
  {
   "cell_type": "code",
   "execution_count": null,
   "metadata": {},
   "outputs": [
    {
     "data": {
      "text/plain": [
       "array([[-1.54678256, -0.95017152, -0.65289464,  0.04829081,  1.32566546],\n",
       "       [-0.76039907, -1.23175176, -1.44158413,  0.74995621,  0.3737859 ],\n",
       "       [ 0.35400768,  0.58035137,  0.81355741,  1.92065877,  2.66433731],\n",
       "       [-2.60520846, -1.42462652, -0.3184543 , -0.95227597, -0.42400786],\n",
       "       [-1.90565143, -0.55122187, -0.28483035, -0.02222463,  0.58650511]])"
      ]
     },
     "execution_count": 157,
     "metadata": {},
     "output_type": "execute_result"
    }
   ],
   "source": [
    "# logical_and to check if elements are sorted\n",
    "arr = np.random.randn(5,5)\n",
    "arr[::2].sort(1) # sort every other row\n",
    "arr"
   ]
  },
  {
   "cell_type": "code",
   "execution_count": null,
   "metadata": {},
   "outputs": [
    {
     "data": {
      "text/plain": [
       "array([[ True,  True,  True,  True],\n",
       "       [False, False,  True, False],\n",
       "       [ True,  True,  True,  True],\n",
       "       [ True,  True, False,  True],\n",
       "       [ True,  True,  True,  True]])"
      ]
     },
     "execution_count": 159,
     "metadata": {},
     "output_type": "execute_result"
    }
   ],
   "source": [
    "arr[:,:-1] < arr[:,1:] # check of sorted"
   ]
  },
  {
   "cell_type": "code",
   "execution_count": 161,
   "metadata": {},
   "outputs": [
    {
     "data": {
      "text/plain": [
       "array([ True, False,  True, False,  True])"
      ]
     },
     "execution_count": 161,
     "metadata": {},
     "output_type": "execute_result"
    }
   ],
   "source": [
    "np.logical_and.reduce(arr[:,:-1] < arr[:,1:], axis=1)"
   ]
  },
  {
   "cell_type": "markdown",
   "metadata": {},
   "source": [
    "- `np.logical_and.reduce()` is equivalent to the `.all()` method\n",
    "- `accumulate()` is related to `reduce()` like `cumsum()` is related to `sum()`:"
   ]
  },
  {
   "cell_type": "code",
   "execution_count": 166,
   "metadata": {},
   "outputs": [
    {
     "data": {
      "text/plain": [
       "array([[ 0,  1,  2,  3,  4],\n",
       "       [ 5,  6,  7,  8,  9],\n",
       "       [10, 11, 12, 13, 14]])"
      ]
     },
     "execution_count": 166,
     "metadata": {},
     "output_type": "execute_result"
    }
   ],
   "source": [
    "arr = np.arange(15).reshape(3,5)\n",
    "arr"
   ]
  },
  {
   "cell_type": "code",
   "execution_count": 167,
   "metadata": {},
   "outputs": [
    {
     "data": {
      "text/plain": [
       "array([[ 0,  1,  3,  6, 10],\n",
       "       [ 5, 11, 18, 26, 35],\n",
       "       [10, 21, 33, 46, 60]])"
      ]
     },
     "execution_count": 167,
     "metadata": {},
     "output_type": "execute_result"
    }
   ],
   "source": [
    "np.add.accumulate(arr, axis=1)"
   ]
  },
  {
   "cell_type": "markdown",
   "metadata": {},
   "source": [
    "- outer() performs a pairwise cross product between two arrays:"
   ]
  },
  {
   "cell_type": "code",
   "execution_count": 168,
   "metadata": {},
   "outputs": [
    {
     "data": {
      "text/plain": [
       "array([[ 0,  1,  2,  3,  4],\n",
       "       [ 5,  6,  7,  8,  9],\n",
       "       [10, 11, 12, 13, 14]])"
      ]
     },
     "execution_count": 168,
     "metadata": {},
     "output_type": "execute_result"
    }
   ],
   "source": [
    "arr"
   ]
  },
  {
   "cell_type": "code",
   "execution_count": null,
   "metadata": {},
   "outputs": [
    {
     "data": {
      "text/plain": [
       "array([[[ 0,  0,  0,  0,  0],\n",
       "        [ 0,  1,  2,  3,  4],\n",
       "        [ 0,  2,  4,  6,  8],\n",
       "        [ 0,  3,  6,  9, 12],\n",
       "        [ 0,  4,  8, 12, 16]],\n",
       "\n",
       "       [[ 0,  5, 10, 15, 20],\n",
       "        [ 0,  6, 12, 18, 24],\n",
       "        [ 0,  7, 14, 21, 28],\n",
       "        [ 0,  8, 16, 24, 32],\n",
       "        [ 0,  9, 18, 27, 36]],\n",
       "\n",
       "       [[ 0, 10, 20, 30, 40],\n",
       "        [ 0, 11, 22, 33, 44],\n",
       "        [ 0, 12, 24, 36, 48],\n",
       "        [ 0, 13, 26, 39, 52],\n",
       "        [ 0, 14, 28, 42, 56]]])"
      ]
     },
     "execution_count": 169,
     "metadata": {},
     "output_type": "execute_result"
    }
   ],
   "source": [
    "np.multiply.outer(arr, np.arange(5)) # output has a dimension that is the sum of the dimension of the inputs"
   ]
  },
  {
   "cell_type": "code",
   "execution_count": null,
   "metadata": {},
   "outputs": [
    {
     "data": {
      "text/plain": [
       "array([10, 18, 17])"
      ]
     },
     "execution_count": 178,
     "metadata": {},
     "output_type": "execute_result"
    }
   ],
   "source": [
    "# reduceat performs a local aggregation; a bit like groupby:\n",
    "arr = np.arange(10)\n",
    "indices = [0,5,8] # starting indices for the segments / bins\n",
    "np.add.reduceat(arr, indices)"
   ]
  },
  {
   "cell_type": "markdown",
   "metadata": {},
   "source": [
    "- a structured array is a np.array with a dtype that is structured (consists of several parts, that are accessible via a dict)\n",
    "    - we can pass the dtypes via a list or a tuple\n",
    "\n",
    "##### Advanced sorting\n",
    "- `argsort` is a way of sorting indirectly; receiving a list of indices that reflect the sorted array"
   ]
  },
  {
   "cell_type": "code",
   "execution_count": 179,
   "metadata": {},
   "outputs": [
    {
     "data": {
      "text/plain": [
       "array([1, 2, 4, 3, 0])"
      ]
     },
     "execution_count": 179,
     "metadata": {},
     "output_type": "execute_result"
    }
   ],
   "source": [
    "values = np.array([5,0,1,3,2])\n",
    "indexer = values.argsort()\n",
    "indexer\n"
   ]
  },
  {
   "cell_type": "code",
   "execution_count": 180,
   "metadata": {},
   "outputs": [
    {
     "data": {
      "text/plain": [
       "array([0, 1, 2, 3, 5])"
      ]
     },
     "execution_count": 180,
     "metadata": {},
     "output_type": "execute_result"
    }
   ],
   "source": [
    "values[indexer]"
   ]
  },
  {
   "cell_type": "markdown",
   "metadata": {},
   "source": [
    "- `lexsort` can be used to sort several arrays on their respective values\n",
    "    - the values of the last array is prioritised in the sorting and the values from the former array(s) are sorted in between\n",
    "    - it's similar to grouping first and then sorting\n",
    "    - pandas `sort_values` is related\n",
    "\n",
    "- `partition` and `argpartition` are used to split an array and only sort part of it"
   ]
  },
  {
   "cell_type": "code",
   "execution_count": 181,
   "metadata": {},
   "outputs": [
    {
     "data": {
      "text/plain": [
       "array([-0.20470766,  0.47894334, -0.51943872, -0.5557303 ,  1.96578057,\n",
       "        1.39340583,  0.09290788,  0.28174615,  0.76902257,  1.24643474,\n",
       "        1.00718936, -1.29622111,  0.27499163,  0.22891288,  1.35291684,\n",
       "        0.88642934, -2.00163731, -0.37184254,  1.66902531, -0.43856974])"
      ]
     },
     "execution_count": 181,
     "metadata": {},
     "output_type": "execute_result"
    }
   ],
   "source": [
    "np.random.seed(12345)\n",
    "arr = np.random.randn(20)\n",
    "arr"
   ]
  },
  {
   "cell_type": "code",
   "execution_count": null,
   "metadata": {},
   "outputs": [
    {
     "data": {
      "text/plain": [
       "array([-2.00163731, -1.29622111, -0.5557303 , -0.51943872, -0.43856974,\n",
       "       -0.37184254, -0.20470766,  0.09290788,  0.22891288,  0.27499163,\n",
       "        0.28174615,  0.47894334,  0.76902257,  0.88642934,  1.00718936,\n",
       "        1.24643474,  1.35291684,  1.39340583,  1.66902531,  1.96578057])"
      ]
     },
     "execution_count": 182,
     "metadata": {},
     "output_type": "execute_result"
    }
   ],
   "source": [
    "np.partition(arr, 3) #  after this, the first three elements in the result are the smallest three values in no particular order"
   ]
  },
  {
   "cell_type": "code",
   "execution_count": 183,
   "metadata": {},
   "outputs": [
    {
     "data": {
      "text/plain": [
       "array([16, 11,  3,  2, 19, 17,  0,  6, 13, 12,  7,  1,  8, 15, 10,  9, 14,\n",
       "        5, 18,  4])"
      ]
     },
     "execution_count": 183,
     "metadata": {},
     "output_type": "execute_result"
    }
   ],
   "source": [
    "indices = np.argpartition(arr, 3) # returns the indices of the array with the first three elements in order (similar to argsort)\n",
    "indices"
   ]
  },
  {
   "cell_type": "code",
   "execution_count": 184,
   "metadata": {},
   "outputs": [
    {
     "data": {
      "text/plain": [
       "array([-2.00163731, -1.29622111, -0.5557303 , -0.51943872, -0.43856974,\n",
       "       -0.37184254, -0.20470766,  0.09290788,  0.22891288,  0.27499163,\n",
       "        0.28174615,  0.47894334,  0.76902257,  0.88642934,  1.00718936,\n",
       "        1.24643474,  1.35291684,  1.39340583,  1.66902531,  1.96578057])"
      ]
     },
     "execution_count": 184,
     "metadata": {},
     "output_type": "execute_result"
    }
   ],
   "source": [
    "arr.take(indices) # like take_along_axis"
   ]
  },
  {
   "cell_type": "markdown",
   "metadata": {},
   "source": [
    "- `searchsorted` performs a binary search on a sorted array\n",
    "    - returns the location in the array where the value would need to be inserted to maintain sortedness\n",
    "    - we can also pass a sequence of values to have a sequence of indices returned"
   ]
  },
  {
   "cell_type": "code",
   "execution_count": 185,
   "metadata": {},
   "outputs": [
    {
     "data": {
      "text/plain": [
       "np.int64(2)"
      ]
     },
     "execution_count": 185,
     "metadata": {},
     "output_type": "execute_result"
    }
   ],
   "source": [
    "arr = np.array([1,2,5,6,9])\n",
    "arr.searchsorted(4)"
   ]
  },
  {
   "cell_type": "code",
   "execution_count": null,
   "metadata": {},
   "outputs": [
    {
     "data": {
      "text/plain": [
       "np.int64(2)"
      ]
     },
     "execution_count": 186,
     "metadata": {},
     "output_type": "execute_result"
    }
   ],
   "source": [
    "arr.searchsorted(5) # by default returns the index on the left side, but can be changed with the `side` param"
   ]
  }
 ],
 "metadata": {
  "kernelspec": {
   "display_name": "datascience_middle_course",
   "language": "python",
   "name": "python3"
  },
  "language_info": {
   "codemirror_mode": {
    "name": "ipython",
    "version": 3
   },
   "file_extension": ".py",
   "mimetype": "text/x-python",
   "name": "python",
   "nbconvert_exporter": "python",
   "pygments_lexer": "ipython3",
   "version": "3.12.2"
  }
 },
 "nbformat": 4,
 "nbformat_minor": 2
}
