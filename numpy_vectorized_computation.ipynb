{
 "cells": [
  {
   "cell_type": "markdown",
   "metadata": {},
   "source": [
    "Some notes and things I try with numpy following Chapter 4. NumPy Basics: Arrays and Vectorized Computation, and Appendix A in: Wes McKinney: Python for Data Analysis, 2017.\n",
    "\n",
    "## Chapter 4. NumPy Basics: Arrays and Vectorized Computation\n",
    "\n",
    "### numpy is fast because of parallelization\n",
    "- and more efficient in memory usage, too"
   ]
  },
  {
   "cell_type": "code",
   "execution_count": 2,
   "metadata": {},
   "outputs": [
    {
     "name": "stdout",
     "output_type": "stream",
     "text": [
      "CPU times: user 6.25 ms, sys: 3.29 ms, total: 9.54 ms\n",
      "Wall time: 9.59 ms\n"
     ]
    }
   ],
   "source": [
    "import numpy as np \n",
    "\n",
    "my_arr = np.arange(1000000)\n",
    "my_list = list(range(1000000))\n",
    "\n",
    "%time for _ in range(10): my_arr = my_arr * 2"
   ]
  },
  {
   "cell_type": "code",
   "execution_count": 3,
   "metadata": {},
   "outputs": [
    {
     "data": {
      "text/plain": [
       "(1000000,)"
      ]
     },
     "execution_count": 3,
     "metadata": {},
     "output_type": "execute_result"
    }
   ],
   "source": [
    "my_arr.shape # shape is the same, the values are doubled ten times"
   ]
  },
  {
   "cell_type": "code",
   "execution_count": 4,
   "metadata": {},
   "outputs": [
    {
     "data": {
      "text/plain": [
       "array([   0, 1024, 2048, 3072, 4096, 5120, 6144, 7168, 8192, 9216])"
      ]
     },
     "execution_count": 4,
     "metadata": {},
     "output_type": "execute_result"
    }
   ],
   "source": [
    "my_arr[:10]"
   ]
  },
  {
   "cell_type": "markdown",
   "metadata": {},
   "source": [
    "The `%time` is a magic command in Jupyter Notebook. Outputs mean: </br>\n",
    "    - user: time the CPU spent running your code in user mode (executing the Python process directly) </br>\n",
    "    - sys: The time spent in system mode, where the operating system was performing operations on behalf of \n",
    "        your program (e.g., memory management) </br>\n",
    "    - total: sum of the above two </br>\n",
    "    - Wall time: total time, including all of the above AND waiting for other resources (can differ from total \n",
    "        time, because other processes or threads may be running concurrently)\n",
    "\n",
    "Here, the wall time (first run: 11.7 ms) is much shorter, which suggests that operations were performed in \n",
    "parallel or optimized using NumPy's underlying implementation."
   ]
  },
  {
   "cell_type": "code",
   "execution_count": 5,
   "metadata": {},
   "outputs": [
    {
     "name": "stdout",
     "output_type": "stream",
     "text": [
      "CPU times: user 214 ms, sys: 53.3 ms, total: 267 ms\n",
      "Wall time: 267 ms\n"
     ]
    }
   ],
   "source": [
    "%time for _ in range(10): my_list = [x*2 for x in my_list] # each value is doubled 10 times\n",
    "\n",
    "# comment: this code caused vscode to break, because it doubles the size of the list so it would be 2^10 times \n",
    "# as long: %time for _ in range(10): my_list = my_list * 2"
   ]
  },
  {
   "cell_type": "markdown",
   "metadata": {},
   "source": [
    "For the python list, the wall time is about the total time."
   ]
  },
  {
   "cell_type": "markdown",
   "metadata": {},
   "source": [
    "### 4.1 The NumPy `ndarray`\n",
    "- container type: multidimensional and for homogeneous data types\n",
    "- perform mathematical operations on whole blocks of data"
   ]
  },
  {
   "cell_type": "code",
   "execution_count": 6,
   "metadata": {},
   "outputs": [
    {
     "data": {
      "text/plain": [
       "array([[ 1.56360656, -1.89709327,  0.66943621],\n",
       "       [ 1.13491486,  0.09507661,  0.59080532]])"
      ]
     },
     "execution_count": 6,
     "metadata": {},
     "output_type": "execute_result"
    }
   ],
   "source": [
    "data = np.random.randn(2,3)\n",
    "data"
   ]
  },
  {
   "cell_type": "code",
   "execution_count": 7,
   "metadata": {},
   "outputs": [
    {
     "data": {
      "text/plain": [
       "array([[ 15.6360656 , -18.9709327 ,   6.69436212],\n",
       "       [ 11.34914856,   0.95076609,   5.90805325]])"
      ]
     },
     "execution_count": 7,
     "metadata": {},
     "output_type": "execute_result"
    }
   ],
   "source": [
    "data * 10"
   ]
  },
  {
   "cell_type": "code",
   "execution_count": 8,
   "metadata": {},
   "outputs": [
    {
     "data": {
      "text/plain": [
       "array([[ 3.12721312, -3.79418654,  1.33887242],\n",
       "       [ 2.26982971,  0.19015322,  1.18161065]])"
      ]
     },
     "execution_count": 8,
     "metadata": {},
     "output_type": "execute_result"
    }
   ],
   "source": [
    "data + data"
   ]
  },
  {
   "cell_type": "code",
   "execution_count": 9,
   "metadata": {},
   "outputs": [
    {
     "data": {
      "text/plain": [
       "dtype('float64')"
      ]
     },
     "execution_count": 9,
     "metadata": {},
     "output_type": "execute_result"
    }
   ],
   "source": [
    "data.dtype # type of data within the array"
   ]
  },
  {
   "cell_type": "code",
   "execution_count": 10,
   "metadata": {},
   "outputs": [
    {
     "data": {
      "text/plain": [
       "array([1, 2, 3])"
      ]
     },
     "execution_count": 10,
     "metadata": {},
     "output_type": "execute_result"
    }
   ],
   "source": [
    "list_of_data = [1,2,3]\n",
    "\n",
    "np.array(list_of_data) # np.array accepts any sequence type or nested sequence types of equal length each\n",
    "# note the __str__ or __repr__ (not sure which) is showing \"array\", not \"np.array\""
   ]
  },
  {
   "cell_type": "code",
   "execution_count": 11,
   "metadata": {},
   "outputs": [
    {
     "data": {
      "text/plain": [
       "numpy.ndarray"
      ]
     },
     "execution_count": 11,
     "metadata": {},
     "output_type": "execute_result"
    }
   ],
   "source": [
    "type(np.array(list_of_data))"
   ]
  },
  {
   "cell_type": "markdown",
   "metadata": {},
   "source": [
    "np.array() copies the incomming data by default </br>\n",
    "np.asarray() does not copy if the incomming data already is an array"
   ]
  },
  {
   "cell_type": "code",
   "execution_count": 12,
   "metadata": {},
   "outputs": [
    {
     "data": {
      "text/plain": [
       "dtype('float32')"
      ]
     },
     "execution_count": 12,
     "metadata": {},
     "output_type": "execute_result"
    }
   ],
   "source": [
    "arr = np.array([1,2,3], dtype=np.float32)\n",
    "arr.dtype"
   ]
  },
  {
   "cell_type": "markdown",
   "metadata": {},
   "source": [
    "numpy detects dtype automatically from out the memory of the data (magic), but we can also pass it. </br>\n",
    "</br>\n",
    "Changing the dtype of an array so called casting:"
   ]
  },
  {
   "cell_type": "code",
   "execution_count": 13,
   "metadata": {},
   "outputs": [
    {
     "data": {
      "text/plain": [
       "dtype('int8')"
      ]
     },
     "execution_count": 13,
     "metadata": {},
     "output_type": "execute_result"
    }
   ],
   "source": [
    "int_arr = arr.astype(\"int8\")\n",
    "int_arr.dtype"
   ]
  },
  {
   "cell_type": "markdown",
   "metadata": {},
   "source": [
    "##### Vectorization\n",
    "- any operation between equal-sized arrays is applies element-wise\n",
    "- operations with scalars propagate the operation to each element in the array\n",
    "- comparisons between arrays of the same size yield boolean arrays\n",
    "- operations between differently sized arrays can broadcast under certain condition\n",
    "    - same shape in one dimension, I believe\n",
    "\n",
    "##### Slicing\n",
    "- 1-D arrays behave almost like python lists\n",
    "- but other than list, np array slices are `views` on the original array\n",
    "    - this means the data is NOT copied and any modification on a view will be reflected on the source array\n",
    "- for more-dimensional array, the elements at each index are not scalars, but arrays themselves:"
   ]
  },
  {
   "cell_type": "code",
   "execution_count": 14,
   "metadata": {},
   "outputs": [
    {
     "data": {
      "text/plain": [
       "array([[[ 1,  2,  3],\n",
       "        [ 4,  5,  6]],\n",
       "\n",
       "       [[ 7,  8,  9],\n",
       "        [10, 11, 12]]])"
      ]
     },
     "execution_count": 14,
     "metadata": {},
     "output_type": "execute_result"
    }
   ],
   "source": [
    "arr3d = np.array([[[1,2,3], [4,5,6]], [[7,8,9], [10,11,12]]])\n",
    "arr3d"
   ]
  },
  {
   "cell_type": "code",
   "execution_count": 15,
   "metadata": {},
   "outputs": [
    {
     "data": {
      "text/plain": [
       "array([[1, 2, 3],\n",
       "       [4, 5, 6]])"
      ]
     },
     "execution_count": 15,
     "metadata": {},
     "output_type": "execute_result"
    }
   ],
   "source": [
    "arr3d[0]"
   ]
  },
  {
   "cell_type": "code",
   "execution_count": 16,
   "metadata": {},
   "outputs": [
    {
     "data": {
      "text/plain": [
       "array([[[42, 42, 42],\n",
       "        [42, 42, 42]],\n",
       "\n",
       "       [[ 7,  8,  9],\n",
       "        [10, 11, 12]]])"
      ]
     },
     "execution_count": 16,
     "metadata": {},
     "output_type": "execute_result"
    }
   ],
   "source": [
    "old_values = arr3d[0].copy()\n",
    "arr3d[0] = 42\n",
    "arr3d"
   ]
  },
  {
   "cell_type": "code",
   "execution_count": 17,
   "metadata": {},
   "outputs": [
    {
     "data": {
      "text/plain": [
       "array([[[ 1,  2,  3],\n",
       "        [ 4,  5,  6]],\n",
       "\n",
       "       [[ 7,  8,  9],\n",
       "        [10, 11, 12]]])"
      ]
     },
     "execution_count": 17,
     "metadata": {},
     "output_type": "execute_result"
    }
   ],
   "source": [
    "arr3d[0] = old_values\n",
    "arr3d"
   ]
  },
  {
   "cell_type": "code",
   "execution_count": 18,
   "metadata": {},
   "outputs": [
    {
     "data": {
      "text/plain": [
       "array([7, 8, 9])"
      ]
     },
     "execution_count": 18,
     "metadata": {},
     "output_type": "execute_result"
    }
   ],
   "source": [
    "arr3d[1,0]"
   ]
  },
  {
   "cell_type": "code",
   "execution_count": 19,
   "metadata": {},
   "outputs": [
    {
     "data": {
      "text/plain": [
       "array([7, 8, 9])"
      ]
     },
     "execution_count": 19,
     "metadata": {},
     "output_type": "execute_result"
    }
   ],
   "source": [
    "# is the same as:\n",
    "index = arr3d[1]\n",
    "index[0]"
   ]
  },
  {
   "cell_type": "code",
   "execution_count": 20,
   "metadata": {},
   "outputs": [
    {
     "data": {
      "text/plain": [
       "array([[1, 2, 3],\n",
       "       [4, 5, 6],\n",
       "       [7, 8, 9]])"
      ]
     },
     "execution_count": 20,
     "metadata": {},
     "output_type": "execute_result"
    }
   ],
   "source": [
    "arr2d = np.array([[1,2,3], [4,5,6], [7,8,9]])\n",
    "arr2d"
   ]
  },
  {
   "cell_type": "code",
   "execution_count": 21,
   "metadata": {},
   "outputs": [
    {
     "data": {
      "text/plain": [
       "array([[1, 2, 3],\n",
       "       [4, 5, 6]])"
      ]
     },
     "execution_count": 21,
     "metadata": {},
     "output_type": "execute_result"
    }
   ],
   "source": [
    "# this slices along axis 0\n",
    "arr2d[:2] # read: select the first two rows of arr2d"
   ]
  },
  {
   "cell_type": "code",
   "execution_count": 22,
   "metadata": {},
   "outputs": [
    {
     "data": {
      "text/plain": [
       "array([[2, 3],\n",
       "       [5, 6]])"
      ]
     },
     "execution_count": 22,
     "metadata": {},
     "output_type": "execute_result"
    }
   ],
   "source": [
    "# passing multiple slices (one for each dimension):\n",
    "arr2d[:2, 1:] # read: select the first two rows and then from this, select every column after the first column"
   ]
  },
  {
   "cell_type": "code",
   "execution_count": 23,
   "metadata": {},
   "outputs": [
    {
     "data": {
      "text/plain": [
       "array([[1, 0, 0],\n",
       "       [4, 0, 0],\n",
       "       [7, 8, 9]])"
      ]
     },
     "execution_count": 23,
     "metadata": {},
     "output_type": "execute_result"
    }
   ],
   "source": [
    "# assigning to a slice selection assigns to the whole selection (because slices are views):\n",
    "arr2d[:2, 1:] = 0\n",
    "arr2d"
   ]
  },
  {
   "cell_type": "markdown",
   "metadata": {},
   "source": [
    "##### Boolean indexing\n",
    "- caution: it doesn't fail if the lengthes don't match (really not? I can hardly believe this)"
   ]
  },
  {
   "cell_type": "code",
   "execution_count": 24,
   "metadata": {},
   "outputs": [
    {
     "data": {
      "text/plain": [
       "array([[1, 0, 0],\n",
       "       [7, 8, 9]])"
      ]
     },
     "execution_count": 24,
     "metadata": {},
     "output_type": "execute_result"
    }
   ],
   "source": [
    "names = np.array([\"bob\", \"sandy\", \"bob\"])\n",
    "\n",
    "arr2d[names == \"bob\"]"
   ]
  },
  {
   "cell_type": "code",
   "execution_count": 25,
   "metadata": {},
   "outputs": [
    {
     "data": {
      "text/plain": [
       "array([[0, 0],\n",
       "       [8, 9]])"
      ]
     },
     "execution_count": 25,
     "metadata": {},
     "output_type": "execute_result"
    }
   ],
   "source": [
    "arr2d[names == \"bob\", 1:] # mix of boolean indexing and slicing"
   ]
  },
  {
   "cell_type": "markdown",
   "metadata": {},
   "source": [
    "- trying if the statement from above about not raising on different shapes is true:"
   ]
  },
  {
   "cell_type": "code",
   "execution_count": 26,
   "metadata": {},
   "outputs": [
    {
     "data": {
      "text/plain": [
       "array([[  1,   0,   0],\n",
       "       [  4,   0,   0],\n",
       "       [  7,   8,   9],\n",
       "       [ 98,  99, 100]])"
      ]
     },
     "execution_count": 26,
     "metadata": {},
     "output_type": "execute_result"
    }
   ],
   "source": [
    "arr2d_expanded = np.vstack([arr2d, np.array([98, 99, 100])])   \n",
    "arr2d_expanded"
   ]
  },
  {
   "cell_type": "code",
   "execution_count": 27,
   "metadata": {},
   "outputs": [
    {
     "ename": "IndexError",
     "evalue": "boolean index did not match indexed array along axis 0; size of axis is 4 but size of corresponding boolean axis is 3",
     "output_type": "error",
     "traceback": [
      "\u001b[0;31m---------------------------------------------------------------------------\u001b[0m",
      "\u001b[0;31mIndexError\u001b[0m                                Traceback (most recent call last)",
      "Cell \u001b[0;32mIn[27], line 1\u001b[0m\n\u001b[0;32m----> 1\u001b[0m \u001b[43marr2d_expanded\u001b[49m\u001b[43m[\u001b[49m\u001b[43mnames\u001b[49m\u001b[43m \u001b[49m\u001b[38;5;241;43m==\u001b[39;49m\u001b[43m \u001b[49m\u001b[38;5;124;43m\"\u001b[39;49m\u001b[38;5;124;43mbob\u001b[39;49m\u001b[38;5;124;43m\"\u001b[39;49m\u001b[43m]\u001b[49m \u001b[38;5;66;03m# so it does raise ...\u001b[39;00m\n",
      "\u001b[0;31mIndexError\u001b[0m: boolean index did not match indexed array along axis 0; size of axis is 4 but size of corresponding boolean axis is 3"
     ]
    }
   ],
   "source": [
    "arr2d_expanded[names == \"bob\"] # so it does raise ..."
   ]
  },
  {
   "cell_type": "markdown",
   "metadata": {},
   "source": [
    "##### Fancy indexing\n",
    "- indexing using integer arrays"
   ]
  },
  {
   "cell_type": "code",
   "execution_count": 28,
   "metadata": {},
   "outputs": [
    {
     "data": {
      "text/plain": [
       "array([[5.41617385e-310, 0.00000000e+000, 6.36306148e-310,\n",
       "        6.36305145e-310],\n",
       "       [6.36305695e-310, 6.36305145e-310, 6.36306342e-310,\n",
       "        6.36305145e-310],\n",
       "       [6.36306268e-310, 6.36305695e-310, 6.36305145e-310,\n",
       "        6.36305903e-310],\n",
       "       [6.36305695e-310, 6.36305695e-310, 6.36306263e-310,\n",
       "        6.36305695e-310],\n",
       "       [6.36305145e-310, 5.41656433e-310, 6.36306343e-310,\n",
       "        6.36306271e-310],\n",
       "       [6.36306342e-310, 6.36306343e-310, 6.36306343e-310,\n",
       "        6.36306277e-310],\n",
       "       [6.36306343e-310, 6.36305695e-310, 6.36306343e-310,\n",
       "        6.36306341e-310],\n",
       "       [6.36306339e-310, 6.36306340e-310, 6.36305695e-310,\n",
       "        6.36305145e-310]])"
      ]
     },
     "execution_count": 28,
     "metadata": {},
     "output_type": "execute_result"
    }
   ],
   "source": [
    "arr = np.empty((8,4)) # np.empty() creates an array with some data it happens to have in memory (not reliable)\n",
    "arr"
   ]
  },
  {
   "cell_type": "code",
   "execution_count": null,
   "metadata": {},
   "outputs": [],
   "source": [
    "for i in range(8): # this is part of initing the array; it's not fancy indexing yet\n",
    "    arr[i] = i"
   ]
  },
  {
   "cell_type": "code",
   "execution_count": 30,
   "metadata": {},
   "outputs": [
    {
     "data": {
      "text/plain": [
       "array([[0., 0., 0., 0.],\n",
       "       [1., 1., 1., 1.],\n",
       "       [2., 2., 2., 2.],\n",
       "       [3., 3., 3., 3.],\n",
       "       [4., 4., 4., 4.],\n",
       "       [5., 5., 5., 5.],\n",
       "       [6., 6., 6., 6.],\n",
       "       [7., 7., 7., 7.]])"
      ]
     },
     "execution_count": 30,
     "metadata": {},
     "output_type": "execute_result"
    }
   ],
   "source": [
    "arr"
   ]
  },
  {
   "cell_type": "code",
   "execution_count": null,
   "metadata": {},
   "outputs": [
    {
     "data": {
      "text/plain": [
       "array([[4., 4., 4., 4.],\n",
       "       [3., 3., 3., 3.],\n",
       "       [0., 0., 0., 0.],\n",
       "       [6., 6., 6., 6.]])"
      ]
     },
     "execution_count": 31,
     "metadata": {},
     "output_type": "execute_result"
    }
   ],
   "source": [
    "arr[[4,3,0,6]] # passing a list or ndarray of integers to specify the desired order: this is fancy indexing"
   ]
  },
  {
   "cell_type": "code",
   "execution_count": 32,
   "metadata": {},
   "outputs": [
    {
     "data": {
      "text/plain": [
       "array([[ 0,  1,  2,  3],\n",
       "       [ 4,  5,  6,  7],\n",
       "       [ 8,  9, 10, 11],\n",
       "       [12, 13, 14, 15],\n",
       "       [16, 17, 18, 19],\n",
       "       [20, 21, 22, 23],\n",
       "       [24, 25, 26, 27],\n",
       "       [28, 29, 30, 31]])"
      ]
     },
     "execution_count": 32,
     "metadata": {},
     "output_type": "execute_result"
    }
   ],
   "source": [
    "# passing a multiple-index array does something different: it selects a one-dimensional array corresponding to each tuple of indexes:\n",
    "arr = np.arange(32).reshape((8,4))\n",
    "arr"
   ]
  },
  {
   "cell_type": "code",
   "execution_count": 33,
   "metadata": {},
   "outputs": [
    {
     "data": {
      "text/plain": [
       "array([ 4, 23, 29, 10])"
      ]
     },
     "execution_count": 33,
     "metadata": {},
     "output_type": "execute_result"
    }
   ],
   "source": [
    "arr[[1,5,7,2],[0,3,1,2]] # this is the fancy indexing"
   ]
  },
  {
   "cell_type": "markdown",
   "metadata": {},
   "source": [
    "Fancy indexing is a way to select multiple elements (other than just indexing) at the same time, that are not contiguous (other than slicing).\n",
    "\n",
    "- it can be used to select or set specific elements (multi dimensional)\n",
    "- it can be used to re-order the data in an array (not in place; for inplace ordering we would use `np.argsort()`)\n",
    "- boolean indexing is a type of fancy indexing\n",
    "\n",
    "##### Transposing arrays and swapping axes\n",
    "- transposing is a special way of reshaping and returns a view without creating a copy\n",
    "- ndarrays have a `transpose()` method and a `.T` attribute\n",
    "    - we use this for calculating inner products ($x^Tx$), for instance\n",
    "\n",
    "### 4.2 Universal Functions: Fast element-wise array functions\n",
    "- a `ufunc` is a vectorizing wrapper around a normal function, returning element-wise transformations\n",
    "- examples: `np.sqrt()`, `np.exp()`, `np.add()`, `np.maximum()`\n",
    "- the can take one or two arrays as input and mostly return one array (sometimes also multiple arrays, although not common; example: `np.modf()`)\n",
    "\n",
    "### 4.3 Array-oriented programming\n",
    "##### Conditional logic\n",
    "- `np.where()` is a vectorized version of the ternary expression `x if condition else y`"
   ]
  },
  {
   "cell_type": "code",
   "execution_count": 37,
   "metadata": {},
   "outputs": [
    {
     "name": "stdout",
     "output_type": "stream",
     "text": [
      "20\n",
      "<class 'int'>\n"
     ]
    }
   ],
   "source": [
    "# trying a ternary expression\n",
    "x = 10\n",
    "y = 20\n",
    "result = x if x > y else y  # Picks the larger value\n",
    "print(result)\n",
    "print(type(result))\n"
   ]
  },
  {
   "cell_type": "code",
   "execution_count": 38,
   "metadata": {},
   "outputs": [
    {
     "data": {
      "text/plain": [
       "array([1.1, 2.2, 1.3, 1.4])"
      ]
     },
     "execution_count": 38,
     "metadata": {},
     "output_type": "execute_result"
    }
   ],
   "source": [
    "# trying np.where()\n",
    "xarr = np.array([1.1, 1.2, 1.3, 1.4])\n",
    "yarr = np.array([2.1, 2.2, 2.3, 2.4])\n",
    "cond = np.array([True, False, True, True])\n",
    "\n",
    "# we want to take a value from `xarr`, where the condition from `cond` is True, and from `yarr` otherwise\n",
    "\n",
    "result = np.where(cond, xarr, yarr)\n",
    "result"
   ]
  },
  {
   "cell_type": "code",
   "execution_count": 39,
   "metadata": {},
   "outputs": [
    {
     "data": {
      "text/plain": [
       "array([[ 0.12110708, -1.        ,  1.96610356, -1.        ],\n",
       "       [ 0.1118205 ,  1.02967095, -1.        , -1.        ],\n",
       "       [ 1.40108331, -1.        , -1.        ,  0.61962777],\n",
       "       [ 1.33009324, -1.        ,  0.64076656,  2.05993252]])"
      ]
     },
     "execution_count": 39,
     "metadata": {},
     "output_type": "execute_result"
    }
   ],
   "source": [
    "# other example\n",
    "arr = np.random.randn(4, 4)\n",
    "\n",
    "arr = np.where(arr<0, -1, arr)\n",
    "arr"
   ]
  },
  {
   "cell_type": "markdown",
   "metadata": {},
   "source": [
    "##### Mathematical and statistical methods"
   ]
  },
  {
   "cell_type": "code",
   "execution_count": 53,
   "metadata": {},
   "outputs": [
    {
     "data": {
      "text/plain": [
       "array([[ 1.2980223 , -0.31134484,  1.13939312,  1.230545  ],\n",
       "       [-1.07852185,  0.20719577,  0.66337511,  0.34010541],\n",
       "       [ 0.02902769, -1.52797291,  0.15086521, -1.26519605],\n",
       "       [ 0.57630202,  1.52964349, -0.88973635, -0.23148914],\n",
       "       [ 0.99065693, -0.12356336, -0.69366481, -0.14388266]])"
      ]
     },
     "execution_count": 53,
     "metadata": {},
     "output_type": "execute_result"
    }
   ],
   "source": [
    "arr = np.random.randn(5, 4) # generate normally distributed data\n",
    "arr"
   ]
  },
  {
   "cell_type": "code",
   "execution_count": null,
   "metadata": {},
   "outputs": [
    {
     "name": "stdout",
     "output_type": "stream",
     "text": [
      "0.0944880032241776\n",
      "1.889760064483552\n",
      "[ 3.35661557  0.13215443 -2.61327605  0.98472002  0.02954609]\n"
     ]
    }
   ],
   "source": [
    "print(arr.mean()) # or np.mean(arr)\n",
    "print(arr.sum())\n",
    "\n",
    "# these take an optional axis param to compute the statistic over a certain axis:\n",
    "print(arr.sum(axis=1)) # or arr.mean(1)"
   ]
  },
  {
   "cell_type": "code",
   "execution_count": 56,
   "metadata": {},
   "outputs": [
    {
     "name": "stdout",
     "output_type": "stream",
     "text": [
      "[1 3 6]\n",
      "[1 2 6]\n"
     ]
    }
   ],
   "source": [
    "# these do not aggregate, but produce an array of the intermediate results:\n",
    "arr = np.array([1,2,3])\n",
    "\n",
    "print(arr.cumsum())\n",
    "print(arr.cumprod())"
   ]
  },
  {
   "cell_type": "code",
   "execution_count": null,
   "metadata": {},
   "outputs": [
    {
     "name": "stdout",
     "output_type": "stream",
     "text": [
      "[[1 2 3]\n",
      " [4 5 6]]\n",
      "\n",
      "[ 1  3  6 10 15 21]\n",
      "[[1 2 3]\n",
      " [5 7 9]]\n",
      "\n",
      "[  1   2   6  24 120 720]\n",
      "[[ 1  2  3]\n",
      " [ 4 10 18]]\n"
     ]
    }
   ],
   "source": [
    "# for multidimensional arrays:\n",
    "arr = np.array([[1,2,3], [4,5,6]])\n",
    "print(arr)\n",
    "\n",
    "print('')\n",
    "\n",
    "print(arr.cumsum()) # add everything\n",
    "print(arr.cumsum(axis=0)) # add row-wise\n",
    "\n",
    "print('')\n",
    "\n",
    "print(arr.cumprod())\n",
    "print(arr.cumprod(axis=0))"
   ]
  },
  {
   "cell_type": "markdown",
   "metadata": {},
   "source": [
    "##### Methods for boolean arrays\n",
    "- `.any()` and `.all()` are specifically useful for boolean arrays; `.sum()` is also often used\n",
    "- on non-boolean arrays the first two evaluate to True for non-zero values\n",
    "\n",
    "##### Sorting"
   ]
  },
  {
   "cell_type": "code",
   "execution_count": null,
   "metadata": {},
   "outputs": [],
   "source": [
    "arr = np.random.randn(2,2).sort() # sorts in place\n",
    "arr # which means: sort() returns nothing, only None"
   ]
  },
  {
   "cell_type": "code",
   "execution_count": null,
   "metadata": {},
   "outputs": [
    {
     "data": {
      "text/plain": [
       "NoneType"
      ]
     },
     "execution_count": 79,
     "metadata": {},
     "output_type": "execute_result"
    }
   ],
   "source": [
    "type(arr) # this is why this is a Nonetype"
   ]
  },
  {
   "cell_type": "code",
   "execution_count": null,
   "metadata": {},
   "outputs": [
    {
     "data": {
      "text/plain": [
       "array([[-1.26586607,  1.3622619 ],\n",
       "       [-0.88691094, -0.85749665]])"
      ]
     },
     "execution_count": 85,
     "metadata": {},
     "output_type": "execute_result"
    }
   ],
   "source": [
    "# this is how it works\n",
    "arr = np.random.randn(2,2)\n",
    "arr.sort()\n",
    "arr"
   ]
  },
  {
   "cell_type": "code",
   "execution_count": 86,
   "metadata": {},
   "outputs": [
    {
     "data": {
      "text/plain": [
       "np.float64(-1.6057149256592729)"
      ]
     },
     "execution_count": 86,
     "metadata": {},
     "output_type": "execute_result"
    }
   ],
   "source": [
    "# quick and dirty way to find percentiles:\n",
    "large_arr = np.random.randn(1000)\n",
    "large_arr.sort()\n",
    "large_arr[int(0.05 * len(large_arr))] # percentile at rank 5"
   ]
  },
  {
   "cell_type": "markdown",
   "metadata": {},
   "source": [
    "##### Unique and other set logic"
   ]
  },
  {
   "cell_type": "code",
   "execution_count": 87,
   "metadata": {},
   "outputs": [
    {
     "name": "stderr",
     "output_type": "stream",
     "text": [
      "/tmp/ipykernel_267914/2216186553.py:3: DeprecationWarning: `in1d` is deprecated. Use `np.isin` instead.\n",
      "  np.in1d(values, [2,3])\n"
     ]
    },
    {
     "data": {
      "text/plain": [
       "array([False,  True,  True, False,  True, False])"
      ]
     },
     "execution_count": 87,
     "metadata": {},
     "output_type": "execute_result"
    }
   ],
   "source": [
    "# test membership of the values in one array in another:\n",
    "values = np.array([0,3,2,1,2,4])\n",
    "np.in1d(values, [2,3])"
   ]
  },
  {
   "cell_type": "markdown",
   "metadata": {},
   "source": [
    "### 4.3 File Input and Output with Arrays\n",
    "- numpy can save and load data to disk in text or in binary format using `np.save()` and `np.load()`\n",
    "- they will be stored as npy files:"
   ]
  },
  {
   "cell_type": "code",
   "execution_count": null,
   "metadata": {},
   "outputs": [],
   "source": [
    "arr = np.arange(10)\n",
    "np.save('some_array', arr) # saves arrays as `some_array.npy`"
   ]
  },
  {
   "cell_type": "code",
   "execution_count": 90,
   "metadata": {},
   "outputs": [
    {
     "data": {
      "text/plain": [
       "array([0, 1, 2, 3, 4, 5, 6, 7, 8, 9])"
      ]
     },
     "execution_count": 90,
     "metadata": {},
     "output_type": "execute_result"
    }
   ],
   "source": [
    "arr_loaded = np.load('some_array.npy')\n",
    "arr_loaded"
   ]
  },
  {
   "cell_type": "code",
   "execution_count": 91,
   "metadata": {},
   "outputs": [],
   "source": [
    "# for multiple arrays\n",
    "np.savez('array_archive.npz', a=arr, b=arr) # a and b being the names of (usually) different arrays"
   ]
  },
  {
   "cell_type": "code",
   "execution_count": 92,
   "metadata": {},
   "outputs": [
    {
     "data": {
      "text/plain": [
       "array([0, 1, 2, 3, 4, 5, 6, 7, 8, 9])"
      ]
     },
     "execution_count": 92,
     "metadata": {},
     "output_type": "execute_result"
    }
   ],
   "source": [
    "arch = np.load('array_archive.npz') # will return a dict with the names of the arrays as keys\n",
    "arch['b']"
   ]
  },
  {
   "cell_type": "markdown",
   "metadata": {},
   "source": [
    "- all the above methods save the data uncompressed\n",
    "- if the data compresses well, we can also use `np.savez_compressed()`\n",
    "\n",
    "### 4.5 Linear Algebra\n",
    "- `np.dot()` for matrix multiplication\n",
    "- the `@` symbol (introduced in Python 3.5) is an infix operator also doing matrix multiplication"
   ]
  },
  {
   "cell_type": "code",
   "execution_count": 101,
   "metadata": {},
   "outputs": [
    {
     "data": {
      "text/plain": [
       "array([[  0.68863277,   2.32533218,  -1.20754068,   1.97367978,\n",
       "         -1.89007534],\n",
       "       [  2.32533218,  19.71960478, -10.63496604,  16.14356698,\n",
       "        -16.49136878],\n",
       "       [ -1.20754068, -10.63496604,   5.92782184,  -8.74737409,\n",
       "          9.06393264],\n",
       "       [  1.97367978,  16.14356698,  -8.74737409,  13.40734895,\n",
       "        -13.56452877],\n",
       "       [ -1.89007534, -16.49136878,   9.06393264, -13.56452877,\n",
       "         14.18291675]])"
      ]
     },
     "execution_count": 101,
     "metadata": {},
     "output_type": "execute_result"
    }
   ],
   "source": [
    "from numpy.linalg import inv, qr\n",
    "\n",
    "X = np.random.randn(5,5)\n",
    "\n",
    "mat = X.T.dot(X)\n",
    "inv(mat)\n"
   ]
  },
  {
   "cell_type": "code",
   "execution_count": null,
   "metadata": {},
   "outputs": [
    {
     "data": {
      "text/plain": [
       "array([[ 1.00000000e+00,  5.89976977e-16, -7.00569346e-16,\n",
       "        -2.23960879e-15, -1.23199659e-15],\n",
       "       [ 7.11534201e-17,  1.00000000e+00, -1.37409970e-15,\n",
       "         1.35910277e-15,  1.11921110e-15],\n",
       "       [ 1.19080155e-15, -7.35171767e-15,  1.00000000e+00,\n",
       "        -6.71488870e-15,  9.86315869e-15],\n",
       "       [ 1.38359770e-15, -1.79708104e-15, -5.73206221e-16,\n",
       "         1.00000000e+00, -1.05919482e-14],\n",
       "       [ 5.98515432e-16,  5.98899018e-15, -4.34049322e-15,\n",
       "         6.21085003e-15,  1.00000000e+00]])"
      ]
     },
     "execution_count": 102,
     "metadata": {},
     "output_type": "execute_result"
    }
   ],
   "source": [
    "mat.dot(inv(mat)) # almost eye matrix (rounding errors obviously, other than in the book)"
   ]
  },
  {
   "cell_type": "code",
   "execution_count": null,
   "metadata": {},
   "outputs": [
    {
     "data": {
      "text/plain": [
       "array([[-0.49470092,  0.0276895 ,  0.04151266,  0.07548343,  0.86433977],\n",
       "       [-0.25767361, -0.66784315,  0.02841727,  0.672401  , -0.18616978],\n",
       "       [ 0.17588013,  0.15794074, -0.9188557 ,  0.29466703,  0.11400197],\n",
       "       [-0.53229441, -0.36975612, -0.39023576, -0.6157343 , -0.22029614],\n",
       "       [ 0.61204914, -0.62574272, -0.02982297, -0.27608288,  0.39589233]])"
      ]
     },
     "execution_count": 99,
     "metadata": {},
     "output_type": "execute_result"
    }
   ],
   "source": [
    "q, r = qr(mat) # qr factorization of a matrix\n",
    "q"
   ]
  },
  {
   "cell_type": "code",
   "execution_count": 100,
   "metadata": {},
   "outputs": [
    {
     "data": {
      "text/plain": [
       "array([[ -8.67547834,  -4.7668058 ,   2.9413361 , -10.13989014,\n",
       "         10.56799639],\n",
       "       [  0.        ,  -4.43133203,   1.06571303,  -4.70637323,\n",
       "         -5.37570551],\n",
       "       [  0.        ,   0.        ,  -2.41544778,  -2.36445853,\n",
       "         -0.6376045 ],\n",
       "       [  0.        ,   0.        ,   0.        ,  -2.24992763,\n",
       "         -1.41350362],\n",
       "       [  0.        ,   0.        ,   0.        ,   0.        ,\n",
       "          0.23161474]])"
      ]
     },
     "execution_count": 100,
     "metadata": {},
     "output_type": "execute_result"
    }
   ],
   "source": [
    "r"
   ]
  },
  {
   "cell_type": "markdown",
   "metadata": {},
   "source": [
    "### 4.6 Pseudorandom Number Generation\n",
    "- numpy's random module supplements the python random module with efficient functions to create random number arrays from different probability distributions\n",
    "- pseudorandom, because these are deterministic algorithms based on a random seed"
   ]
  },
  {
   "cell_type": "code",
   "execution_count": null,
   "metadata": {},
   "outputs": [
    {
     "data": {
      "text/plain": [
       "array([[-0.59839524, -0.05451426, -0.39527943, -2.10952311],\n",
       "       [-1.27982573, -1.85372548,  1.42104452,  0.48263228],\n",
       "       [-1.63395085,  0.11694552, -1.62034731,  0.40186316],\n",
       "       [ 0.26425778,  0.0514621 ,  1.13957537,  0.0518309 ]])"
      ]
     },
     "execution_count": 103,
     "metadata": {},
     "output_type": "execute_result"
    }
   ],
   "source": [
    "# example: standard normal distribution\n",
    "np.random.normal(size=[4,4])"
   ]
  },
  {
   "cell_type": "code",
   "execution_count": null,
   "metadata": {},
   "outputs": [],
   "source": [
    "# change random seed\n",
    "np.random.seed(1234)"
   ]
  },
  {
   "cell_type": "markdown",
   "metadata": {},
   "source": [
    "- the random number generation depends on a random seed itself, which is called the 'global random seed'\n",
    "- we can circumvent this global random seed by creating an isolated random number generator:"
   ]
  },
  {
   "cell_type": "code",
   "execution_count": 104,
   "metadata": {},
   "outputs": [
    {
     "data": {
      "text/plain": [
       "array([ 0.49671415, -0.1382643 ,  0.64768854,  1.52302986, -0.23415337,\n",
       "       -0.23413696,  1.57921282,  0.76743473, -0.46947439,  0.54256004])"
      ]
     },
     "execution_count": 104,
     "metadata": {},
     "output_type": "execute_result"
    }
   ],
   "source": [
    "# random number generator\n",
    "rng = np.random.RandomState(42)\n",
    "rng.randn(10)"
   ]
  },
  {
   "cell_type": "markdown",
   "metadata": {},
   "source": [
    "## Appendix A: Advanced NumPy"
   ]
  },
  {
   "cell_type": "code",
   "execution_count": null,
   "metadata": {},
   "outputs": [],
   "source": []
  }
 ],
 "metadata": {
  "kernelspec": {
   "display_name": "datascience_middle_course",
   "language": "python",
   "name": "python3"
  },
  "language_info": {
   "codemirror_mode": {
    "name": "ipython",
    "version": 3
   },
   "file_extension": ".py",
   "mimetype": "text/x-python",
   "name": "python",
   "nbconvert_exporter": "python",
   "pygments_lexer": "ipython3",
   "version": "3.12.2"
  }
 },
 "nbformat": 4,
 "nbformat_minor": 2
}
