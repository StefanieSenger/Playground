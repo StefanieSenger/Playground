{
 "cells": [
  {
   "cell_type": "markdown",
   "id": "3e5a075f",
   "metadata": {},
   "source": [
    "## NumPy fundamentals\n",
    "\n",
    "Here, I work through some parts of the numpy docs and make sense of it by trying code and asking LLMs for more detailed reasons for why things are as they are. Covered docs: <br>\n",
    "     - [Indexing on ndarrays](https://numpy.org/doc/stable/user/basics.indexing.html) <br>"
   ]
  },
  {
   "cell_type": "markdown",
   "id": "0caf5a9d",
   "metadata": {},
   "source": [
    "#### Shape, size and dimension\n",
    "- dimensions (`ndim` attribute) is the number of axes (levels of indexing) in the array.\n",
    "- the shape (`shape` attribute) is a tuple representing the size in each dimension\n",
    "- the size (`size` attribute) is the number of elements in an array / part of the array\n"
   ]
  },
  {
   "cell_type": "code",
   "execution_count": null,
   "id": "2204f842",
   "metadata": {},
   "outputs": [
    {
     "data": {
      "text/plain": [
       "6"
      ]
     },
     "execution_count": 57,
     "metadata": {},
     "output_type": "execute_result"
    }
   ],
   "source": [
    "import numpy as np\n",
    "a = np.array([[1, 2, 3], [4, 5, 6]])\n",
    "a\n",
    "# array([[1, 2, 3],\n",
    "#        [4, 5, 6]])\n",
    "\n",
    "a.ndim # 2\n",
    "a.shape # (2, 3)\n",
    "a.size # 6"
   ]
  },
  {
   "cell_type": "markdown",
   "id": "70e42977",
   "metadata": {},
   "source": [
    "### Indexing on `ndarrays`\n",
    "- the three kinds of indexing are basic indexing, advanced indexing and field access\n",
    "\n",
    "#### Basic indexing"
   ]
  },
  {
   "cell_type": "code",
   "execution_count": 52,
   "id": "099b0948",
   "metadata": {},
   "outputs": [
    {
     "data": {
      "text/plain": [
       "array([[0, 1, 2, 3, 4],\n",
       "       [5, 6, 7, 8, 9]])"
      ]
     },
     "execution_count": 52,
     "metadata": {},
     "output_type": "execute_result"
    }
   ],
   "source": [
    "x = np.arange(10)\n",
    "x # array([0, 1, 2, 3, 4, 5, 6, 7, 8, 9])\n",
    "\n",
    "x.shape = (2, 5)  # now x is 2-dimensional\n",
    "x"
   ]
  },
  {
   "cell_type": "code",
   "execution_count": null,
   "id": "b7bc295b",
   "metadata": {},
   "outputs": [
    {
     "data": {
      "text/plain": [
       "np.True_"
      ]
     },
     "execution_count": 4,
     "metadata": {},
     "output_type": "execute_result"
    }
   ],
   "source": [
    "# these are the same:\n",
    "\n",
    "x[0][-1] == x[0,-1]\n",
    "\n",
    "# x[0,-1] is however more efficient, because the extraction happens in the same\n",
    "# operation"
   ]
  },
  {
   "cell_type": "code",
   "execution_count": 45,
   "id": "12d6bde0",
   "metadata": {},
   "outputs": [
    {
     "data": {
      "text/plain": [
       "(5,)"
      ]
     },
     "execution_count": 45,
     "metadata": {},
     "output_type": "execute_result"
    }
   ],
   "source": [
    "# indexing a multidimensional array with fewer indices than dimensions, we get a\n",
    "# subdimensional array\n",
    "\n",
    "# that's a view on the array x\n",
    "x[0] # array([0, 1, 2, 3, 4])\n",
    "\n",
    "x[0].shape\n"
   ]
  },
  {
   "cell_type": "code",
   "execution_count": null,
   "id": "42c3f059",
   "metadata": {},
   "outputs": [
    {
     "data": {
      "text/plain": [
       "array([5, 6, 7, 8, 9])"
      ]
     },
     "execution_count": 9,
     "metadata": {},
     "output_type": "execute_result"
    }
   ],
   "source": [
    "# slicing goes [start:stop:step]\n",
    "\n",
    "x = np.array([0, 1, 2, 3, 4, 5, 6, 7, 8, 9])\n",
    "\n",
    "x[1:7:2] # array([1, 3, 5])\n",
    "x[-2:10] # array([8, 9])\n",
    "x[-3:3:-1] # array([7, 6, 5, 4])\n",
    "x[5:] # array([5, 6, 7, 8, 9])"
   ]
  },
  {
   "cell_type": "code",
   "execution_count": 49,
   "id": "f4344382",
   "metadata": {},
   "outputs": [
    {
     "data": {
      "text/plain": [
       "array([[[4],\n",
       "        [5],\n",
       "        [6]]])"
      ]
     },
     "execution_count": 49,
     "metadata": {},
     "output_type": "execute_result"
    }
   ],
   "source": [
    "# if the number of objects in the selection tuple is less than the number of the\n",
    "# dimensions, then `:` (or `np.newaxis`) is assumed for any subsequent dimensions:\n",
    "\n",
    "x = np.array([[[1],[2],[3]], [[4],[5],[6]]])\n",
    "x.shape # (2, 3, 1)\n",
    "x[1:2] \n",
    "# here we are giving just one index (a slice on axis 0), and not saying anything about\n",
    "# axes 1 and 2, which are filled up with `:` (like it was `x[1:2, :, :]`)"
   ]
  },
  {
   "cell_type": "code",
   "execution_count": null,
   "id": "b04950e8",
   "metadata": {},
   "outputs": [
    {
     "data": {
      "text/plain": [
       "array([[[ True],\n",
       "        [ True],\n",
       "        [ True]]])"
      ]
     },
     "execution_count": 51,
     "metadata": {},
     "output_type": "execute_result"
    }
   ],
   "source": [
    "# equally, consider the ellipsis, that stands for several colons\n",
    "x[1:2, :, :] == x[1:2, ...]"
   ]
  },
  {
   "cell_type": "code",
   "execution_count": null,
   "id": "e0869e22",
   "metadata": {},
   "outputs": [
    {
     "data": {
      "text/plain": [
       "(2, 3, 1)"
      ]
     },
     "execution_count": 23,
     "metadata": {},
     "output_type": "execute_result"
    }
   ],
   "source": [
    "# note on dimensions and axis:\n",
    "\n",
    "x = np.array([[[1],[2],[3]], [[4],[5],[6]]])\n",
    "x \n",
    "#  array([[[1],\n",
    "#         [2],\n",
    "#         [3]],\n",
    "# \n",
    "#        [[4],\n",
    "#         [5],\n",
    "#         [6]]])\n",
    "\n",
    "x.shape # (2, 3, 1)\n",
    "\n",
    "# the axis are read from the outside to the inside:\n",
    "# axis 0 contains 2 lists, thus `x.shape[0]` is 2\n",
    "# axis 1 contains 3 lists, thus `x.shape[1]` is 3\n",
    "# axis 3 contains 1 element, thus `x.shape[2]` is 1\n",
    "\n",
    "# a more visual-friendly way to write this down is:\n",
    "# [\n",
    "#   [[1], [2], [3]],\n",
    "#   [[4], [5], [6]]\n",
    "# ]\n",
    "\n",
    "# another way to think of this is that the outmost axis is the lastest to join the game:\n",
    "\n",
    "# axis 0  (Depth / \"stack\"): the outermost list — 2 blocks → x[0], x[1]\n",
    "# axis 1 (Rows): inside each block, 3 rows → x[0][0], x[0][1], x[0][2]\n",
    "# axis 2 (Columns): each row has 1 column → x[0][0][0] is the number 1"
   ]
  },
  {
   "cell_type": "code",
   "execution_count": null,
   "id": "7ec93010",
   "metadata": {},
   "outputs": [
    {
     "data": {
      "text/plain": [
       "(2, 1, 3, 1)"
      ]
     },
     "execution_count": 25,
     "metadata": {},
     "output_type": "execute_result"
    }
   ],
   "source": [
    "# newaxis and None can be used to add a new axis; the result is a view on x (note:\n",
    "# np.newaxis is actually just an alias for None)\n",
    "\n",
    "x[:, np.newaxis, :, :].shape"
   ]
  },
  {
   "cell_type": "code",
   "execution_count": null,
   "id": "187cb6f2",
   "metadata": {},
   "outputs": [
    {
     "data": {
      "text/plain": [
       "(2, 3, 1)"
      ]
     },
     "execution_count": 27,
     "metadata": {},
     "output_type": "execute_result"
    }
   ],
   "source": [
    "x.shape # x still stays the same then ..."
   ]
  },
  {
   "cell_type": "code",
   "execution_count": null,
   "id": "58b69f13",
   "metadata": {},
   "outputs": [
    {
     "data": {
      "text/plain": [
       "array([[0, 1, 2, 3, 4],\n",
       "       [1, 2, 3, 4, 5],\n",
       "       [2, 3, 4, 5, 6],\n",
       "       [3, 4, 5, 6, 7],\n",
       "       [4, 5, 6, 7, 8]])"
      ]
     },
     "execution_count": 37,
     "metadata": {},
     "output_type": "execute_result"
    }
   ],
   "source": [
    "x = np.arange(5)\n",
    "\n",
    "x # array([0, 1, 2, 3, 4])\n",
    "\n",
    "x[:, np.newaxis] # adds new axis on the inside\n",
    "# array([[0],\n",
    "#        [1],\n",
    "#        [2],\n",
    "#        [3],\n",
    "#        [4]])\n",
    "\n",
    "x[np.newaxis, :]  # adds new axis from the outside\n",
    "# array([[0, 1, 2, 3, 4]])\n",
    "\n",
    "x[:, np.newaxis] + x[np.newaxis, :] # performs broadcasting (adding arrays of shape (5, 1) and (1, 5))"
   ]
  },
  {
   "cell_type": "markdown",
   "id": "a81a77e5",
   "metadata": {},
   "source": [
    "#### Advanced indexing\n",
    "- different indexing mechanism\n",
    "- triggered when the selection object (the thing in the squared brackets) is a non-tuple\n",
    "  sequence object, an ndarray (of data type integer or bool), or a tuple with at least\n",
    "  one sequence object or ndarray (of data type integer or bool)\n",
    "- always returns a copy\n",
    "\n",
    "Warning from the docs: `x[(1, 2, 3),]` (advanced indexing) is fundamentally different than `x[(1, 2, 3)]` (basic indexing)! 🤯"
   ]
  },
  {
   "cell_type": "code",
   "execution_count": 69,
   "id": "bfb659fa",
   "metadata": {},
   "outputs": [
    {
     "data": {
      "text/plain": [
       "array([[[18, 19, 20],\n",
       "        [21, 22, 23],\n",
       "        [24, 25, 26]],\n",
       "\n",
       "       [[18, 19, 20],\n",
       "        [21, 22, 23],\n",
       "        [24, 25, 26]],\n",
       "\n",
       "       [[18, 19, 20],\n",
       "        [21, 22, 23],\n",
       "        [24, 25, 26]]])"
      ]
     },
     "execution_count": 69,
     "metadata": {},
     "output_type": "execute_result"
    }
   ],
   "source": [
    "# let's try this out:\n",
    "x = np.arange(27).reshape(3,3,3)\n",
    "\n",
    "x\n",
    "# array([[[ 0,  1,  2],\n",
    "#         [ 3,  4,  5],\n",
    "#         [ 6,  7,  8]],\n",
    "\n",
    "#        [[ 9, 10, 11],\n",
    "#         [12, 13, 14],\n",
    "#         [15, 16, 17]],\n",
    "\n",
    "#        [[18, 19, 20],\n",
    "#         [21, 22, 23],\n",
    "#         [24, 25, 26]]])\n",
    "\n",
    "# basic indexing\n",
    "x[(2,2,2)]\n",
    "# np.int64(26)\n",
    "\n",
    "# advanced indexing\n",
    "x[(2,2,2),]"
   ]
  },
  {
   "cell_type": "markdown",
   "id": "b1f4e97d",
   "metadata": {},
   "source": [
    "😱 :scream:\n",
    "\n",
    "`x[(2,2,2),]` gets interpreted as repeated access to the element at index 2 at the\n",
    "outmost axis\n",
    "\n",
    "Attempt for an explanation: <br>\n",
    "- `x[(2,2,2)]` basic indexing is a tuple which gets interpreted as one element per\n",
    "  axis, like it was `x[2][2][2]`\n",
    "- `x[(2,2,2),]` is a tuple with one element, and that element is another tuple, which\n",
    "  gets interpreted as an array-like object for advanced indexing: it gets used as a list\n",
    "  of indices along axis 0 (the outmost axis), like it was `x[2], x[2], x[2]` and\n",
    "  returned as a single new array (or put differently, like it was `x[np.array([2,2,2])]`)"
   ]
  },
  {
   "cell_type": "code",
   "execution_count": 71,
   "id": "ffd563f8",
   "metadata": {},
   "outputs": [
    {
     "data": {
      "text/plain": [
       "(array([[18, 19, 20],\n",
       "        [21, 22, 23],\n",
       "        [24, 25, 26]]),\n",
       " array([[18, 19, 20],\n",
       "        [21, 22, 23],\n",
       "        [24, 25, 26]]),\n",
       " array([[18, 19, 20],\n",
       "        [21, 22, 23],\n",
       "        [24, 25, 26]]))"
      ]
     },
     "execution_count": 71,
     "metadata": {},
     "output_type": "execute_result"
    }
   ],
   "source": [
    "# let's try that out\n",
    "\n",
    "x[2], x[2], x[2]\n",
    "\n",
    "#here several arrays are returned, in advanced indexing it is all returnes as a single\n",
    "#array"
   ]
  },
  {
   "cell_type": "code",
   "execution_count": 72,
   "id": "9ad47964",
   "metadata": {},
   "outputs": [
    {
     "data": {
      "text/plain": [
       "array([[[18, 19, 20],\n",
       "        [21, 22, 23],\n",
       "        [24, 25, 26]],\n",
       "\n",
       "       [[18, 19, 20],\n",
       "        [21, 22, 23],\n",
       "        [24, 25, 26]],\n",
       "\n",
       "       [[18, 19, 20],\n",
       "        [21, 22, 23],\n",
       "        [24, 25, 26]]])"
      ]
     },
     "execution_count": 72,
     "metadata": {},
     "output_type": "execute_result"
    }
   ],
   "source": [
    "# let's try that out\n",
    "\n",
    "x[np.array([2,2,2])]"
   ]
  },
  {
   "cell_type": "code",
   "execution_count": null,
   "id": "0ba0dc9e",
   "metadata": {},
   "outputs": [],
   "source": [
    "# again: that is not a view, it is a copy:\n",
    "\n",
    "x[(2,2,2),].base"
   ]
  },
  {
   "cell_type": "markdown",
   "id": "e078f8b9",
   "metadata": {},
   "source": [
    "Other array-like elements that cause advanced indexing are:\n",
    "- Python lists: `x[[0, 2]]`\n",
    "- NumPy arrays: `x[np.array([0, 2])]`\n",
    "- Boolean arrays: `x[np.array([True, False, True])]`\n",
    "- Tuples of arrays: `x[[0,1],[1,0]]` (selects multiple points)"
   ]
  },
  {
   "cell_type": "code",
   "execution_count": 65,
   "id": "925963eb",
   "metadata": {},
   "outputs": [
    {
     "data": {
      "text/plain": [
       "array([7, 7, 4, 2])"
      ]
     },
     "execution_count": 65,
     "metadata": {},
     "output_type": "execute_result"
    }
   ],
   "source": [
    "# example of advanced indexing using integers arrays (could be numpy arrays or lists\n",
    "# containing integers that get interpreted as indexes)\n",
    "\n",
    "x = np.arange(10, 1, -1)\n",
    "x # array([10,  9,  8,  7,  6,  5,  4,  3,  2])\n",
    "\n",
    "x[np.array([3, 3, 1, 8])] # array([7, 7, 9, 2])\n",
    "\n",
    "x[np.array([3, 3, -3, 8])] # array([7, 7, 4, 2])\n",
    "\n",
    "# the advanced indexing element here is that all these elements get selected from *the same* axis"
   ]
  },
  {
   "cell_type": "code",
   "execution_count": 76,
   "id": "3865875a",
   "metadata": {},
   "outputs": [
    {
     "data": {
      "text/plain": [
       "array([[3, 4],\n",
       "       [5, 6]])"
      ]
     },
     "execution_count": 76,
     "metadata": {},
     "output_type": "execute_result"
    }
   ],
   "source": [
    "# 2d example\n",
    "x = np.array([[1, 2], [3, 4], [5, 6]])\n",
    "x \n",
    "# array([[1, 2],\n",
    "#        [3, 4],\n",
    "#        [5, 6]])\n",
    "\n",
    "x[np.array([1, -1])] \n",
    "# takes two elements (the element on position 1 and the element on position -1) from\n",
    "# axis 0 (rows)"
   ]
  },
  {
   "cell_type": "code",
   "execution_count": 89,
   "id": "09a15b97",
   "metadata": {},
   "outputs": [
    {
     "data": {
      "text/plain": [
       "array([ 0, 15, 30])"
      ]
     },
     "execution_count": 89,
     "metadata": {},
     "output_type": "execute_result"
    }
   ],
   "source": [
    "y = np.arange(35).reshape(5, 7)\n",
    "y\n",
    "# array([[ 0,  1,  2,  3,  4,  5,  6],\n",
    "#        [ 7,  8,  9, 10, 11, 12, 13],\n",
    "#        [14, 15, 16, 17, 18, 19, 20],\n",
    "#        [21, 22, 23, 24, 25, 26, 27],\n",
    "#        [28, 29, 30, 31, 32, 33, 34]])\n",
    "\n",
    "y[np.array([0, 2, 4]), np.array([0, 1, 2])] \n",
    "# first index is for axis 0 (row), second for axis 1 (column)"
   ]
  },
  {
   "cell_type": "code",
   "execution_count": 90,
   "id": "8a2b0091",
   "metadata": {},
   "outputs": [
    {
     "ename": "IndexError",
     "evalue": "shape mismatch: indexing arrays could not be broadcast together with shapes (3,) (2,) ",
     "output_type": "error",
     "traceback": [
      "\u001b[31m---------------------------------------------------------------------------\u001b[39m",
      "\u001b[31mIndexError\u001b[39m                                Traceback (most recent call last)",
      "\u001b[36mCell\u001b[39m\u001b[36m \u001b[39m\u001b[32mIn[90]\u001b[39m\u001b[32m, line 4\u001b[39m\n\u001b[32m      1\u001b[39m \u001b[38;5;66;03m# if the index arrays don't have the same shape, they cannot be broadcast together and\u001b[39;00m\n\u001b[32m      2\u001b[39m \u001b[38;5;66;03m# we get an error:\u001b[39;00m\n\u001b[32m----> \u001b[39m\u001b[32m4\u001b[39m \u001b[43my\u001b[49m\u001b[43m[\u001b[49m\u001b[43mnp\u001b[49m\u001b[43m.\u001b[49m\u001b[43marray\u001b[49m\u001b[43m(\u001b[49m\u001b[43m[\u001b[49m\u001b[32;43m0\u001b[39;49m\u001b[43m,\u001b[49m\u001b[43m \u001b[49m\u001b[32;43m2\u001b[39;49m\u001b[43m,\u001b[49m\u001b[43m \u001b[49m\u001b[32;43m4\u001b[39;49m\u001b[43m]\u001b[49m\u001b[43m)\u001b[49m\u001b[43m,\u001b[49m\u001b[43m \u001b[49m\u001b[43mnp\u001b[49m\u001b[43m.\u001b[49m\u001b[43marray\u001b[49m\u001b[43m(\u001b[49m\u001b[43m[\u001b[49m\u001b[32;43m0\u001b[39;49m\u001b[43m,\u001b[49m\u001b[43m \u001b[49m\u001b[32;43m1\u001b[39;49m\u001b[43m]\u001b[49m\u001b[43m)\u001b[49m\u001b[43m]\u001b[49m\n",
      "\u001b[31mIndexError\u001b[39m: shape mismatch: indexing arrays could not be broadcast together with shapes (3,) (2,) "
     ]
    }
   ],
   "source": [
    "# if the index arrays don't have the same shape, they cannot be broadcast together and\n",
    "# we get an error:\n",
    "\n",
    "y[np.array([0, 2, 4]), np.array([0, 1])]"
   ]
  },
  {
   "cell_type": "code",
   "execution_count": null,
   "id": "22bb24e8",
   "metadata": {},
   "outputs": [
    {
     "data": {
      "text/plain": [
       "array([ 1, 15, 29])"
      ]
     },
     "execution_count": 91,
     "metadata": {},
     "output_type": "execute_result"
    }
   ],
   "source": [
    "# but a scalar could also be broadcast:\n",
    "\n",
    "y[np.array([0, 2, 4]), 1] # here 1 is broadcast to all the columns"
   ]
  },
  {
   "cell_type": "code",
   "execution_count": 93,
   "id": "51bdab06",
   "metadata": {},
   "outputs": [
    {
     "data": {
      "text/plain": [
       "array([[ 0, 15, 30]])"
      ]
     },
     "execution_count": 93,
     "metadata": {},
     "output_type": "execute_result"
    }
   ],
   "source": [
    "# let's try the same with an additional dimension\n",
    "y = np.arange(35).reshape(5, 7)\n",
    "y = y[np.newaxis, :, :]\n",
    "y\n",
    "# array([[[ 0,  1,  2,  3,  4,  5,  6],\n",
    "#         [ 7,  8,  9, 10, 11, 12, 13],\n",
    "#         [14, 15, 16, 17, 18, 19, 20],\n",
    "#         [21, 22, 23, 24, 25, 26, 27],\n",
    "#         [28, 29, 30, 31, 32, 33, 34]]])\n",
    "\n",
    "y[:, np.array([0, 2, 4]), np.array([0, 1, 2])] \n",
    "# first index is for axis 0 (batch), where we just select all, second index is for axis\n",
    "# 1 (row), third for axis 2 (column)"
   ]
  },
  {
   "cell_type": "code",
   "execution_count": null,
   "id": "73679f2b",
   "metadata": {},
   "outputs": [
    {
     "data": {
      "text/plain": [
       "array([[[ 0,  1,  2,  3,  4,  5,  6],\n",
       "        [14, 15, 16, 17, 18, 19, 20],\n",
       "        [28, 29, 30, 31, 32, 33, 34]]])"
      ]
     },
     "execution_count": 97,
     "metadata": {},
     "output_type": "execute_result"
    }
   ],
   "source": [
    "# we can also only partially index an array with advanced indexing\n",
    "\n",
    "y[:, np.array([0, 2, 4])] \n",
    "# only indexes rows (using all the batches), but leaves out the columns (meaning we use all of them)"
   ]
  },
  {
   "cell_type": "code",
   "execution_count": null,
   "id": "26da1fde",
   "metadata": {},
   "outputs": [
    {
     "data": {
      "text/plain": [
       "array([1, 4, 5])"
      ]
     },
     "execution_count": 98,
     "metadata": {},
     "output_type": "execute_result"
    }
   ],
   "source": [
    "# fancy indexing\n",
    "# (selecting specific elements)\n",
    "\n",
    "x = np.array([[1, 2], [3, 4], [5, 6]])\n",
    "x[[0, 1, 2], [0, 1, 0]] \n",
    "# [0, 1, 2] means row 0, row 1, row 2 \n",
    "# [0, 1, 0] means column 0, column 1, column 0"
   ]
  },
  {
   "cell_type": "code",
   "execution_count": null,
   "id": "e3af1d9f",
   "metadata": {},
   "outputs": [],
   "source": []
  }
 ],
 "metadata": {
  "kernelspec": {
   "display_name": "playground",
   "language": "python",
   "name": "python3"
  },
  "language_info": {
   "codemirror_mode": {
    "name": "ipython",
    "version": 3
   },
   "file_extension": ".py",
   "mimetype": "text/x-python",
   "name": "python",
   "nbconvert_exporter": "python",
   "pygments_lexer": "ipython3",
   "version": "3.12.2"
  }
 },
 "nbformat": 4,
 "nbformat_minor": 5
}
