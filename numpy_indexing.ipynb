{
 "cells": [
  {
   "cell_type": "markdown",
   "id": "3e5a075f",
   "metadata": {},
   "source": [
    "## NumPy fundamentals\n",
    "\n",
    "Here, I'm working through several parts of the numpy docs and make sense of it. Covered: <br>\n",
    "     - [Indexing on ndarrays](https://numpy.org/doc/stable/user/basics.indexing.html) <br>\n",
    "\n",
    "### Indexing on `ndarrays`\n",
    "- the three kinds of indexing are basic indexing, advanced indexing and field access\n",
    "\n",
    "#### Basic indexing"
   ]
  },
  {
   "cell_type": "code",
   "execution_count": 1,
   "id": "099b0948",
   "metadata": {},
   "outputs": [
    {
     "data": {
      "text/plain": [
       "array([0, 1, 2, 3, 4, 5, 6, 7, 8, 9])"
      ]
     },
     "execution_count": 1,
     "metadata": {},
     "output_type": "execute_result"
    }
   ],
   "source": [
    "import numpy as np\n",
    "x = np.arange(10)\n",
    "x"
   ]
  },
  {
   "cell_type": "code",
   "execution_count": 2,
   "id": "d5474871",
   "metadata": {},
   "outputs": [
    {
     "data": {
      "text/plain": [
       "array([[0, 1, 2, 3, 4],\n",
       "       [5, 6, 7, 8, 9]])"
      ]
     },
     "execution_count": 2,
     "metadata": {},
     "output_type": "execute_result"
    }
   ],
   "source": [
    "x.shape = (2, 5)  # now x is 2-dimensional\n",
    "x"
   ]
  },
  {
   "cell_type": "code",
   "execution_count": 4,
   "id": "b7bc295b",
   "metadata": {},
   "outputs": [
    {
     "data": {
      "text/plain": [
       "np.True_"
      ]
     },
     "execution_count": 4,
     "metadata": {},
     "output_type": "execute_result"
    }
   ],
   "source": [
    "# these are the same, x[0,-1] is however more efficient, because the extraction happens\n",
    "# in the same operation\n",
    "\n",
    "x[0][-1] == x[0,-1]"
   ]
  },
  {
   "cell_type": "code",
   "execution_count": null,
   "id": "12d6bde0",
   "metadata": {},
   "outputs": [
    {
     "data": {
      "text/plain": [
       "array([0, 1, 2, 3, 4])"
      ]
     },
     "execution_count": 5,
     "metadata": {},
     "output_type": "execute_result"
    }
   ],
   "source": [
    "# indexing a multidimensional array with fewer indices than dimensions, we get a\n",
    "# subdimensional array\n",
    "\n",
    "x[0] #  that's a view on the array x"
   ]
  },
  {
   "cell_type": "code",
   "execution_count": null,
   "id": "42c3f059",
   "metadata": {},
   "outputs": [
    {
     "data": {
      "text/plain": [
       "array([5, 6, 7, 8, 9])"
      ]
     },
     "execution_count": 9,
     "metadata": {},
     "output_type": "execute_result"
    }
   ],
   "source": [
    "# slicing goes [start:stop:step]\n",
    "\n",
    "x = np.array([0, 1, 2, 3, 4, 5, 6, 7, 8, 9])\n",
    "\n",
    "x[1:7:2] # array([1, 3, 5])\n",
    "x[-2:10] # array([8, 9])\n",
    "x[-3:3:-1] # array([7, 6, 5, 4])\n",
    "x[5:] # array([5, 6, 7, 8, 9])"
   ]
  },
  {
   "cell_type": "code",
   "execution_count": null,
   "id": "f4344382",
   "metadata": {},
   "outputs": [
    {
     "data": {
      "text/plain": [
       "array([[[4],\n",
       "        [5],\n",
       "        [6]]])"
      ]
     },
     "execution_count": 13,
     "metadata": {},
     "output_type": "execute_result"
    }
   ],
   "source": [
    "# if the number of objects in the selection tuple is less than the number of the\n",
    "# dimensions, then `:` (or `np.newaxis`) is assumed for any subsequent dimensions:\n",
    "\n",
    "x = np.array([[[1],[2],[3]], [[4],[5],[6]]])\n",
    "x.shape # (2, 3, 1)\n",
    "x[1:2] \n",
    "# here we are giving giving just one index (a slice on axis 0), and not saying anything\n",
    "# about axes 1 and 2, which are filled up with `:` (like `x[1:2, :, :]`)"
   ]
  },
  {
   "cell_type": "code",
   "execution_count": null,
   "id": "e0869e22",
   "metadata": {},
   "outputs": [
    {
     "data": {
      "text/plain": [
       "(2, 3, 1)"
      ]
     },
     "execution_count": 23,
     "metadata": {},
     "output_type": "execute_result"
    }
   ],
   "source": [
    "# note on dimensions and axis:\n",
    "\n",
    "x = np.array([[[1],[2],[3]], [[4],[5],[6]]])\n",
    "x \n",
    "#  array([[[1],\n",
    "#         [2],\n",
    "#         [3]],\n",
    "# \n",
    "#        [[4],\n",
    "#         [5],\n",
    "#         [6]]])\n",
    "\n",
    "x.shape # (2, 3, 1)\n",
    "\n",
    "# the axis are read from the outside to the inside:\n",
    "# axis 0 contains 2 lists, thus x.shape[0] = 2\n",
    "# axis 1 contains 3 lists, thus x.shape[1] = 3\n",
    "# axis 3 contains 1 element, thus x.shape[2] = 1\n",
    "\n",
    "# a more visual-friendly way to write this down is:\n",
    "# [\n",
    "#   [[1], [2], [3]],\n",
    "#   [[4], [5], [6]]\n",
    "# ]\n",
    "\n",
    "# another way to think of this is that the outmost axis is the lastest to join the game:\n",
    "\n",
    "# axis 0  (Depth / \"stack\"): the outermost list — 2 blocks → x[0], x[1]\n",
    "# axis 1 (Rows): inside each block, 3 rows → x[0][0], x[0][1], x[0][2]\n",
    "# axis 2 (Columns): each row has 1 column → x[0][0][0] is the number 1"
   ]
  },
  {
   "cell_type": "code",
   "execution_count": 24,
   "id": "abbe86a9",
   "metadata": {},
   "outputs": [
    {
     "data": {
      "text/plain": [
       "array([[ True,  True,  True],\n",
       "       [ True,  True,  True]])"
      ]
     },
     "execution_count": 24,
     "metadata": {},
     "output_type": "execute_result"
    }
   ],
   "source": [
    "x[..., 0] == x[:, : , 0]"
   ]
  },
  {
   "cell_type": "code",
   "execution_count": null,
   "id": "7ec93010",
   "metadata": {},
   "outputs": [
    {
     "data": {
      "text/plain": [
       "(2, 1, 3, 1)"
      ]
     },
     "execution_count": 25,
     "metadata": {},
     "output_type": "execute_result"
    }
   ],
   "source": [
    "# newaxis and None can be use to add a new axis; the result is a view on x\n",
    "\n",
    "x[:, np.newaxis, :, :].shape"
   ]
  },
  {
   "cell_type": "code",
   "execution_count": null,
   "id": "187cb6f2",
   "metadata": {},
   "outputs": [
    {
     "data": {
      "text/plain": [
       "(2, 3, 1)"
      ]
     },
     "execution_count": 27,
     "metadata": {},
     "output_type": "execute_result"
    }
   ],
   "source": [
    "x.shape # x still stays the same then ..."
   ]
  },
  {
   "cell_type": "code",
   "execution_count": 37,
   "id": "58b69f13",
   "metadata": {},
   "outputs": [
    {
     "data": {
      "text/plain": [
       "array([[0, 1, 2, 3, 4],\n",
       "       [1, 2, 3, 4, 5],\n",
       "       [2, 3, 4, 5, 6],\n",
       "       [3, 4, 5, 6, 7],\n",
       "       [4, 5, 6, 7, 8]])"
      ]
     },
     "execution_count": 37,
     "metadata": {},
     "output_type": "execute_result"
    }
   ],
   "source": [
    "x = np.arange(5)\n",
    "\n",
    "x # array([0, 1, 2, 3, 4])\n",
    "x[:, np.newaxis]\n",
    "# array([[0],\n",
    "#        [1],\n",
    "#        [2],\n",
    "#        [3],\n",
    "#        [4]])\n",
    "\n",
    "x[np.newaxis, :] # array([[0, 1, 2, 3, 4]])\n",
    "\n",
    "x[:, np.newaxis] + x[np.newaxis, :]"
   ]
  },
  {
   "cell_type": "markdown",
   "id": "a81a77e5",
   "metadata": {},
   "source": [
    "#### Advanced indexing\n",
    "- different indexing mechanism\n",
    "- triggered when the selection object (the thing in the squared brackets) is a non-tuple\n",
    "  sequence object, an ndarray (of data type integer or bool), or a tuple with at least\n",
    "  one sequence object or ndarray (of data type integer or bool)\n",
    "- always returns a copy\n",
    "\n",
    "Warning from the docs: `x[(1, 2, 3),]` (advanced indexing) is fundamentally different than `x[(1, 2, 3)]` (basic indexing)! 🤯"
   ]
  },
  {
   "cell_type": "code",
   "execution_count": 43,
   "id": "bfb659fa",
   "metadata": {},
   "outputs": [
    {
     "data": {
      "text/plain": [
       "array([[[18, 19, 20],\n",
       "        [21, 22, 23],\n",
       "        [24, 25, 26]],\n",
       "\n",
       "       [[18, 19, 20],\n",
       "        [21, 22, 23],\n",
       "        [24, 25, 26]],\n",
       "\n",
       "       [[18, 19, 20],\n",
       "        [21, 22, 23],\n",
       "        [24, 25, 26]]])"
      ]
     },
     "execution_count": 43,
     "metadata": {},
     "output_type": "execute_result"
    }
   ],
   "source": [
    "# let's try this out:\n",
    "x = np.arange(27).reshape(3,3,3)\n",
    "\n",
    "# basic indexing\n",
    "x[(2,2,2)]\n",
    "# np.int64(26)\n",
    "\n",
    "# advanced indexing\n",
    "x[(2,2,2),]"
   ]
  },
  {
   "cell_type": "markdown",
   "id": "b1f4e97d",
   "metadata": {},
   "source": [
    "😱 :scream:\n",
    "\n",
    "`x[(2,2,2),]` gets interpreted as repeated access to the element at index 2 at the outmost axis"
   ]
  },
  {
   "cell_type": "code",
   "execution_count": 42,
   "id": "2fa1f6d3",
   "metadata": {},
   "outputs": [
    {
     "data": {
      "text/plain": [
       "array([[[ 0,  1,  2],\n",
       "        [ 3,  4,  5],\n",
       "        [ 6,  7,  8]],\n",
       "\n",
       "       [[ 9, 10, 11],\n",
       "        [12, 13, 14],\n",
       "        [15, 16, 17]],\n",
       "\n",
       "       [[18, 19, 20],\n",
       "        [21, 22, 23],\n",
       "        [24, 25, 26]]])"
      ]
     },
     "execution_count": 42,
     "metadata": {},
     "output_type": "execute_result"
    }
   ],
   "source": [
    "x"
   ]
  },
  {
   "cell_type": "code",
   "execution_count": null,
   "id": "9ad47964",
   "metadata": {},
   "outputs": [],
   "source": []
  }
 ],
 "metadata": {
  "kernelspec": {
   "display_name": "playground",
   "language": "python",
   "name": "python3"
  },
  "language_info": {
   "codemirror_mode": {
    "name": "ipython",
    "version": 3
   },
   "file_extension": ".py",
   "mimetype": "text/x-python",
   "name": "python",
   "nbconvert_exporter": "python",
   "pygments_lexer": "ipython3",
   "version": "3.12.2"
  }
 },
 "nbformat": 4,
 "nbformat_minor": 5
}
