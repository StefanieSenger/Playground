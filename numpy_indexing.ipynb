{
 "cells": [
  {
   "cell_type": "markdown",
   "id": "3e5a075f",
   "metadata": {},
   "source": [
    "## NumPy fundamentals\n",
    "\n",
    "Here, I work through some parts of the numpy docs and make sense of it by trying code and asking LLMs for more detailed reasons for why things are as they are. Covered docs: <br>\n",
    "     - [Indexing on ndarrays](https://numpy.org/doc/stable/user/basics.indexing.html) <br>\n",
    "     - [np.xi_](https://numpy.org/doc/stable/reference/generated/numpy.ix_.html#numpy.ix_) <br>\n",
    "     - [Indexing routines](https://numpy.org/doc/stable/reference/routines.indexing.html#routines-indexing)"
   ]
  },
  {
   "cell_type": "markdown",
   "id": "0caf5a9d",
   "metadata": {},
   "source": [
    "#### Shape, size and dimension\n",
    "- dimensions (`ndim` attribute) is the number of axes (levels of indexing) in the array.\n",
    "- the shape (`shape` attribute) is a tuple representing the size in each dimension\n",
    "- the size (`size` attribute) is the number of elements in an array / part of the array\n"
   ]
  },
  {
   "cell_type": "code",
   "execution_count": null,
   "id": "2204f842",
   "metadata": {},
   "outputs": [
    {
     "data": {
      "text/plain": [
       "6"
      ]
     },
     "execution_count": 57,
     "metadata": {},
     "output_type": "execute_result"
    }
   ],
   "source": [
    "import numpy as np\n",
    "a = np.array([[1, 2, 3], [4, 5, 6]])\n",
    "a\n",
    "# array([[1, 2, 3],\n",
    "#        [4, 5, 6]])\n",
    "\n",
    "a.ndim # 2\n",
    "a.shape # (2, 3)\n",
    "a.size # 6"
   ]
  },
  {
   "cell_type": "markdown",
   "id": "70e42977",
   "metadata": {},
   "source": [
    "### Indexing on `ndarrays`\n",
    "- the three kinds of indexing are basic indexing, advanced indexing and field access\n",
    "\n",
    "#### Basic indexing"
   ]
  },
  {
   "cell_type": "code",
   "execution_count": 52,
   "id": "099b0948",
   "metadata": {},
   "outputs": [
    {
     "data": {
      "text/plain": [
       "array([[0, 1, 2, 3, 4],\n",
       "       [5, 6, 7, 8, 9]])"
      ]
     },
     "execution_count": 52,
     "metadata": {},
     "output_type": "execute_result"
    }
   ],
   "source": [
    "x = np.arange(10)\n",
    "x # array([0, 1, 2, 3, 4, 5, 6, 7, 8, 9])\n",
    "\n",
    "x.shape = (2, 5)  # now x is 2-dimensional\n",
    "x"
   ]
  },
  {
   "cell_type": "code",
   "execution_count": null,
   "id": "b7bc295b",
   "metadata": {},
   "outputs": [
    {
     "data": {
      "text/plain": [
       "np.True_"
      ]
     },
     "execution_count": 4,
     "metadata": {},
     "output_type": "execute_result"
    }
   ],
   "source": [
    "# these are the same:\n",
    "\n",
    "x[0][-1] == x[0,-1]\n",
    "\n",
    "# x[0,-1] is however more efficient, because the extraction happens in the same\n",
    "# operation"
   ]
  },
  {
   "cell_type": "code",
   "execution_count": 45,
   "id": "12d6bde0",
   "metadata": {},
   "outputs": [
    {
     "data": {
      "text/plain": [
       "(5,)"
      ]
     },
     "execution_count": 45,
     "metadata": {},
     "output_type": "execute_result"
    }
   ],
   "source": [
    "# indexing a multidimensional array with fewer indices than dimensions, we get a\n",
    "# subdimensional array\n",
    "\n",
    "# that's a view on the array x\n",
    "x[0] # array([0, 1, 2, 3, 4])\n",
    "\n",
    "x[0].shape\n"
   ]
  },
  {
   "cell_type": "code",
   "execution_count": null,
   "id": "42c3f059",
   "metadata": {},
   "outputs": [
    {
     "data": {
      "text/plain": [
       "array([5, 6, 7, 8, 9])"
      ]
     },
     "execution_count": 9,
     "metadata": {},
     "output_type": "execute_result"
    }
   ],
   "source": [
    "# slicing goes [start:stop:step]\n",
    "\n",
    "x = np.array([0, 1, 2, 3, 4, 5, 6, 7, 8, 9])\n",
    "\n",
    "x[1:7:2] # array([1, 3, 5])\n",
    "x[-2:10] # array([8, 9])\n",
    "x[-3:3:-1] # array([7, 6, 5, 4])\n",
    "x[5:] # array([5, 6, 7, 8, 9])"
   ]
  },
  {
   "cell_type": "code",
   "execution_count": 49,
   "id": "f4344382",
   "metadata": {},
   "outputs": [
    {
     "data": {
      "text/plain": [
       "array([[[4],\n",
       "        [5],\n",
       "        [6]]])"
      ]
     },
     "execution_count": 49,
     "metadata": {},
     "output_type": "execute_result"
    }
   ],
   "source": [
    "# if the number of objects in the selection tuple is less than the number of the\n",
    "# dimensions, then `:` (or `np.newaxis`) is assumed for any subsequent dimensions:\n",
    "\n",
    "x = np.array([[[1],[2],[3]], [[4],[5],[6]]])\n",
    "x.shape # (2, 3, 1)\n",
    "x[1:2] \n",
    "# here we are giving just one index (a slice on axis 0), and not saying anything about\n",
    "# axes 1 and 2, which are filled up with `:` (like it was `x[1:2, :, :]`)"
   ]
  },
  {
   "cell_type": "code",
   "execution_count": null,
   "id": "b04950e8",
   "metadata": {},
   "outputs": [
    {
     "data": {
      "text/plain": [
       "array([[[ True],\n",
       "        [ True],\n",
       "        [ True]]])"
      ]
     },
     "execution_count": 51,
     "metadata": {},
     "output_type": "execute_result"
    }
   ],
   "source": [
    "# equally, consider the ellipsis, that stands for several colons\n",
    "x[1:2, :, :] == x[1:2, ...]"
   ]
  },
  {
   "cell_type": "code",
   "execution_count": null,
   "id": "e0869e22",
   "metadata": {},
   "outputs": [
    {
     "data": {
      "text/plain": [
       "(2, 3, 1)"
      ]
     },
     "execution_count": 23,
     "metadata": {},
     "output_type": "execute_result"
    }
   ],
   "source": [
    "# note on dimensions and axis:\n",
    "\n",
    "x = np.array([[[1],[2],[3]], [[4],[5],[6]]])\n",
    "x \n",
    "#  array([[[1],\n",
    "#         [2],\n",
    "#         [3]],\n",
    "# \n",
    "#        [[4],\n",
    "#         [5],\n",
    "#         [6]]])\n",
    "\n",
    "x.shape # (2, 3, 1)\n",
    "\n",
    "# the axis are read from the outside to the inside:\n",
    "# axis 0 contains 2 lists, thus `x.shape[0]` is 2\n",
    "# axis 1 contains 3 lists, thus `x.shape[1]` is 3\n",
    "# axis 3 contains 1 element, thus `x.shape[2]` is 1\n",
    "\n",
    "# a more visual-friendly way to write this down is:\n",
    "# [\n",
    "#   [[1], [2], [3]],\n",
    "#   [[4], [5], [6]]\n",
    "# ]\n",
    "\n",
    "# another way to think of this is that the outmost axis is the lastest to join the game:\n",
    "\n",
    "# axis 0  (Depth / \"stack\"): the outermost list — 2 blocks → x[0], x[1]\n",
    "# axis 1 (Rows): inside each block, 3 rows → x[0][0], x[0][1], x[0][2]\n",
    "# axis 2 (Columns): each row has 1 column → x[0][0][0] is the number 1"
   ]
  },
  {
   "cell_type": "code",
   "execution_count": null,
   "id": "7ec93010",
   "metadata": {},
   "outputs": [
    {
     "data": {
      "text/plain": [
       "(2, 1, 3, 1)"
      ]
     },
     "execution_count": 25,
     "metadata": {},
     "output_type": "execute_result"
    }
   ],
   "source": [
    "# newaxis and None can be used to add a new axis; the result is a view on x (note:\n",
    "# np.newaxis is actually just an alias for None)\n",
    "\n",
    "x[:, np.newaxis, :, :].shape"
   ]
  },
  {
   "cell_type": "code",
   "execution_count": null,
   "id": "187cb6f2",
   "metadata": {},
   "outputs": [
    {
     "data": {
      "text/plain": [
       "(2, 3, 1)"
      ]
     },
     "execution_count": 27,
     "metadata": {},
     "output_type": "execute_result"
    }
   ],
   "source": [
    "x.shape # x still stays the same then ..."
   ]
  },
  {
   "cell_type": "code",
   "execution_count": null,
   "id": "58b69f13",
   "metadata": {},
   "outputs": [
    {
     "data": {
      "text/plain": [
       "array([[0, 1, 2, 3, 4],\n",
       "       [1, 2, 3, 4, 5],\n",
       "       [2, 3, 4, 5, 6],\n",
       "       [3, 4, 5, 6, 7],\n",
       "       [4, 5, 6, 7, 8]])"
      ]
     },
     "execution_count": 37,
     "metadata": {},
     "output_type": "execute_result"
    }
   ],
   "source": [
    "x = np.arange(5)\n",
    "\n",
    "x # array([0, 1, 2, 3, 4])\n",
    "\n",
    "x[:, np.newaxis] # adds new axis on the inside\n",
    "# array([[0],\n",
    "#        [1],\n",
    "#        [2],\n",
    "#        [3],\n",
    "#        [4]])\n",
    "\n",
    "x[np.newaxis, :]  # adds new axis from the outside\n",
    "# array([[0, 1, 2, 3, 4]])\n",
    "\n",
    "x[:, np.newaxis] + x[np.newaxis, :] # performs broadcasting (adding arrays of shape (5, 1) and (1, 5))"
   ]
  },
  {
   "cell_type": "markdown",
   "id": "a81a77e5",
   "metadata": {},
   "source": [
    "#### Advanced indexing\n",
    "- different indexing mechanism\n",
    "- triggered when the selection object (the thing in the squared brackets) is a non-tuple\n",
    "  sequence object, an ndarray (of data type integer or bool), or a tuple with at least\n",
    "  one sequence object or ndarray (of data type integer or bool)\n",
    "- always returns a copy\n",
    "\n",
    "Warning from the docs: `x[(1, 2, 3),]` (advanced indexing) is fundamentally different than `x[(1, 2, 3)]` (basic indexing)! 🤯"
   ]
  },
  {
   "cell_type": "code",
   "execution_count": 69,
   "id": "bfb659fa",
   "metadata": {},
   "outputs": [
    {
     "data": {
      "text/plain": [
       "array([[[18, 19, 20],\n",
       "        [21, 22, 23],\n",
       "        [24, 25, 26]],\n",
       "\n",
       "       [[18, 19, 20],\n",
       "        [21, 22, 23],\n",
       "        [24, 25, 26]],\n",
       "\n",
       "       [[18, 19, 20],\n",
       "        [21, 22, 23],\n",
       "        [24, 25, 26]]])"
      ]
     },
     "execution_count": 69,
     "metadata": {},
     "output_type": "execute_result"
    }
   ],
   "source": [
    "# let's try this out:\n",
    "x = np.arange(27).reshape(3,3,3)\n",
    "\n",
    "x\n",
    "# array([[[ 0,  1,  2],\n",
    "#         [ 3,  4,  5],\n",
    "#         [ 6,  7,  8]],\n",
    "\n",
    "#        [[ 9, 10, 11],\n",
    "#         [12, 13, 14],\n",
    "#         [15, 16, 17]],\n",
    "\n",
    "#        [[18, 19, 20],\n",
    "#         [21, 22, 23],\n",
    "#         [24, 25, 26]]])\n",
    "\n",
    "# basic indexing\n",
    "x[(2,2,2)]\n",
    "# np.int64(26)\n",
    "\n",
    "# advanced indexing\n",
    "x[(2,2,2),]"
   ]
  },
  {
   "cell_type": "markdown",
   "id": "b1f4e97d",
   "metadata": {},
   "source": [
    "😱 :scream:\n",
    "\n",
    "`x[(2,2,2),]` gets interpreted as repeated access to the element at index 2 at the\n",
    "outmost axis\n",
    "\n",
    "Attempt for an explanation: <br>\n",
    "- `x[(2,2,2)]` basic indexing is a tuple which gets interpreted as one element per\n",
    "  axis, like it was `x[2][2][2]`\n",
    "- `x[(2,2,2),]` is a tuple with one element, and that element is another tuple, which\n",
    "  gets interpreted as an array-like object for advanced indexing: it gets used as a list\n",
    "  of indices along axis 0 (the outmost axis), like it was `x[2], x[2], x[2]` and\n",
    "  returned as a single new array (or put differently, like it was `x[np.array([2,2,2])]`)"
   ]
  },
  {
   "cell_type": "code",
   "execution_count": 71,
   "id": "ffd563f8",
   "metadata": {},
   "outputs": [
    {
     "data": {
      "text/plain": [
       "(array([[18, 19, 20],\n",
       "        [21, 22, 23],\n",
       "        [24, 25, 26]]),\n",
       " array([[18, 19, 20],\n",
       "        [21, 22, 23],\n",
       "        [24, 25, 26]]),\n",
       " array([[18, 19, 20],\n",
       "        [21, 22, 23],\n",
       "        [24, 25, 26]]))"
      ]
     },
     "execution_count": 71,
     "metadata": {},
     "output_type": "execute_result"
    }
   ],
   "source": [
    "# let's try that out\n",
    "\n",
    "x[2], x[2], x[2]\n",
    "\n",
    "#here several arrays are returned, in advanced indexing it is all returnes as a single\n",
    "#array"
   ]
  },
  {
   "cell_type": "code",
   "execution_count": 72,
   "id": "9ad47964",
   "metadata": {},
   "outputs": [
    {
     "data": {
      "text/plain": [
       "array([[[18, 19, 20],\n",
       "        [21, 22, 23],\n",
       "        [24, 25, 26]],\n",
       "\n",
       "       [[18, 19, 20],\n",
       "        [21, 22, 23],\n",
       "        [24, 25, 26]],\n",
       "\n",
       "       [[18, 19, 20],\n",
       "        [21, 22, 23],\n",
       "        [24, 25, 26]]])"
      ]
     },
     "execution_count": 72,
     "metadata": {},
     "output_type": "execute_result"
    }
   ],
   "source": [
    "# let's try that out\n",
    "\n",
    "x[np.array([2,2,2])]"
   ]
  },
  {
   "cell_type": "code",
   "execution_count": null,
   "id": "0ba0dc9e",
   "metadata": {},
   "outputs": [],
   "source": [
    "# again: that is not a view, it is a copy:\n",
    "\n",
    "x[(2,2,2),].base"
   ]
  },
  {
   "cell_type": "markdown",
   "id": "e078f8b9",
   "metadata": {},
   "source": [
    "Other array-like elements that cause advanced indexing are:\n",
    "- Python lists: `x[[0, 2]]`\n",
    "- NumPy arrays: `x[np.array([0, 2])]`\n",
    "- Boolean arrays: `x[np.array([True, False, True])]`\n",
    "- Tuples of arrays: `x[[0,1],[1,0]]` (selects multiple points)"
   ]
  },
  {
   "cell_type": "code",
   "execution_count": 65,
   "id": "925963eb",
   "metadata": {},
   "outputs": [
    {
     "data": {
      "text/plain": [
       "array([7, 7, 4, 2])"
      ]
     },
     "execution_count": 65,
     "metadata": {},
     "output_type": "execute_result"
    }
   ],
   "source": [
    "# example of advanced indexing using integers arrays (could be numpy arrays or lists\n",
    "# containing integers that get interpreted as indexes)\n",
    "\n",
    "x = np.arange(10, 1, -1)\n",
    "x # array([10,  9,  8,  7,  6,  5,  4,  3,  2])\n",
    "\n",
    "x[np.array([3, 3, 1, 8])] # array([7, 7, 9, 2])\n",
    "\n",
    "x[np.array([3, 3, -3, 8])] # array([7, 7, 4, 2])\n",
    "\n",
    "# the advanced indexing element here is that all these elements get selected from *the same* axis"
   ]
  },
  {
   "cell_type": "code",
   "execution_count": 76,
   "id": "3865875a",
   "metadata": {},
   "outputs": [
    {
     "data": {
      "text/plain": [
       "array([[3, 4],\n",
       "       [5, 6]])"
      ]
     },
     "execution_count": 76,
     "metadata": {},
     "output_type": "execute_result"
    }
   ],
   "source": [
    "# 2d example\n",
    "x = np.array([[1, 2], [3, 4], [5, 6]])\n",
    "x \n",
    "# array([[1, 2],\n",
    "#        [3, 4],\n",
    "#        [5, 6]])\n",
    "\n",
    "x[np.array([1, -1])] \n",
    "# takes two elements (the element on position 1 and the element on position -1) from\n",
    "# axis 0 (rows)"
   ]
  },
  {
   "cell_type": "code",
   "execution_count": 89,
   "id": "09a15b97",
   "metadata": {},
   "outputs": [
    {
     "data": {
      "text/plain": [
       "array([ 0, 15, 30])"
      ]
     },
     "execution_count": 89,
     "metadata": {},
     "output_type": "execute_result"
    }
   ],
   "source": [
    "y = np.arange(35).reshape(5, 7)\n",
    "y\n",
    "# array([[ 0,  1,  2,  3,  4,  5,  6],\n",
    "#        [ 7,  8,  9, 10, 11, 12, 13],\n",
    "#        [14, 15, 16, 17, 18, 19, 20],\n",
    "#        [21, 22, 23, 24, 25, 26, 27],\n",
    "#        [28, 29, 30, 31, 32, 33, 34]])\n",
    "\n",
    "y[np.array([0, 2, 4]), np.array([0, 1, 2])] \n",
    "# first index is for axis 0 (row), second for axis 1 (column)"
   ]
  },
  {
   "cell_type": "code",
   "execution_count": 90,
   "id": "8a2b0091",
   "metadata": {},
   "outputs": [
    {
     "ename": "IndexError",
     "evalue": "shape mismatch: indexing arrays could not be broadcast together with shapes (3,) (2,) ",
     "output_type": "error",
     "traceback": [
      "\u001b[31m---------------------------------------------------------------------------\u001b[39m",
      "\u001b[31mIndexError\u001b[39m                                Traceback (most recent call last)",
      "\u001b[36mCell\u001b[39m\u001b[36m \u001b[39m\u001b[32mIn[90]\u001b[39m\u001b[32m, line 4\u001b[39m\n\u001b[32m      1\u001b[39m \u001b[38;5;66;03m# if the index arrays don't have the same shape, they cannot be broadcast together and\u001b[39;00m\n\u001b[32m      2\u001b[39m \u001b[38;5;66;03m# we get an error:\u001b[39;00m\n\u001b[32m----> \u001b[39m\u001b[32m4\u001b[39m \u001b[43my\u001b[49m\u001b[43m[\u001b[49m\u001b[43mnp\u001b[49m\u001b[43m.\u001b[49m\u001b[43marray\u001b[49m\u001b[43m(\u001b[49m\u001b[43m[\u001b[49m\u001b[32;43m0\u001b[39;49m\u001b[43m,\u001b[49m\u001b[43m \u001b[49m\u001b[32;43m2\u001b[39;49m\u001b[43m,\u001b[49m\u001b[43m \u001b[49m\u001b[32;43m4\u001b[39;49m\u001b[43m]\u001b[49m\u001b[43m)\u001b[49m\u001b[43m,\u001b[49m\u001b[43m \u001b[49m\u001b[43mnp\u001b[49m\u001b[43m.\u001b[49m\u001b[43marray\u001b[49m\u001b[43m(\u001b[49m\u001b[43m[\u001b[49m\u001b[32;43m0\u001b[39;49m\u001b[43m,\u001b[49m\u001b[43m \u001b[49m\u001b[32;43m1\u001b[39;49m\u001b[43m]\u001b[49m\u001b[43m)\u001b[49m\u001b[43m]\u001b[49m\n",
      "\u001b[31mIndexError\u001b[39m: shape mismatch: indexing arrays could not be broadcast together with shapes (3,) (2,) "
     ]
    }
   ],
   "source": [
    "# if the index arrays don't have the same shape, they cannot be broadcast together and\n",
    "# we get an error:\n",
    "\n",
    "y[np.array([0, 2, 4]), np.array([0, 1])]"
   ]
  },
  {
   "cell_type": "code",
   "execution_count": null,
   "id": "22bb24e8",
   "metadata": {},
   "outputs": [
    {
     "data": {
      "text/plain": [
       "array([ 1, 15, 29])"
      ]
     },
     "execution_count": 91,
     "metadata": {},
     "output_type": "execute_result"
    }
   ],
   "source": [
    "# but a scalar could also be broadcast:\n",
    "\n",
    "y[np.array([0, 2, 4]), 1] # here 1 is broadcast to all the columns"
   ]
  },
  {
   "cell_type": "code",
   "execution_count": 93,
   "id": "51bdab06",
   "metadata": {},
   "outputs": [
    {
     "data": {
      "text/plain": [
       "array([[ 0, 15, 30]])"
      ]
     },
     "execution_count": 93,
     "metadata": {},
     "output_type": "execute_result"
    }
   ],
   "source": [
    "# let's try the same with an additional dimension\n",
    "y = np.arange(35).reshape(5, 7)\n",
    "y = y[np.newaxis, :, :]\n",
    "y\n",
    "# array([[[ 0,  1,  2,  3,  4,  5,  6],\n",
    "#         [ 7,  8,  9, 10, 11, 12, 13],\n",
    "#         [14, 15, 16, 17, 18, 19, 20],\n",
    "#         [21, 22, 23, 24, 25, 26, 27],\n",
    "#         [28, 29, 30, 31, 32, 33, 34]]])\n",
    "\n",
    "y[:, np.array([0, 2, 4]), np.array([0, 1, 2])] \n",
    "# first index is for axis 0 (batch), where we just select all, second index is for axis\n",
    "# 1 (row), third for axis 2 (column)"
   ]
  },
  {
   "cell_type": "code",
   "execution_count": null,
   "id": "73679f2b",
   "metadata": {},
   "outputs": [
    {
     "data": {
      "text/plain": [
       "array([[[ 0,  1,  2,  3,  4,  5,  6],\n",
       "        [14, 15, 16, 17, 18, 19, 20],\n",
       "        [28, 29, 30, 31, 32, 33, 34]]])"
      ]
     },
     "execution_count": 97,
     "metadata": {},
     "output_type": "execute_result"
    }
   ],
   "source": [
    "# we can also only partially index an array with advanced indexing\n",
    "\n",
    "y[:, np.array([0, 2, 4])] \n",
    "# only indexes rows (using all the batches), but leaves out the columns (meaning we use all of them)"
   ]
  },
  {
   "cell_type": "code",
   "execution_count": null,
   "id": "26da1fde",
   "metadata": {},
   "outputs": [
    {
     "data": {
      "text/plain": [
       "array([1, 4, 5])"
      ]
     },
     "execution_count": 98,
     "metadata": {},
     "output_type": "execute_result"
    }
   ],
   "source": [
    "# fancy indexing\n",
    "# (selecting specific elements)\n",
    "\n",
    "x = np.array([[1, 2], [3, 4], [5, 6]])\n",
    "x[[0, 1, 2], [0, 1, 0]] \n",
    "# [0, 1, 2] means row 0, row 1, row 2 \n",
    "# [0, 1, 0] means column 0, column 1, column 0"
   ]
  },
  {
   "cell_type": "code",
   "execution_count": 100,
   "id": "e3af1d9f",
   "metadata": {},
   "outputs": [
    {
     "data": {
      "text/plain": [
       "array([[1, 2],\n",
       "       [5, 6]])"
      ]
     },
     "execution_count": 100,
     "metadata": {},
     "output_type": "execute_result"
    }
   ],
   "source": [
    "# np.xi_ also allows broadcasting, but it cannot do anything fancy indexing couldn't do:\n",
    "\n",
    "row_indices = np.array([0, 2], dtype=np.intp)\n",
    "column_indices = np.array([0, 1], dtype=np.intp)\n",
    "x[np.ix_(row_indices, column_indices)]"
   ]
  },
  {
   "cell_type": "markdown",
   "id": "45b4f0ff",
   "metadata": {},
   "source": [
    "We talk about boolean indexing, when the object used for indexing has a boolean dtype.\n",
    "- an array object with boolean dtype could be obtained from comparison operators "
   ]
  },
  {
   "cell_type": "code",
   "execution_count": null,
   "id": "89b8f501",
   "metadata": {},
   "outputs": [
    {
     "data": {
      "text/plain": [
       "array([1., 2., 3.])"
      ]
     },
     "execution_count": 101,
     "metadata": {},
     "output_type": "execute_result"
    }
   ],
   "source": [
    "# example: filtering an array\n",
    "\n",
    "x = np.array([[1., 2.], [np.nan, 3.], [np.nan, np.nan]])\n",
    "x[~np.isnan(x)]"
   ]
  },
  {
   "cell_type": "code",
   "execution_count": 102,
   "id": "1e2d95a7",
   "metadata": {},
   "outputs": [
    {
     "data": {
      "text/plain": [
       "array([ 1., 19., 18.,  3.])"
      ]
     },
     "execution_count": 102,
     "metadata": {},
     "output_type": "execute_result"
    }
   ],
   "source": [
    "# example: add constant to all negative elements\n",
    "\n",
    "x = np.array([1., -1., -2., 3])\n",
    "x[x < 0] += 20\n",
    "x"
   ]
  },
  {
   "cell_type": "code",
   "execution_count": null,
   "id": "a74e38cb",
   "metadata": {},
   "outputs": [
    {
     "ename": "IndexError",
     "evalue": "boolean index did not match indexed array along axis 0; size of axis is 4 but size of corresponding boolean axis is 3",
     "output_type": "error",
     "traceback": [
      "\u001b[31m---------------------------------------------------------------------------\u001b[39m",
      "\u001b[31mIndexError\u001b[39m                                Traceback (most recent call last)",
      "\u001b[36mCell\u001b[39m\u001b[36m \u001b[39m\u001b[32mIn[106]\u001b[39m\u001b[32m, line 4\u001b[39m\n\u001b[32m      1\u001b[39m \u001b[38;5;66;03m# let's test what happens if the array and the indexing array don't match shapes\u001b[39;00m\n\u001b[32m      3\u001b[39m x = np.array([\u001b[32m1.\u001b[39m, -\u001b[32m1.\u001b[39m, -\u001b[32m2.\u001b[39m, \u001b[32m3\u001b[39m])\n\u001b[32m----> \u001b[39m\u001b[32m4\u001b[39m \u001b[43mx\u001b[49m\u001b[43m[\u001b[49m\u001b[43mnp\u001b[49m\u001b[43m.\u001b[49m\u001b[43marray\u001b[49m\u001b[43m(\u001b[49m\u001b[43m[\u001b[49m\u001b[38;5;28;43;01mTrue\u001b[39;49;00m\u001b[43m,\u001b[49m\u001b[43m \u001b[49m\u001b[38;5;28;43;01mFalse\u001b[39;49;00m\u001b[43m,\u001b[49m\u001b[43m \u001b[49m\u001b[38;5;28;43;01mFalse\u001b[39;49;00m\u001b[43m]\u001b[49m\u001b[43m)\u001b[49m\u001b[43m]\u001b[49m\n",
      "\u001b[31mIndexError\u001b[39m: boolean index did not match indexed array along axis 0; size of axis is 4 but size of corresponding boolean axis is 3"
     ]
    }
   ],
   "source": [
    "# if the array and the indexing array object don't match shapes\n",
    "\n",
    "x = np.array([1., -1., -2., 3])\n",
    "x[np.array([True, False, False])]\n",
    "\n",
    "# we get an IndexError"
   ]
  },
  {
   "cell_type": "code",
   "execution_count": 112,
   "id": "c540e321",
   "metadata": {},
   "outputs": [
    {
     "data": {
      "text/plain": [
       "array([[ 1., -1.]])"
      ]
     },
     "execution_count": 112,
     "metadata": {},
     "output_type": "execute_result"
    }
   ],
   "source": [
    "# but the indexing array can be applied along an axis (or a subset of axis) as well:\n",
    "\n",
    "x1 = x.reshape(2, -1)\n",
    "x1\n",
    "# array([[ 1., -1.],\n",
    "#        [-2.,  3.]])\n",
    "\n",
    "x1[np.array([True, False])]\n",
    "\n",
    "# if the Boolean array’s shape matches a leading dimension, NumPy will interpret it\n",
    "# along that axis."
   ]
  },
  {
   "cell_type": "code",
   "execution_count": null,
   "id": "45214d29",
   "metadata": {},
   "outputs": [
    {
     "data": {
      "text/plain": [
       "array([1.])"
      ]
     },
     "execution_count": 113,
     "metadata": {},
     "output_type": "execute_result"
    }
   ],
   "source": [
    "# combining integer and boolean indexing\n",
    "\n",
    "x1[0, np.array([True, False])]"
   ]
  },
  {
   "cell_type": "markdown",
   "id": "58224263",
   "metadata": {},
   "source": [
    "This is an example from the docs ([Indexing on ndarrays](https://numpy.org/doc/stable/user/basics.indexing.html)):"
   ]
  },
  {
   "cell_type": "code",
   "execution_count": 119,
   "id": "2664135e",
   "metadata": {},
   "outputs": [
    {
     "data": {
      "text/plain": [
       "array([[21, 22, 23, 24, 25, 26, 27],\n",
       "       [28, 29, 30, 31, 32, 33, 34]])"
      ]
     },
     "execution_count": 119,
     "metadata": {},
     "output_type": "execute_result"
    }
   ],
   "source": [
    "#  combining integer and boolean indexing in a more complex example\n",
    "\n",
    "x = np.arange(35).reshape(5, 7)\n",
    "x\n",
    "# array([[ 0,  1,  2,  3,  4,  5,  6],\n",
    "#        [ 7,  8,  9, 10, 11, 12, 13],\n",
    "#        [14, 15, 16, 17, 18, 19, 20],\n",
    "#        [21, 22, 23, 24, 25, 26, 27],\n",
    "#        [28, 29, 30, 31, 32, 33, 34]])\n",
    "\n",
    "b = x > 20\n",
    "b[:, 5] # only column 5\n",
    "# array([False, False, False,  True,  True])\n",
    "\n",
    "x[b[:, 5]]"
   ]
  },
  {
   "cell_type": "markdown",
   "id": "8ba36548",
   "metadata": {},
   "source": [
    "Here, the information if the values in the 5th column are larger than 20 is then used as\n",
    "an indexing criterium for the rows.\n",
    "\n",
    "I was wondering what the purpose of this is. It seems that pattern is a conditional row\n",
    "filter. ChatGPT explained to me that this pattern is very common in data analytics and\n",
    "gave me the following example:\n",
    "\n",
    "Imagine `x` was a dataset where:\n",
    "- Each row is a person\n",
    "- Each column is a feature (e.g., age, weight, blood pressure...)\n",
    "\n",
    "We could do:\n",
    "\n",
    "x[:, 3] > 100  # people with blood pressure over 100\n",
    "x[x[:, 3] > 100]  # select only those rows (people)\n",
    "\n",
    "That pattern is like saying: “Give me all rows where the value in column col is above\n",
    "threshold.” \n",
    "\n",
    "Now, that makes total sense to me. :)"
   ]
  },
  {
   "cell_type": "code",
   "execution_count": 123,
   "id": "c0929656",
   "metadata": {},
   "outputs": [
    {
     "data": {
      "text/plain": [
       "array([[0, 1],\n",
       "       [1, 1]])"
      ]
     },
     "execution_count": 123,
     "metadata": {},
     "output_type": "execute_result"
    }
   ],
   "source": [
    "# example: from an array, select all rows which sum up to less or equal two:\n",
    "\n",
    "x = np.array([[0, 1], [1, 1], [2, 2]])\n",
    "x\n",
    "# array([[0, 1],\n",
    "#        [1, 1],\n",
    "#        [2, 2]])\n",
    "\n",
    "rowsum = x.sum(-1)\n",
    "rowsum\n",
    "# array([1, 2, 4])\n",
    "\n",
    "x[rowsum <= 2, :]"
   ]
  },
  {
   "cell_type": "code",
   "execution_count": 127,
   "id": "586ad506",
   "metadata": {},
   "outputs": [
    {
     "data": {
      "text/plain": [
       "array([[ 0,  1,  2,  3,  4],\n",
       "       [ 5,  6,  7,  8,  9],\n",
       "       [15, 16, 17, 18, 19],\n",
       "       [25, 26, 27, 28, 29]])"
      ]
     },
     "execution_count": 127,
     "metadata": {},
     "output_type": "execute_result"
    }
   ],
   "source": [
    "# exercise: Use a 2-D boolean array of shape (2, 3) with four True elements to select\n",
    "# rows from a 3-D array of shape (2, 3, 5) results in a 2-D result of shape (4, 5):\n",
    "\n",
    "x = np.arange(30).reshape(2, 3, 5)\n",
    "x\n",
    "# array([[[ 0,  1,  2,  3,  4],\n",
    "#         [ 5,  6,  7,  8,  9],\n",
    "#         [10, 11, 12, 13, 14]],\n",
    "#\n",
    "#        [[15, 16, 17, 18, 19],\n",
    "#         [20, 21, 22, 23, 24],\n",
    "#         [25, 26, 27, 28, 29]]])\n",
    "\n",
    "# the task is to select rows here, there are 6 rows to pick from and we select 4:\n",
    "boolean_array = np.array([True, True, False, True, False, True]).reshape(2, 3)\n",
    "boolean_array\n",
    "# array([[ True,  True, False],\n",
    "#        [ True, False,  True]])\n",
    "\n",
    "x[boolean_array]"
   ]
  },
  {
   "cell_type": "markdown",
   "id": "0e7cc1a7",
   "metadata": {},
   "source": [
    "#### Combining advanced and basic indexing"
   ]
  },
  {
   "cell_type": "code",
   "execution_count": 128,
   "id": "ae682e24",
   "metadata": {},
   "outputs": [
    {
     "data": {
      "text/plain": [
       "array([[ 1,  2],\n",
       "       [15, 16],\n",
       "       [29, 30]])"
      ]
     },
     "execution_count": 128,
     "metadata": {},
     "output_type": "execute_result"
    }
   ],
   "source": [
    "# combining advanced indexing with a slice (from basis indexing):\n",
    "\n",
    "y = np.arange(35).reshape(5,7)\n",
    "y[np.array([0, 2, 4]), 1:3]"
   ]
  },
  {
   "cell_type": "code",
   "execution_count": null,
   "id": "6b031645",
   "metadata": {},
   "outputs": [
    {
     "data": {
      "text/plain": [
       "array([[4],\n",
       "       [5]])"
      ]
     },
     "execution_count": 132,
     "metadata": {},
     "output_type": "execute_result"
    }
   ],
   "source": [
    "# slicing everything possible is preferable, since we don't then create an extra copy:\n",
    "\n",
    "x = np.array([[ 0,  1,  2],\n",
    "              [ 3,  4,  5],\n",
    "              [ 6,  7,  8],\n",
    "              [ 9, 10, 11]])\n",
    "\n",
    "x[1:2, 1:3]\n",
    "# array([[4, 5]])\n",
    "\n",
    "x[1:2, [1, 2]]\n",
    "# array([[4, 5]])\n",
    "\n",
    "# The results are the same, but the slicing is more efficient.\n",
    "\n",
    "x[1:2, 1:3].base\n",
    "# array([[ 0,  1,  2],\n",
    "#        [ 3,  4,  5],\n",
    "#        [ 6,  7,  8],\n",
    "#        [ 9, 10, 11]])\n",
    "\n",
    "x[1:2, [1, 2]].base\n",
    "# array([[4],\n",
    "#        [5]])"
   ]
  },
  {
   "cell_type": "markdown",
   "id": "69bbcfc3",
   "metadata": {},
   "source": [
    "The base of the last line (`x[1:2, [1, 2]].base`) had been surprising to me, since I had\n",
    "expected it was `None`. I found out that while advanced indexing usually returns a copy,\n",
    "that copy - after mixed indexing operations - may itself be a view of some internal\n",
    "temporary buffer — not the original `x`!!! 😵\n",
    "\n",
    "Combining several kinds of indexing also allows to replace one axis with a broadcasted index array -  but honestly: who wants that? That would be a very bad design choice!\n",
    "\n",
    "#### Field access\n",
    "\n",
    "- is a way to access [structured arrays](https://numpy.org/doc/stable/user/basics.rec.html#structured-arrays)\n",
    "- for instance:"
   ]
  },
  {
   "cell_type": "code",
   "execution_count": 133,
   "id": "ef5984be",
   "metadata": {},
   "outputs": [
    {
     "data": {
      "text/plain": [
       "array([('Rex', 9, 81.), ('Fido', 3, 27.)],\n",
       "      dtype=[('name', '<U10'), ('age', '<i4'), ('weight', '<f4')])"
      ]
     },
     "execution_count": 133,
     "metadata": {},
     "output_type": "execute_result"
    }
   ],
   "source": [
    "x = np.array([('Rex', 9, 81.0), ('Fido', 3, 27.0)],\n",
    "             dtype=[('name', 'U10'), ('age', 'i4'), ('weight', 'f4')])\n",
    "x"
   ]
  },
  {
   "cell_type": "code",
   "execution_count": null,
   "id": "d940a0d3",
   "metadata": {},
   "outputs": [
    {
     "data": {
      "text/plain": [
       "array(['Rex', 'Fido'], dtype='<U10')"
      ]
     },
     "execution_count": 134,
     "metadata": {},
     "output_type": "execute_result"
    }
   ],
   "source": [
    "# indexing on the field names returns views on them:\n",
    "x['name']"
   ]
  },
  {
   "cell_type": "markdown",
   "id": "41cee2f0",
   "metadata": {},
   "source": [
    "#### Flat iterator indexing\n",
    "\n",
    "[x.flat](https://numpy.org/doc/stable/reference/generated/numpy.ndarray.flat.html#numpy.ndarray.flat) returns an iterator that will iterate over the entire array:"
   ]
  },
  {
   "cell_type": "code",
   "execution_count": null,
   "id": "26f99f15",
   "metadata": {},
   "outputs": [
    {
     "data": {
      "text/plain": [
       "np.int64(4)"
      ]
     },
     "execution_count": 138,
     "metadata": {},
     "output_type": "execute_result"
    }
   ],
   "source": [
    "x = np.arange(6).reshape(2, 3)\n",
    "x\n",
    "# array([[0, 1, 2],\n",
    "#        [3, 4, 5]])\n",
    "\n",
    "x.flat[3]\n",
    "# np.int64(3)\n",
    "\n",
    "x.T.flat[3]\n",
    "# np.int64(4)\n",
    "\n",
    "# It is a 1-dimensional view."
   ]
  },
  {
   "cell_type": "markdown",
   "id": "80bb4a6a",
   "metadata": {},
   "source": [
    "#### Assigning values to indexed arrays\n",
    "\n",
    "We can select a subset of an array to assign to using a single index, slices, and index and mask arrays. The value being assigned to the indexed array must be shape consistent (the same shape or broadcastable to the shape the index produces). \n",
    "\n",
    "- assignments are always made to the original data (not to a view)"
   ]
  },
  {
   "cell_type": "code",
   "execution_count": 141,
   "id": "9a8d4bf1",
   "metadata": {},
   "outputs": [
    {
     "data": {
      "text/plain": [
       "array([0, 1, 1, 1, 1, 1, 1, 7, 8, 9])"
      ]
     },
     "execution_count": 141,
     "metadata": {},
     "output_type": "execute_result"
    }
   ],
   "source": [
    "# assigning a constant\n",
    "\n",
    "x = np.arange(10)\n",
    "x[2:7] = 1\n",
    "x"
   ]
  },
  {
   "cell_type": "code",
   "execution_count": 142,
   "id": "d93a197c",
   "metadata": {},
   "outputs": [
    {
     "data": {
      "text/plain": [
       "array([0, 1, 0, 1, 2, 3, 4, 7, 8, 9])"
      ]
     },
     "execution_count": 142,
     "metadata": {},
     "output_type": "execute_result"
    }
   ],
   "source": [
    "# assigning an array with the right size\n",
    "\n",
    "x = np.arange(10)\n",
    "x[2:7] = np.arange(5)\n",
    "x"
   ]
  },
  {
   "cell_type": "code",
   "execution_count": null,
   "id": "0c5d253b",
   "metadata": {},
   "outputs": [
    {
     "data": {
      "text/plain": [
       "array([ 0, 11, 20, 31, 40])"
      ]
     },
     "execution_count": 144,
     "metadata": {},
     "output_type": "execute_result"
    }
   ],
   "source": [
    "# surprising example\n",
    "\n",
    "x = np.arange(0, 50, 10)\n",
    "x\n",
    "# array([ 0, 10, 20, 30, 40])\n",
    "\n",
    "x[np.array([1, 1, 3, 1])] += 1\n",
    "x # the +1 is assigned to the first index just once"
   ]
  },
  {
   "cell_type": "markdown",
   "id": "6dce38a1",
   "metadata": {},
   "source": [
    "#### My personal highlight\n",
    "while looking through numpy's docs was the docstring of [np.choose](https://numpy.org/doc/stable/reference/generated/numpy.choose.html#numpy.choose):\n",
    "\n",
    "<font color=\"red\">\n",
    "\n",
    "numpy.choose(a, choices, out=None, mode='raise')\n",
    "\n",
    "Construct an array from an index array and a list of arrays to choose from.\n",
    "\n",
    "First of all, if confused or uncertain, definitely look at the Examples - in its full generality, this function is less simple than it might seem from the following code description:\n",
    "\n",
    "`np.choose(a,c) == np.array([c[a[I]][I] for I in np.ndindex(a.shape)])`\n",
    "\n",
    "... <br>\n",
    "... <br>\n",
    "</font>\n",
    "\n",
    "Just saying ...\n"
   ]
  }
 ],
 "metadata": {
  "kernelspec": {
   "display_name": "playground",
   "language": "python",
   "name": "python3"
  },
  "language_info": {
   "codemirror_mode": {
    "name": "ipython",
    "version": 3
   },
   "file_extension": ".py",
   "mimetype": "text/x-python",
   "name": "python",
   "nbconvert_exporter": "python",
   "pygments_lexer": "ipython3",
   "version": "3.12.2"
  }
 },
 "nbformat": 4,
 "nbformat_minor": 5
}
